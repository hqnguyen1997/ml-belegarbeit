{
 "cells": [
  {
   "cell_type": "markdown",
   "metadata": {},
   "source": [
    "# Bericht und Code zum Beleg Maschinelles Lernen\n",
    "\n",
    "\n",
    "Name: Hong Quan, Nguyen\n",
    "Matrikelnummer: 566212\n",
    "\n",
    "Name: Chanel, Lipski\n",
    "Matrikelnummer:"
   ]
  },
  {
   "cell_type": "markdown",
   "metadata": {},
   "source": [
    "### Gliederung\n",
    "\n",
    "* [Code](#Code)\n",
    "* [Bericht](#Bericht)\n",
    " * [Bewertung der Daten](#Bewertung-der-Daten)\n",
    " * ..\n",
    " * [Evaluation auf der Testmenge](Evaluation-auf-der-Testmenge)\n",
    " * [Literaturverzeichnis](#Literaturverzeichnis)"
   ]
  },
  {
   "cell_type": "code",
   "execution_count": 101,
   "metadata": {},
   "outputs": [],
   "source": [
    "#Importiert alles\n",
    "import pandas as pd\n",
    "import numpy as np\n",
    "import sklearn\n",
    "import nltk\n",
    "\n",
    "\n",
    "from sklearn.pipeline import Pipeline\n",
    "from sklearn.pipeline import FeatureUnion\n",
    "\n",
    "from sklearn.feature_extraction.text import CountVectorizer\n",
    "from sklearn.feature_extraction.text import TfidfVectorizer\n",
    "from sklearn.feature_extraction.text import TfidfTransformer\n",
    "from sklearn.model_selection import train_test_split\n",
    "\n",
    "from sklearn.naive_bayes import MultinomialNB\n",
    "from sklearn.linear_model import LogisticRegression\n",
    "\n",
    "from sklearn.svm import SVC\n",
    "import sklearn.metrics as metrics\n",
    "import matplotlib.pyplot as plt\n",
    "from sklearn import datasets, metrics, model_selection, svm\n",
    "\n",
    "\n",
    "from nltk.stem import SnowballStemmer\n",
    "from nltk.stem import PorterStemmer\n",
    "from nltk.stem import LancasterStemmer\n",
    "from nltk.stem import WordNetLemmatizer \n",
    "from nltk.corpus import wordnet as wn\n",
    "from nltk.corpus import stopwords\n",
    "\n",
    "from sklearn.feature_selection import mutual_info_classif\n",
    "from sklearn.feature_selection import SelectKBest"
   ]
  },
  {
   "cell_type": "code",
   "execution_count": 2,
   "metadata": {},
   "outputs": [],
   "source": [
    "class Tokenizer:\n",
    "    def fit(self,*_):\n",
    "        return self\n",
    "    def transform(self,x,y=None,**fit_params):\n",
    "        tokenized=df.apply(lambda row: nltk.word_tokenize(row['title']+\" \"+row['text'], language='english'), axis=1)\n",
    "        stop_words = set(stopwords.words('english')) \n",
    "        return x.apply(lambda row: [w for w in row['title'] if not w in stop_words], axis=1)\n",
    "        "
   ]
  },
  {
   "cell_type": "code",
   "execution_count": 5,
   "metadata": {},
   "outputs": [],
   "source": [
    "# Die Datei sollte in dem selben Verzeichnis liegen, wie das notebook\n",
    "# bitte den Pfad NICHT ändern, sodass es bei mir gleich durchläuft!\n",
    "df = pd.read_csv('data_beleg.csv', encoding='utf-8')\n",
    "\n",
    "# The column \"label\" is the target variable y which should be predicted"
   ]
  },
  {
   "cell_type": "code",
   "execution_count": 4,
   "metadata": {},
   "outputs": [
    {
     "data": {
      "text/html": [
       "<div>\n",
       "<style scoped>\n",
       "    .dataframe tbody tr th:only-of-type {\n",
       "        vertical-align: middle;\n",
       "    }\n",
       "\n",
       "    .dataframe tbody tr th {\n",
       "        vertical-align: top;\n",
       "    }\n",
       "\n",
       "    .dataframe thead th {\n",
       "        text-align: right;\n",
       "    }\n",
       "</style>\n",
       "<table border=\"1\" class=\"dataframe\">\n",
       "  <thead>\n",
       "    <tr style=\"text-align: right;\">\n",
       "      <th></th>\n",
       "      <th>Unnamed: 0</th>\n",
       "      <th>title</th>\n",
       "      <th>text</th>\n",
       "      <th>label</th>\n",
       "    </tr>\n",
       "  </thead>\n",
       "  <tbody>\n",
       "    <tr>\n",
       "      <th>0</th>\n",
       "      <td>3250</td>\n",
       "      <td>Strawberry Pistachio Crumble A Spicy Perspective</td>\n",
       "      <td>When you re out in the berry patch drinking in...</td>\n",
       "      <td>1</td>\n",
       "    </tr>\n",
       "    <tr>\n",
       "      <th>1</th>\n",
       "      <td>4311</td>\n",
       "      <td>BBC News Study links Parkinson s disease to in...</td>\n",
       "      <td>13 November 2011 Last updated at 23 57 ET By N...</td>\n",
       "      <td>1</td>\n",
       "    </tr>\n",
       "    <tr>\n",
       "      <th>2</th>\n",
       "      <td>6544</td>\n",
       "      <td>Want to know the effect of a nuclear bomb on y...</td>\n",
       "      <td>By Damien Gayle UPDATED 13 12 EST 16 February ...</td>\n",
       "      <td>1</td>\n",
       "    </tr>\n",
       "    <tr>\n",
       "      <th>3</th>\n",
       "      <td>5328</td>\n",
       "      <td>Japanese Nail Art by NeverTooMuchGlitter by Ne...</td>\n",
       "      <td>Check out my featured work in the August Septe...</td>\n",
       "      <td>0</td>\n",
       "    </tr>\n",
       "    <tr>\n",
       "      <th>4</th>\n",
       "      <td>1402</td>\n",
       "      <td>How the New 5 Euro Bill is Made</td>\n",
       "      <td>A new 5 euro note will be circulating starting...</td>\n",
       "      <td>1</td>\n",
       "    </tr>\n",
       "    <tr>\n",
       "      <th>...</th>\n",
       "      <td>...</td>\n",
       "      <td>...</td>\n",
       "      <td>...</td>\n",
       "      <td>...</td>\n",
       "    </tr>\n",
       "    <tr>\n",
       "      <th>4646</th>\n",
       "      <td>2708</td>\n",
       "      <td>Halloween Dessert Recipe Chocolate Abyss hallo...</td>\n",
       "      <td>This delicious dish was created for the M M s ...</td>\n",
       "      <td>0</td>\n",
       "    </tr>\n",
       "    <tr>\n",
       "      <th>4647</th>\n",
       "      <td>6324</td>\n",
       "      <td>eat me delicious Cauliflower Gratin</td>\n",
       "      <td>Looking at this picture I m not sure if you ca...</td>\n",
       "      <td>1</td>\n",
       "    </tr>\n",
       "    <tr>\n",
       "      <th>4648</th>\n",
       "      <td>2777</td>\n",
       "      <td>Unusual Medical Uses For Duct Tape</td>\n",
       "      <td>Duct Tape is possibly the most incredible inve...</td>\n",
       "      <td>1</td>\n",
       "    </tr>\n",
       "    <tr>\n",
       "      <th>4649</th>\n",
       "      <td>1508</td>\n",
       "      <td>Reporter Flips Out from That Happened reporter...</td>\n",
       "      <td>reporter flips out, news blooper, bug, south,...</td>\n",
       "      <td>0</td>\n",
       "    </tr>\n",
       "    <tr>\n",
       "      <th>4650</th>\n",
       "      <td>5336</td>\n",
       "      <td>Top 10 Web 2 0 Startups Taking Over the World</td>\n",
       "      <td>Written By Drew August 22nd 2011 If one looks ...</td>\n",
       "      <td>0</td>\n",
       "    </tr>\n",
       "  </tbody>\n",
       "</table>\n",
       "<p>4651 rows × 4 columns</p>\n",
       "</div>"
      ],
      "text/plain": [
       "      Unnamed: 0                                              title  \\\n",
       "0           3250  Strawberry Pistachio Crumble A Spicy Perspective    \n",
       "1           4311  BBC News Study links Parkinson s disease to in...   \n",
       "2           6544  Want to know the effect of a nuclear bomb on y...   \n",
       "3           5328  Japanese Nail Art by NeverTooMuchGlitter by Ne...   \n",
       "4           1402                   How the New 5 Euro Bill is Made    \n",
       "...          ...                                                ...   \n",
       "4646        2708  Halloween Dessert Recipe Chocolate Abyss hallo...   \n",
       "4647        6324               eat me delicious Cauliflower Gratin    \n",
       "4648        2777                Unusual Medical Uses For Duct Tape    \n",
       "4649        1508  Reporter Flips Out from That Happened reporter...   \n",
       "4650        5336     Top 10 Web 2 0 Startups Taking Over the World    \n",
       "\n",
       "                                                   text  label  \n",
       "0     When you re out in the berry patch drinking in...      1  \n",
       "1     13 November 2011 Last updated at 23 57 ET By N...      1  \n",
       "2     By Damien Gayle UPDATED 13 12 EST 16 February ...      1  \n",
       "3     Check out my featured work in the August Septe...      0  \n",
       "4     A new 5 euro note will be circulating starting...      1  \n",
       "...                                                 ...    ...  \n",
       "4646  This delicious dish was created for the M M s ...      0  \n",
       "4647  Looking at this picture I m not sure if you ca...      1  \n",
       "4648  Duct Tape is possibly the most incredible inve...      1  \n",
       "4649   reporter flips out, news blooper, bug, south,...      0  \n",
       "4650  Written By Drew August 22nd 2011 If one looks ...      0  \n",
       "\n",
       "[4651 rows x 4 columns]"
      ]
     },
     "execution_count": 4,
     "metadata": {},
     "output_type": "execute_result"
    }
   ],
   "source": [
    "df"
   ]
  },
  {
   "cell_type": "markdown",
   "metadata": {},
   "source": [
    "# Bericht\n",
    "\n",
    "## Bewertung der Daten\n",
    "\n",
    "Lorem ipsum dolor sit amet, consetetur sadipscing elitr, sed diam nonumy eirmod tempor invidunt ut labore et dolore magna aliquyam erat, sed diam voluptua. At vero eos et accusam et justo duo dolores et ea rebum. Stet clita kasd gubergren, no sea takimata sanctus est Lorem ipsum dolor sit amet. Lorem ipsum dolor sit amet, consetetur sadipscing elitr, sed diam nonumy eirmod tempor invidunt ut labore et dolore magna aliquyam erat, sed diam voluptua. At vero eos et accusam et justo duo dolores et ea rebum. Stet clita kasd gubergren, no sea takimata sanctus est Lorem ipsum dolor sit amet."
   ]
  },
  {
   "cell_type": "code",
   "execution_count": 83,
   "metadata": {},
   "outputs": [
    {
     "data": {
      "text/html": [
       "<div>\n",
       "<style scoped>\n",
       "    .dataframe tbody tr th:only-of-type {\n",
       "        vertical-align: middle;\n",
       "    }\n",
       "\n",
       "    .dataframe tbody tr th {\n",
       "        vertical-align: top;\n",
       "    }\n",
       "\n",
       "    .dataframe thead th {\n",
       "        text-align: right;\n",
       "    }\n",
       "</style>\n",
       "<table border=\"1\" class=\"dataframe\">\n",
       "  <thead>\n",
       "    <tr style=\"text-align: right;\">\n",
       "      <th></th>\n",
       "      <th>Unnamed: 0</th>\n",
       "      <th>title</th>\n",
       "      <th>text</th>\n",
       "      <th>label</th>\n",
       "    </tr>\n",
       "  </thead>\n",
       "  <tbody>\n",
       "    <tr>\n",
       "      <th>0</th>\n",
       "      <td>3250</td>\n",
       "      <td>Strawberry Pistachio Crumble A Spicy Perspective</td>\n",
       "      <td>When you re out in the berry patch drinking in...</td>\n",
       "      <td>1</td>\n",
       "    </tr>\n",
       "    <tr>\n",
       "      <th>1</th>\n",
       "      <td>4311</td>\n",
       "      <td>BBC News Study links Parkinson s disease to in...</td>\n",
       "      <td>13 November 2011 Last updated at 23 57 ET By N...</td>\n",
       "      <td>1</td>\n",
       "    </tr>\n",
       "    <tr>\n",
       "      <th>2</th>\n",
       "      <td>6544</td>\n",
       "      <td>Want to know the effect of a nuclear bomb on y...</td>\n",
       "      <td>By Damien Gayle UPDATED 13 12 EST 16 February ...</td>\n",
       "      <td>1</td>\n",
       "    </tr>\n",
       "    <tr>\n",
       "      <th>3</th>\n",
       "      <td>5328</td>\n",
       "      <td>Japanese Nail Art by NeverTooMuchGlitter by Ne...</td>\n",
       "      <td>Check out my featured work in the August Septe...</td>\n",
       "      <td>0</td>\n",
       "    </tr>\n",
       "    <tr>\n",
       "      <th>4</th>\n",
       "      <td>1402</td>\n",
       "      <td>How the New 5 Euro Bill is Made</td>\n",
       "      <td>A new 5 euro note will be circulating starting...</td>\n",
       "      <td>1</td>\n",
       "    </tr>\n",
       "    <tr>\n",
       "      <th>...</th>\n",
       "      <td>...</td>\n",
       "      <td>...</td>\n",
       "      <td>...</td>\n",
       "      <td>...</td>\n",
       "    </tr>\n",
       "    <tr>\n",
       "      <th>3096</th>\n",
       "      <td>4522</td>\n",
       "      <td>How Much is Inside Kalles Kaviar</td>\n",
       "      <td>How Much is Inside Kalles Kaviar Kalles Kaviar...</td>\n",
       "      <td>0</td>\n",
       "    </tr>\n",
       "    <tr>\n",
       "      <th>3097</th>\n",
       "      <td>5771</td>\n",
       "      <td>5 Reasons Why It s Okay to Like the Canadian F...</td>\n",
       "      <td>With the NFL lockout looming overheard like a ...</td>\n",
       "      <td>0</td>\n",
       "    </tr>\n",
       "    <tr>\n",
       "      <th>3098</th>\n",
       "      <td>3695</td>\n",
       "      <td>Fashion Alices Photography Haute Couture</td>\n",
       "      <td>Fashion Alices Photography Haute Couture Xah L...</td>\n",
       "      <td>0</td>\n",
       "    </tr>\n",
       "    <tr>\n",
       "      <th>3099</th>\n",
       "      <td>6273</td>\n",
       "      <td>Plush Palate Quote of the Week</td>\n",
       "      <td>Blog ArchiveFebruary 16 January 16 December 25...</td>\n",
       "      <td>0</td>\n",
       "    </tr>\n",
       "    <tr>\n",
       "      <th>3100</th>\n",
       "      <td>6538</td>\n",
       "      <td>Loaded Roasted Potatoes and Chicken</td>\n",
       "      <td>I don t generally take pictures the first time...</td>\n",
       "      <td>1</td>\n",
       "    </tr>\n",
       "  </tbody>\n",
       "</table>\n",
       "<p>3101 rows × 4 columns</p>\n",
       "</div>"
      ],
      "text/plain": [
       "      Unnamed: 0                                              title  \\\n",
       "0           3250  Strawberry Pistachio Crumble A Spicy Perspective    \n",
       "1           4311  BBC News Study links Parkinson s disease to in...   \n",
       "2           6544  Want to know the effect of a nuclear bomb on y...   \n",
       "3           5328  Japanese Nail Art by NeverTooMuchGlitter by Ne...   \n",
       "4           1402                   How the New 5 Euro Bill is Made    \n",
       "...          ...                                                ...   \n",
       "3096        4522                  How Much is Inside Kalles Kaviar    \n",
       "3097        5771  5 Reasons Why It s Okay to Like the Canadian F...   \n",
       "3098        3695          Fashion Alices Photography Haute Couture    \n",
       "3099        6273                    Plush Palate Quote of the Week    \n",
       "3100        6538               Loaded Roasted Potatoes and Chicken    \n",
       "\n",
       "                                                   text  label  \n",
       "0     When you re out in the berry patch drinking in...      1  \n",
       "1     13 November 2011 Last updated at 23 57 ET By N...      1  \n",
       "2     By Damien Gayle UPDATED 13 12 EST 16 February ...      1  \n",
       "3     Check out my featured work in the August Septe...      0  \n",
       "4     A new 5 euro note will be circulating starting...      1  \n",
       "...                                                 ...    ...  \n",
       "3096  How Much is Inside Kalles Kaviar Kalles Kaviar...      0  \n",
       "3097  With the NFL lockout looming overheard like a ...      0  \n",
       "3098  Fashion Alices Photography Haute Couture Xah L...      0  \n",
       "3099  Blog ArchiveFebruary 16 January 16 December 25...      0  \n",
       "3100  I don t generally take pictures the first time...      1  \n",
       "\n",
       "[3101 rows x 4 columns]"
      ]
     },
     "execution_count": 83,
     "metadata": {},
     "output_type": "execute_result"
    }
   ],
   "source": [
    "# Insgesamt sind 4650 Datensätze vorhanden\n",
    "# Wir splitten die Datensätze in zwei Teilen\n",
    "# 2/3 der Daten werden als Traning Daten genutzt\n",
    "# der Rest wird für die Evaluation verwendet\n",
    "splitIndex = int(2*len(df)/3)\n",
    "\n",
    "df_train = df.loc[:splitIndex,:]\n",
    "df_test = df.loc[splitIndex:,:] \n",
    "\n",
    "df_train"
   ]
  },
  {
   "cell_type": "code",
   "execution_count": 84,
   "metadata": {},
   "outputs": [
    {
     "data": {
      "text/html": [
       "<div>\n",
       "<style scoped>\n",
       "    .dataframe tbody tr th:only-of-type {\n",
       "        vertical-align: middle;\n",
       "    }\n",
       "\n",
       "    .dataframe tbody tr th {\n",
       "        vertical-align: top;\n",
       "    }\n",
       "\n",
       "    .dataframe thead th {\n",
       "        text-align: right;\n",
       "    }\n",
       "</style>\n",
       "<table border=\"1\" class=\"dataframe\">\n",
       "  <thead>\n",
       "    <tr style=\"text-align: right;\">\n",
       "      <th></th>\n",
       "      <th>Unnamed: 0</th>\n",
       "      <th>title</th>\n",
       "      <th>text</th>\n",
       "      <th>label</th>\n",
       "    </tr>\n",
       "  </thead>\n",
       "  <tbody>\n",
       "    <tr>\n",
       "      <th>3100</th>\n",
       "      <td>6538</td>\n",
       "      <td>Loaded Roasted Potatoes and Chicken</td>\n",
       "      <td>I don t generally take pictures the first time...</td>\n",
       "      <td>1</td>\n",
       "    </tr>\n",
       "    <tr>\n",
       "      <th>3101</th>\n",
       "      <td>4004</td>\n",
       "      <td>Homemade Bruschetta Recipes for Kids | recipes...</td>\n",
       "      <td>Homemade Bruschetta Recipes for Kids Parents C...</td>\n",
       "      <td>1</td>\n",
       "    </tr>\n",
       "    <tr>\n",
       "      <th>3102</th>\n",
       "      <td>1888</td>\n",
       "      <td>Maxim Amazing Celebrity News Videos Gossip and...</td>\n",
       "      <td>She may not have finished first on the tennis ...</td>\n",
       "      <td>0</td>\n",
       "    </tr>\n",
       "    <tr>\n",
       "      <th>3103</th>\n",
       "      <td>222</td>\n",
       "      <td>Top 8 Awesome Apps For iPhone</td>\n",
       "      <td>Hello iPhone fans We have come with popular iP...</td>\n",
       "      <td>0</td>\n",
       "    </tr>\n",
       "    <tr>\n",
       "      <th>3104</th>\n",
       "      <td>4832</td>\n",
       "      <td>Stress Management Stress And Alcohol stress ma...</td>\n",
       "      <td>Monday April 30 2007 12 35 AM GeneralPosted by...</td>\n",
       "      <td>1</td>\n",
       "    </tr>\n",
       "    <tr>\n",
       "      <th>...</th>\n",
       "      <td>...</td>\n",
       "      <td>...</td>\n",
       "      <td>...</td>\n",
       "      <td>...</td>\n",
       "    </tr>\n",
       "    <tr>\n",
       "      <th>4646</th>\n",
       "      <td>2708</td>\n",
       "      <td>Halloween Dessert Recipe Chocolate Abyss hallo...</td>\n",
       "      <td>This delicious dish was created for the M M s ...</td>\n",
       "      <td>0</td>\n",
       "    </tr>\n",
       "    <tr>\n",
       "      <th>4647</th>\n",
       "      <td>6324</td>\n",
       "      <td>eat me delicious Cauliflower Gratin</td>\n",
       "      <td>Looking at this picture I m not sure if you ca...</td>\n",
       "      <td>1</td>\n",
       "    </tr>\n",
       "    <tr>\n",
       "      <th>4648</th>\n",
       "      <td>2777</td>\n",
       "      <td>Unusual Medical Uses For Duct Tape</td>\n",
       "      <td>Duct Tape is possibly the most incredible inve...</td>\n",
       "      <td>1</td>\n",
       "    </tr>\n",
       "    <tr>\n",
       "      <th>4649</th>\n",
       "      <td>1508</td>\n",
       "      <td>Reporter Flips Out from That Happened reporter...</td>\n",
       "      <td>reporter flips out, news blooper, bug, south,...</td>\n",
       "      <td>0</td>\n",
       "    </tr>\n",
       "    <tr>\n",
       "      <th>4650</th>\n",
       "      <td>5336</td>\n",
       "      <td>Top 10 Web 2 0 Startups Taking Over the World</td>\n",
       "      <td>Written By Drew August 22nd 2011 If one looks ...</td>\n",
       "      <td>0</td>\n",
       "    </tr>\n",
       "  </tbody>\n",
       "</table>\n",
       "<p>1551 rows × 4 columns</p>\n",
       "</div>"
      ],
      "text/plain": [
       "      Unnamed: 0                                              title  \\\n",
       "3100        6538               Loaded Roasted Potatoes and Chicken    \n",
       "3101        4004  Homemade Bruschetta Recipes for Kids | recipes...   \n",
       "3102        1888  Maxim Amazing Celebrity News Videos Gossip and...   \n",
       "3103         222                     Top 8 Awesome Apps For iPhone    \n",
       "3104        4832  Stress Management Stress And Alcohol stress ma...   \n",
       "...          ...                                                ...   \n",
       "4646        2708  Halloween Dessert Recipe Chocolate Abyss hallo...   \n",
       "4647        6324               eat me delicious Cauliflower Gratin    \n",
       "4648        2777                Unusual Medical Uses For Duct Tape    \n",
       "4649        1508  Reporter Flips Out from That Happened reporter...   \n",
       "4650        5336     Top 10 Web 2 0 Startups Taking Over the World    \n",
       "\n",
       "                                                   text  label  \n",
       "3100  I don t generally take pictures the first time...      1  \n",
       "3101  Homemade Bruschetta Recipes for Kids Parents C...      1  \n",
       "3102  She may not have finished first on the tennis ...      0  \n",
       "3103  Hello iPhone fans We have come with popular iP...      0  \n",
       "3104  Monday April 30 2007 12 35 AM GeneralPosted by...      1  \n",
       "...                                                 ...    ...  \n",
       "4646  This delicious dish was created for the M M s ...      0  \n",
       "4647  Looking at this picture I m not sure if you ca...      1  \n",
       "4648  Duct Tape is possibly the most incredible inve...      1  \n",
       "4649   reporter flips out, news blooper, bug, south,...      0  \n",
       "4650  Written By Drew August 22nd 2011 If one looks ...      0  \n",
       "\n",
       "[1551 rows x 4 columns]"
      ]
     },
     "execution_count": 84,
     "metadata": {},
     "output_type": "execute_result"
    }
   ],
   "source": [
    "df_test"
   ]
  },
  {
   "cell_type": "markdown",
   "metadata": {
    "slideshow": {
     "slide_type": "notes"
    }
   },
   "source": [
    "## Text Feature Extraction\n",
    "Tokenizer -> Text Vektorisierung mit Bag of Words + TF-IDF (Erklärung und Exkurs mit Skicit learn)\n",
    "* Bag of Words (BoW): BoW ist eine einfache Repräsentation, die in \"Natural Language Processing\" und \"Information Retrieval verwendet werden. In diesem Model wird Text als ein \"Bag\" von Worten repräsentiert, unabhängigt von Grammatik oder sogar Reihenfolge, aber die Anzahl der Erscheinungen (Häufigkeit) eines Wortes wird behalten. z.B: \"How the New 5 Euro Bill is Made, A new 5 euro note will be circulating starting\", \" wird so repräsentiert: \n",
    "    \n",
    "    {\"how\":1, \"the\":1, \"new\": 2, \"5\": 2, \"euro\": 2, \"bill\": 1, \"is\": 1, \"made\": 1, \"a\": 1, \"note\": 1, \"will\": 1, \"be\": 1, \"circulating\": 1, \"starting\": 1}\n",
    "    \n",
    "    \n",
    "* Das BoW Model hat auch einen Nachteil beim Text Klassifikator. Nur die Häufigkeit der Worten ist nicht genug für Klassifikation. Die übliche Worte wie (Deutsch) \"der\", \"die\", \"das\" spielen beim Traning des Klassifikators nah zu keine Rolle und können sogar das Ergebnis des Tranings negativ beeinflussen. Dieser Nachteil lässt sich in der Praxis meist mit Tf-idf Algorithmus ausgleichen, indem Worte anhand deren Häufigkeit in einem Dokument und der Häufigkeit in einem Satz von Dokumenten gewichtet werden. Wenn ein Wort häufig in einem Dokument erscheint, jedoch nicht in anderen Dokumenten, hat das Wort eine größere Wichtung. Wenn ein Wort überall häufig erscheint, ist das möglicherweise unwichtig und wird runter bewerten. Ziel des Algorithmus ist, die häufig vorkommende Worte wie \"der\", \"die\", \"das\" zu normalisieren, weil die nicht wichtig für das Training sind.\n",
    "\n",
    "\n",
    "* Die Kombination von BoW und Tf-idf lässt sich sehr einfach mit Scikit-learn implementieren. Die Klasse \"CountVectorizer\" und \"TfidfTransformer\" vom Paket \"sklearn.feature_extraction.text\" können in der Pipeline verwendet werden. \n",
    "\n",
    "    Nachfolgend ein Beispiel, wie die Pipeline aussehen könnte:"
   ]
  },
  {
   "cell_type": "code",
   "execution_count": 37,
   "metadata": {},
   "outputs": [
    {
     "name": "stdout",
     "output_type": "stream",
     "text": [
      "[[0 0 0 ... 0 0 0]\n",
      " [0 0 0 ... 0 0 0]\n",
      " [0 0 0 ... 0 0 0]\n",
      " ...\n",
      " [0 0 0 ... 0 0 0]\n",
      " [0 0 0 ... 0 0 0]\n",
      " [0 0 0 ... 0 0 0]]\n",
      "** Anzahl von extrahierten features\n",
      "8340\n",
      "** Liste von extrahierten Features\n",
      "['00', '000', '000f', '007', '01', '021', '04', '09', '10', '100', '100th', '101', '11', '117', '11th', '12', '120', '1258', '1271771011252', '128', '129', '13', '130th', '14', '144190', '149', '14th', '15', '150', '1549', '155', '1581', '16', '160', '163', '1644', '16gb', '17', '170', '17a', '18', '180', '1830s', '18in', '19', '1908', '1920s', '1940s', '1944', '1948', '1950s', '1970s', '1972', '1977', '1994', '1996', '1998', '1999', '19th', '1st', '1w', '20', '200', '2000', '2000s', '2003', '2005', '2006', '2007', '2008', '2009', '2009s', '2010', '2011', '2012', '2013', '2017', '2020', '2030', '206', '2068', '208mph', '20th', '21', '22', '222', '22nd', '23', '233', '24', '24th', '25', '26', '27', '272', '28', '29', '2nd', '30', '300', '300lbs', '30aeats', '31', '32', '320', '33', '333', '34', '35', '36', '360', '363', '365', '36th', '37b', '387', '39', '39pm', '3a', '3d', '40', '400', '40th', '41', '43', '45', '453', '46', '462', '466', '49ers', '4chan', '4ft', '4s', '4th', '50', '500', '509', '50most', '51', '52', '5min', '5pm', '60', '600', '63', '65mpg', '680', '69', '6jokes', '70', '700', '70s', '7165', '742', '75', '7555', '75th', '77', '774', '78', '80', '800', '80s', '8211', '8216', '8217', '8220', '8221', '8230', '84', '86', '864', '877', '8tracks', '90', '911', '9240367', '93', '94', '97', '9gag', '9kik', '9mm', '9news', 'aarp', 'abandoned', 'abashiri', 'abbey', 'abc', 'abcs', 'abdominal', 'ability', 'aboobaker', 'about', 'above', 'abrams', 'abs', 'absent', 'absolute', 'absolutely', 'abuelo', 'abyss', 'ac', 'academic', 'academichic', 'academy', 'accepts', 'access', 'accessories', 'accessorize', 'accident', 'accidental', 'accidents', 'accompanies', 'accomplished', 'according', 'account', 'accounting', 'accounts', 'accuracy', 'accurate', 'accused', 'ace', 'aced', 'achievement', 'achieving', 'acid', 'acidity', 'acme', 'acne', 'acorn', 'acoustics', 'acquired', 'acra', 'acrobat', 'across', 'act', 'action', 'activation', 'activity', 'actresses', 'acts', 'actual', 'actually', 'acuka', 'acura', 'ad', 'adam', 'adams', 'adaptable', 'adbusters', 'add', 'addicted', 'addiction', 'addicts', 'additive', 'additives', 'address', 'addressing', 'adds', 'adi', 'adidas', 'adjustable', 'admission', 'admits', 'adorable', 'adore', 'ads', 'adult', 'adults', 'advanced', 'advancements', 'advantages', 'adventure', 'adventures', 'advertising', 'advice', 'advises', 'aerobics', 'affair', 'affairs', 'affect', 'affects', 'afford', 'affordable', 'afghan', 'afghanistan', 'afraid', 'africa', 'african', 'aftenposten', 'after', 'afternoon', 'again', 'against', 'age', 'aged', 'ageless', 'aggie', 'aging', 'agraphia', 'aguera', 'ah4fb2cb1', 'ahead', 'ahi', 'ahmed', 'aht', 'ai', 'aid', 'aiding', 'aids', 'aiming', 'ain', 'aioli', 'aiping', 'air', 'airbag', 'airless', 'airport', 'airports', 'airwave', 'airways', 'aje', 'aji', 'ajillo', 'ajvar', 'aka', 'akerman', 'akin', 'akrans', 'al', 'alabama', 'alarm', 'albanian', 'albino', 'alcohol', 'alcoholic', 'alcoholics', 'aldo', 'ale', 'alert', 'alert1', 'alex', 'alexander', 'alfredo', 'algae', 'algal', 'algorithms', 'ali', 'alice', 'alices', 'alimento', 'alistair', 'alive', 'alkalinity', 'all', 'alla', 'allergic', 'allergies', 'alligator', 'allison', 'allrecipes', 'almond', 'almonds', 'almost', 'aloe', 'alone', 'already', 'also', 'alternative', 'alternatives', 'alton', 'always', 'alyssa', 'alzheimer', 'am', 'amanda', 'amaretto', 'amarillo', 'amateur', 'amazed', 'amazing', 'amazingly', 'amazon', 'ambassador', 'amber', 'ambroisie', 'ambrosia', 'ambushes', 'amen', 'america', 'american', 'americans', 'americas', 'amid', 'amigo', 'amo', 'among', 'amounts', 'amplifi', 'amusement', 'amusing', 'amy', 'an', 'ana', 'analogue', 'analysis', 'anasayfa', 'anchors', 'ancient', 'and', 'anderson', 'andouille', 'andpop', 'andrew', 'android', 'androidtechcrunch', 'andy', 'angel', 'angela', 'angeles', 'angieriver', 'angle', 'angriest', 'angry', 'animal', 'animals', 'animated', 'animation', 'animatronic', 'aniston', 'ann', 'anna', 'anne', 'annemmutfakta', 'annie', 'anniversaries', 'anniversary', 'announce', 'announcer', 'announcers', 'annoying', 'annual', 'anorak', 'another', 'answers', 'antarctica', 'anthem', 'anthony', 'anti', 'antoinette', 'antonio', 'anxiety', 'any', 'anymore', 'anyone', 'anything', 'anyway', 'anywhere', 'ao', 'aol', 'apa', 'apac', 'apart', 'apartment', 'aperture', 'aphrodisiacs', 'api', 'aplasia', 'apocalypse', 'apocalypses', 'apologize', 'apology', 'apos', 'apostrophes', 'app', 'appear', 'appearances', 'appetizer', 'appetizers', 'apple', 'apples', 'applesauce', 'appliances', 'applications', 'apply', 'approach', 'approved', 'apps', 'apps4rent', 'appétit', 'april', 'aprons', 'aquabacon', 'aquatics', 'arancini', 'arcas', 'archer', 'archive', 'archives', 'arduino', 'are', 'aren', 'arena', 'argh', 'aria', 'arizona', 'arkansas', 'arm', 'armless', 'armor', 'armored', 'armory', 'arms', 'army', 'around', 'arran', 'arrested', 'arrived', 'arroyo', 'arroz', 'ars', 'art', 'arthritis', 'artichoke', 'article', 'artisan', 'artist', 'arts', 'artworks', 'arugula', 'as', 'ascii', 'asheville', 'ashley', 'asiago', 'asiajam', 'asian', 'ask', 'asked', 'askmen', 'asks', 'askthetrainer', 'asleep', 'asos', 'asparagus', 'aspartame', 'aspire', 'aspirin', 'ass', 'assault', 'assistant', 'associated', 'association', 'assumption', 'astronutrition', 'astros', 'asus', 'at', 'ate', 'atelier', 'atheist', 'athlete', 'athletes', 'athletics', 'atlanta', 'atlantic', 'atlantis', 'atlas', 'atom', 'atreidex', 'attack', 'attacking', 'attacks', 'attempt', 'attempts', 'attention', 'attitude', 'attorneys', 'attracts', 'au', 'audio', 'augmentation', 'augmented', 'august', 'aunt', 'aurora', 'aus', 'australia', 'australian', 'authentic', 'authoritarianism', 'authorities', 'authority', 'autism', 'auto', 'autoblog', 'automatic', 'automatically', 'automation', 'automobiles', 'autopia', 'autos', 'autotuned', 'autrey', 'autsch', 'autumn', 'ava', 'available', 'avalanche', 'avengers', 'avenue', 'average', 'averted', 'avig', 'avocado', 'avoid', 'avoiding', 'aw', 'awaited', 'award', 'awards', 'away', 'awesome', 'awesomer', 'awessome', 'awkward', 'ayam', 'azmina', 'b3ta', 'b7', 'baba', 'babeland', 'babes', 'babies', 'baby', 'babylon', 'bac', 'back', 'backflip', 'backflips', 'backflop', 'backlash', 'backward', 'bacon', 'bacone', 'bacteria', 'bad', 'badass', 'badminton', 'baehr', 'bag', 'bagel', 'bagels', 'bags', 'baileys', 'bain', 'bait', 'bake', 'baked', 'baker', 'bakerella', 'bakergirl', 'bakers', 'bakersfield', 'bakery', 'bakes', 'baketogether', 'bakeware', 'baking', 'bakshi', 'balance', 'balanced', 'balancing', 'baldovino', 'ball', 'ballet', 'balloon', 'balloons', 'balls', 'balm', 'balsamic', 'baltimore', 'ban', 'banana', 'bananas', 'band', 'bandit', 'bands', 'bane', 'bang', 'bank', 'banking', 'banned', 'banoffee', 'bans', 'baptist', 'bar', 'barani', 'barbcecue', 'barbecue', 'barbecued', 'barbecuing', 'barber', 'barbie', 'barefoot', 'bariatric', 'bark', 'barkley', 'barley', 'barrett', 'barry', 'bars', 'bartending', 'base', 'baseball', 'based', 'bases', 'bash', 'bashes', 'basic', 'basil', 'basket', 'basketball', 'basta', 'bastanchury', 'bataa', 'bath', 'bathroom', 'bathtub', 'batman', 'batter', 'battered', 'batteries', 'battery', 'battle', 'baumgartner', 'baur', 'bavarian', 'bax', 'bay', 'bazaar', 'bb', 'bbc', 'bbq', 'bcs', 'be', 'beach', 'beachwood', 'beams', 'bean', 'beans', 'beantown', 'bear', 'beard', 'beast', 'beat', 'beaten', 'beatings', 'beats', 'beautiful', 'beauty', 'became', 'because', 'becky', 'become', 'becomes', 'becoming', 'bed', 'bedroom', 'bee', 'beef', 'been', 'beer', 'before', 'befriend', 'beginner', 'beginners', 'beginning', 'behance', 'behind', 'beignets', 'beijing', 'being', 'belfasttelegraph', 'beliefs', 'believe', 'believed', 'bell', 'bella', 'bellalimento', 'belleville', 'belly', 'belongs', 'belt', 'belátás', 'bem', 'benefits', 'benetton', 'bengali', 'benitez', 'benny', 'bent', 'bento', 'berlin', 'berman', 'berries', 'berry', 'best', 'betaworks', 'bettendorf', 'better', 'betting', 'betty', 'bettyconfidential', 'between', 'bev', 'beverly', 'beware', 'bewitchin', 'beyond', 'bfeedme', 'bhel', 'bhg', 'bhut', 'biased', 'bible', 'bid', 'big', 'bigfatcook', 'bigger', 'biggest', 'bike', 'biker', 'bikeradar', 'bikini', 'bill', 'billabong', 'billfold', 'billion', 'billions', 'bills', 'billy', 'bin', 'binary', 'binaural', 'bio', 'biochemist', 'bionic', 'bioshock', 'bird', 'birke', 'birth', 'birthday', 'birthdays', 'biscayne', 'biscotti', 'biscuit', 'biscuits', 'bison', 'bisque', 'bistro', 'bit', 'bite', 'bites', 'bits', 'bitsy', 'bitter', 'bittersweets', 'bitty', 'biz', 'bizarre', 'blaaderen', 'black', 'blackberry', 'blackouts', 'blacksheep', 'bladder', 'blahnik', 'blaise', 'blame', 'blastr', 'blasts', 'bldg', 'bleacher', 'blemish', 'blend', 'blended', 'blender', 'blends', 'blessed', 'blind', 'blindness', 'blindsidedly', 'bliss', 'blisstree', 'blitzing', 'bloat', 'blob', 'block', 'blog', 'blogger', 'bloggers', 'blogiversary', 'bloglovin', 'blognator', 'blogpost', 'blogs', 'blonde', 'blondie', 'blondies', 'blood', 'bloodied', 'bloodletting', 'bloody', 'bloomin', 'blooming', 'blow', 'blown', 'blowouts', 'blows', 'blt', 'blucigs', 'blue', 'blueberries', 'blueberry', 'blueprint', 'bluff', 'blurs', 'bly', 'bmx', 'bo', 'board', 'boardshorts', 'boastful', 'boat', 'bob', 'bobbing', 'bobrov', 'bobs', 'bodies', 'bods', 'body', 'bodyrock', 'bodysuits', 'boeing', 'boggling', 'bohemian', 'boho', 'bohème', 'boiled', 'boing', 'bok', 'bold', 'bolognese', 'bolte', 'bomb', 'bon', 'bonanza', 'bonappetit', 'bond', 'bone', 'bones', 'bonjour', 'bons', 'boogie', 'book', 'bookbook', 'booking', 'booklet', 'bookmark', 'books', 'booooooom', 'boost', 'boosting', 'boot', 'boots', 'booze', 'boozled', 'border', 'bored', 'borek', 'boring', 'born', 'borowitz', 'boss', 'boston', 'boticca', 'bottello', 'bottle', 'bottles', 'bounce', 'bouncer', 'bourbon', 'bourdain', 'boutique', 'bow', 'bowl', 'bowling', 'box', 'boxers', 'boxes', 'boy', 'boyfriend', 'boyle', 'boys', 'boysjoys', 'bp', 'bpm', 'bra', 'bracelet', 'bracelets', 'brad', 'brads', 'braedens', 'braids', 'brain', 'brainer', 'brains', 'braised', 'brand', 'brandon', 'brands', 'branislav', 'brassiere', 'bravest', 'brawl', 'brazil', 'brazilian', 'bread', 'breadmaker', 'breads', 'break', 'breakdancing', 'breakdown', 'breakfast', 'breaking', 'breakout', 'breaks', 'breakthrough', 'breast', 'breasts', 'breath', 'breathing', 'bree', 'brees', 'breslow', 'brett', 'brewery', 'brewing', 'brian', 'brick', 'brickle', 'bricktops', 'bride', 'bridesmaids', 'bridge', 'brie', 'brien', 'bright', 'brilliant', 'brimming', 'brine', 'bring', 'brings', 'brioche', 'brisbane', 'brit', 'british', 'brizio', 'bro', 'broadcast', 'broccoli', 'broke', 'brokeass', 'broken', 'bromista', 'brooklyn', 'broth', 'broward', 'brown', 'browned', 'brownie', 'brownies', 'brows', 'browse', 'browser', 'browsing', 'bruce', 'brudenell', 'bruleed', 'brunch', 'brunches', 'bruschetta', 'brushing', 'brussels', 'brutal', 'brutality', 'bryant', 'brûlée', 'bubba', 'bubbe', 'buck', 'buckeye', 'buckingham', 'buckle', 'bucks', 'buco', 'budget', 'buffalo', 'buffet', 'bug', 'build', 'building', 'buildings', 'builds', 'built', 'bulb', 'bull', 'bullet', 'bullies', 'bump', 'bun', 'bundles', 'bundt', 'bunny', 'buns', 'burger', 'burgers', 'burgh', 'burghilicious', 'burgundy', 'burkina', 'burlap', 'burmese', 'burn', 'burned', 'burners', 'burning', 'burnout', 'burrell', 'burritos', 'burton', 'bus', 'bush', 'business', 'businessman', 'businessshrink', 'bust', 'busted', 'bustedcoverage', 'busting', 'busy', 'but', 'butchering', 'butler', 'butt', 'butter', 'butterbeer', 'buttercream', 'butterfinger', 'buttermilk', 'butternut', 'butterscotch', 'buttery', 'button', 'buttons', 'buttun', 'buy', 'buzz', 'by', 'byliner', 'béchamel', 'ca', 'cable', 'cables', 'cabrinha', 'cacao', 'caesar', 'cafe', 'cafemom', 'caffeine', 'cage', 'caitlin', 'cajeta', 'cajun', 'cake', 'cakes', 'cal', 'calculator', 'calculus', 'caldwell', 'calendar', 'calf', 'california', 'call', 'called', 'calls', 'calm', 'caloric', 'calorie', 'calorieconnect', 'calories', 'calzones', 'cam', 'cambodia', 'camel', 'camera', 'camerafilmroll', 'cameras', 'cameron', 'camilla', 'camo', 'camp', 'campaign', 'campaigner', 'campfire', 'camping', 'campus', 'can', 'canada', 'canadian', 'canarygirl', 'cancer', 'candied', 'candies', 'candle', 'candy', 'cane', 'canning', 'cannot', 'cannula', 'canoe', 'canuck', 'canucks', 'canyon', 'cap', 'capacitor', 'capacity', 'cape', 'cappuccino', 'caprese', 'caps', 'capsule', 'caption', 'captivating', 'capture', 'captures', 'car', 'caramel', 'caramelized', 'caramels', 'carano', 'caravan', 'carb', 'carbon', 'carbonara', 'carbonated', 'card', 'cardinals', 'cardio', 'cardiology', 'cards', 'care', 'carebettendorf', 'career', 'careers', 'carhartt', 'carlin', 'carly', 'carmelo', 'carnation', 'carnitas', 'carolina', 'carpe', 'carr', 'carrier', 'carries', 'carroll', 'carrot', 'carrots', 'carrozza', 'cars', 'cart', 'carter', 'cartons', 'carve', 'carving', 'cascade', 'case', 'cases', 'cash', 'cashew', 'casino', 'casserole', 'casseroles', 'cast', 'casting', 'castle', 'casual', 'cat', 'catalyst', 'catarina', 'catastrophe', 'catch', 'categorical', 'categories', 'category', 'cathedrals', 'catherine', 'cats', 'caught', 'cauliflower', 'cause', 'caused', 'causes', 'causing', 'cave', 'caves', 'cayenne', 'cbias', 'cbs', 'cdc', 'cdkitchen', 'ceasar', 'cec20', 'cedar', 'cee', 'celebrate', 'celebrates', 'celebrating', 'celebrations', 'celebrity', 'cell', 'cellphone', 'cells', 'cent', 'center', 'centers', 'central', 'centsational', 'cereal', 'cereals', 'ceremony', 'cereusart', 'certain', 'certified', 'cervical', 'ces', 'cessation', 'cetera', 'cfb', 'ch', 'chained', 'chair', 'chakras', 'chalayan', 'chalking', 'challenge', 'challenges', 'chamomile', 'champ', 'champagne', 'champion', 'champions', 'championship', 'champs', 'chan', 'chanel', 'change', 'changed', 'changes', 'changing', 'channel', 'chantal', 'chaos', 'characteristics', 'charcoal', 'charge', 'charged', 'chargers', 'chargrilled', 'charismatic', 'charlie', 'charlottesville', 'charmeddesign1012', 'charming', 'charms', 'chart', 'charts', 'chat', 'cheap', 'cheaper', 'cheapest', 'cheat', 'cheats', 'check', 'checkerboard', 'checklist', 'cheddar', 'cheeky', 'cheerleader', 'cheerleaders', 'cheerleading', 'cheese', 'cheeseburger', 'cheeseburgers', 'cheesecake', 'cheesecakes', 'cheesemaking', 'cheeses', 'cheesy', 'cheezeburger', 'cheezy', 'chef', 'chefs', 'chemicals', 'cherry', 'chess', 'chewing', 'chewy', 'chex', 'chez', 'chfa', 'chia', 'chianti', 'chiarello', 'chic', 'chicago', 'chick', 'chicken', 'chickens', 'chickpea', 'chickpeas', 'chicks', 'chief', 'chiffon', 'chihuahua', 'child', 'childcare', 'childhood', 'children', 'chile', 'chilean', 'chiles', 'chili', 'chilled', 'chimichangas', 'chiminazzo', 'china', 'chinese', 'chip', 'chipmunk', 'chipotle', 'chipped', 'chips', 'chiropractic', 'chloe', 'choco', 'chocoholics', 'chocolate', 'chocolatesuze', 'choice', 'choices', 'choir', 'cholesterol', 'choose', 'chop', 'chopsticks', 'chore', 'chorizo', 'chow', 'choy', 'chris', 'chrissy', 'christine', 'christmas', 'christo', 'christopher', 'christy', 'chrome', 'chronic', 'chronicles', 'chronophage', 'chubby', 'chuck', 'chuniece', 'chunk', 'chunky', 'church', 'churros', 'chutney', 'cia', 'ciabatta', 'cialis', 'cider', 'cigarette', 'cigarettes', 'cigna', 'cilantro', 'cinnabon', 'cinnamon', 'cintia', 'circle', 'circuit', 'circuitry', 'circus', 'cities', 'citron', 'citrus', 'city', 'civilized', 'ck', 'ckicquot', 'claim', 'clarence', 'clarity', 'clash', 'class', 'classes', 'classic', 'classifieds', 'classy', 'clayton', 'clean', 'cleaners', 'cleans', 'cleanse', 'clear', 'clearing', 'clever', 'click', 'clicker', 'clicking', 'clifton', 'clikr', 'climate', 'climbing', 'clin', 'clinical', 'clinicaltrials', 'clinics', 'clinton', 'clio', 'clip', 'clips', 'cloak', 'clock', 'clocks', 'clockwork', 'close', 'closer', 'closet', 'closing', 'clothes', 'clothing', 'cloud', 'cloudbreak', 'club', 'clues', 'clumsy', 'cluster', 'clusters', 'clutch', 'clutter', 'cnbc', 'cnn', 'cns', 'cnsnews', 'co', 'co2', 'coach', 'coaches', 'coal', 'coast', 'coastal', 'coaster', 'coastlines', 'coat', 'coated', 'coating', 'cobb', 'cobbler', 'coca', 'cocktail', 'cocktails', 'cockups', 'coco', 'cocoa', 'coconut', 'cocoon', 'code', 'codes', 'coed', 'coelho', 'coffee', 'coincidences', 'coins', 'coke', 'cola', 'colbow', 'cold', 'coldflusinus', 'colds', 'coleslaw', 'collab', 'collaboration', 'collar', 'collect', 'collected', 'collectibles', 'collection', 'collective', 'collector', 'college', 'collegehumor', 'colleges', 'collisions', 'colognes', 'color', 'colorado', 'colored', 'colors', 'colorways', 'colour', 'columbus', 'com', 'coma', 'combat', 'combinations', 'combines', 'combo', 'combos', 'come', 'comeback', 'comebacks', 'comes', 'comfort', 'comfortable', 'comic', 'comically', 'comics', 'coming', 'command', 'commando', 'comment', 'commentary', 'commerce', 'commercial', 'commercials', 'commission', 'commits', 'common', 'communicate', 'communities', 'community', 'company', 'compare', 'compares', 'comparison', 'compatible', 'competes', 'competition', 'competitions', 'compilation', 'complain', 'complete', 'completely', 'complex', 'complexion', 'compound', 'computer', 'computers', 'computerworld', 'computing', 'con', 'conan', 'concealing', 'concept', 'concepts', 'concern', 'concerned', 'concerns', 'conclusion', 'concrete', 'condom', 'condor', 'condé', 'confections', 'conference', 'confession', 'confessions', 'confidence', 'confident', 'confirms', 'confiscated', 'confused', 'congress', 'connect', 'connecticut', 'connection', 'conner', 'conrad', 'consciousness', 'consequences', 'consider', 'console', 'conspires', 'constitutes', 'construction', 'consum', 'consume', 'consumer', 'consumption', 'contact', 'contain', 'containers', 'contains', 'contender', 'content', 'contest', 'contests', 'continental', 'continuous', 'contraceptive', 'contractions', 'contracts', 'control', 'controlled', 'controls', 'controversial', 'convenient', 'convergence', 'converse', 'convince', 'convincing', 'cook', 'cookbook', 'cookbooks', 'cooked', 'cooker', 'cookers', 'cookie', 'cookieman', 'cookies', 'cookin', 'cooking', 'cooks', 'cookskills', 'cookthink', 'cool', 'cooler', 'coolest', 'coolio', 'coolpc', 'coordinated', 'cop', 'coppelia', 'copy', 'copycat', 'copykat', 'copyright', 'cord', 'core', 'corgi', 'coriander', 'corn', 'cornbread', 'cornell', 'corner', 'corners', 'cornish', 'cornmeal', 'corporate', 'corporation', 'corpus', 'correct', 'correcting', 'corset', 'cory', 'cosblog', 'cosby', 'cosmetics', 'cost', 'costs', 'costume', 'costumes', 'cotija', 'cotta', 'cottage', 'cotton', 'cottonpurr', 'couch', 'cough', 'coughing', 'could', 'counter', 'counteract', 'countries', 'country', 'county', 'couple', 'couples', 'courage', 'courant', 'course', 'courses', 'courseware', 'court', 'courtney', 'courts', 'couscous', 'couture', 'cover', 'coverage', 'covered', 'covers', 'cow', 'cowboy', 'cowboys', 'cozy', 'crab', 'crack', 'cracked', 'crackers', 'cracking', 'cracks', 'craft', 'crafting', 'craftster', 'craftzine', 'craig', 'craiglist', 'craigslist', 'cranberries', 'cranberry', 'crash', 'crashes', 'crave', 'craving', 'cravings', 'craziest', 'crazy', 'cream', 'creamsicle', 'creamy', 'create', 'created', 'creates', 'creating', 'creations', 'creative', 'creativity', 'creators', 'creek', 'creepy', 'crema', 'cremation', 'creme', 'crepes', 'crescent', 'crew', 'crews', 'crime', 'criminals', 'cripple', 'crisis', 'crisp', 'crisps', 'crispy', 'cristiano', 'critic', 'critical', 'crock', 'crocker', 'crockpot', 'crohn', 'crohns', 'croissants', 'crooks', 'crops', 'cross', 'crossbow', 'croutons', 'crowd', 'crowds', 'crowdsourcing', 'crownies', 'crumb', 'crumble', 'crumpets', 'crunch', 'crunches', 'crunchy', 'crust', 'crusted', 'cry', 'crystal', 'crème', 'crêpe', 'crêperie', 'crêpes', 'cslacker', 'csmonitor', 'csr', 'cuando', 'cuba', 'cuban', 'cube', 'cubicle', 'cucamelons', 'cucina', 'cucumber', 'cues', 'cuff', 'cuisine', 'cuisines', 'culinary', 'culprit', 'cult', 'cultural', 'culture', 'culturejammer', 'cup', 'cupcake', 'cupcakes', 'cups', 'curd', 'cure', 'cures', 'curiosities', 'curl', 'curling', 'current', 'currents', 'curried', 'curry', 'curse', 'curtis', 'curves', 'curvy', 'custard', 'custom', 'customer', 'cut', 'cute', 'cutie', 'cutout', 'cuts', 'cutters', 'cutting', 'cyanide', 'cybertecture', 'cyberterror', 'cycling', 'cyclists', 'dad', 'daddy', 'dade', 'dahlias', 'daily', 'dailycognition', 'dailymotion', 'dairy', 'daisy', 'dallas', 'damage', 'damaged', 'damaging', 'damaris', 'damn', 'damon', 'dan', 'dance', 'dancer', 'dancing', 'danger', 'dangerous', 'dangers', 'danish', 'danous', 'dans', 'danse', 'darien', 'daring', 'dark', 'darkest', 'darkmonkey', 'darling', 'darpa', 'darth', 'das', 'dash', 'dashing', 'data', 'database', 'date', 'dating', 'daughter', 'daughters', 'daugther', 'david', 'davis', 'day', 'days', 'dazed', 'dc', 'de', 'dead', 'deadliest', 'deadly', 'deadspin', 'deal', 'dealer', 'dealing', 'deals', 'dean', 'dear', 'death', 'deathly', 'deaths', 'debate', 'debatten', 'debbie', 'deborah', 'debt', 'debut', 'debuts', 'decade', 'decadence', 'decadent', 'decades', 'decay', 'december', 'decepticon', 'deceptively', 'decided', 'decision', 'decisions', 'decker', 'declutter', 'decode', 'decor', 'decorate', 'decorating', 'decorations', 'decoy', 'dedicate', 'dedicated', 'deed', 'deejay', 'deemed', 'deen', 'deep', 'deepest', 'defect', 'defend', 'defender', 'defends', 'defense', 'definitive', 'defuse', 'degree', 'degrees', 'delaurentiis', 'delay', 'delectable', 'delete', 'delicious', 'deliciously', 'delight', 'delighted', 'delights', 'delish', 'delishhh', 'deliver', 'delivered', 'delivery', 'dell', 'delorean', 'demand', 'demeter', 'demeulemeester', 'demo', 'democracy', 'demolition', 'demolitions', 'demos', 'demotivational', 'demy', 'denied', 'denim', 'dental', 'dente', 'dentist', 'dentists', 'denver', 'department', 'depended', 'depends', 'deployed', 'deportivas', 'depression', 'deprived', 'depths', 'der', 'derby', 'derp', 'des', 'desecrates', 'design', 'designed', 'designer', 'designers', 'designing', 'designs', 'desk', 'desktop', 'despite', 'dessert', 'desserts', 'dessertstalking', 'destination', 'destinations', 'destitute', 'destroyed', 'destroying', 'destroys', 'destruct', 'detail', 'details', 'determine', 'detonator', 'detox', 'detoxing', 'detroit', 'deus', 'deutsche', 'developed', 'developer', 'development', 'developments', 'develops', 'deviantart', 'device', 'devices', 'deviled', 'devour', 'devours', 'dew', 'dewberry', 'dey', 'di', 'diabetes', 'diagnosed', 'dialog', 'diamonds', 'dianasdesserts', 'diane', 'diaries', 'diary', 'dias', 'diavolo', 'dice', 'dicker', 'dicqie', 'did', 'didn', 'didonato', 'die', 'diedruckereidsseldorf', 'diego', 'diem', 'dies', 'diesel', 'diet', 'dieting', 'diets', 'difference', 'differences', 'different', 'differently', 'digest', 'digestive', 'digg', 'digging', 'digi', 'digital', 'dilbert', 'dillard', 'dilled', 'dimensional', 'dimitrana', 'dineila', 'diner', 'dining', 'dinner', 'dinners', 'dinnertool', 'dior', 'dip', 'dipped', 'dipping', 'direct', 'direction', 'dirigible', 'dirt', 'dirty', 'dis', 'disaster', 'disasters', 'disc', 'discover', 'discoveries', 'discovery', 'discretion', 'discrimi', 'discuss', 'discussion', 'disease', 'diseased', 'diseases', 'disguises', 'dish', 'dishes', 'disk', 'disliek', 'disney', 'disorders', 'disowned', 'displax', 'display', 'displays', 'disposable', 'dissipation', 'distance', 'distilled', 'distillery', 'distribution', 'dita', 'ditchboarding', 'ditches', 'diva', 'dive', 'divertir', 'divine', 'divinity', 'divulges', 'diy', 'diyruffled', 'diys', 'dj', 'dk', 'dkny', 'dlitebox', 'dlyn', 'dn', 'dna', 'do', 'docks', 'doctor', 'doctors', 'documentary', 'documents', 'dod', 'dodge', 'dodgeball', 'does', 'doesn', 'dog', 'dogs', 'doing', 'dolce', 'doll', 'dollar', 'dollars', 'dolls', 'dolphins', 'domestic', 'don', 'donated', 'done', 'dont', 'donut', 'donuts', 'doof', 'doomed', 'door', 'dorie', 'dot', 'double', 'dough', 'doughnuts', 'down', 'downhill', 'download', 'downloaded', 'downloads', 'downtime', 'downton', 'downtown', 'downtownhost', 'doxies', 'dozen', 'dr', 'drag', 'dragon', 'drain', 'dramatic', 'drawings', 'draws', 'drdonnica', 'dread', 'dream', 'dreams', 'dreamt', 'dreamy', 'dress', 'dressed', 'dresses', 'dressing', 'drew', 'dried', 'drift', 'drill', 'drink', 'drinking', 'drinks', 'drippings', 'driven', 'driver', 'driverless', 'drivers', 'driving', 'drizzle', 'drone', 'drones', 'drop', 'dropped', 'drops', 'drowning', 'drpullen', 'druckerei', 'drug', 'drugged', 'drugs', 'drugstore', 'drummer', 'drummond', 'drunk', 'drunken', 'drunkenness', 'drunkest', 'dry', 'dryer', 'drámai', 'dslr', 'dsquared²', 'dsseldorf', 'dt', 'du', 'dubai', 'dublin', 'dubsism', 'duchess', 'duck', 'duct', 'dude', 'dudes', 'dulce', 'dumb', 'dumbest', 'dump', 'dumpling', 'dumplings', 'dumps', 'dunk', 'during', 'dust', 'dusted', 'dusty', 'dutch', 'duty', 'dvice', 'dwellers', 'dyes', 'dying', 'dynamic', 'dyslexic', 'e3', 'ea', 'each', 'eagle', 'ear', 'earhero', 'earl', 'earliest', 'early', 'earn', 'earned', 'earning', 'earphones', 'earpieces', 'earplugs', 'ears', 'earth', 'earthquake', 'earwax', 'ease', 'eases', 'easier', 'easiest', 'east', 'easter', 'easy', 'eat', 'eaten', 'eater', 'eaters', 'eating', 'eaton', 'eats', 'ebanks', 'ecard', 'ecards', 'eclectic', 'eclipse', 'eco', 'ecocool', 'economics', 'economist', 'economy', 'ecopod', 'ecosalon', 'ecousable', 'ecstasy', 'ecurry', 'ed', 'edd', 'eddy', 'edge', 'edges', 'edible', 'edibles', 'edinburgh', 'edita', 'edition', 'editor', 'editors', 'edmund', 'edtech', 'educativa', 'edwards', 'eerie', 'effect', 'effective', 'effects', 'effervescence', 'efficiency', 'efficient', 'effort', 'efforts', 'eft', 'egg', 'eggnog', 'eggplant', 'eggrolls', 'eggs', 'egos', 'egypt', 'ehow', 'eight', 'einstein', 'ejected', 'ekonomik', 'elderly', 'elearners', 'electric', 'electronic', 'electronics', 'elen', 'elephant', 'eliaz', 'elie', 'eliminate', 'eliminates', 'ella', 'elle', 'ellen', 'ellevictoire', 'elliot', 'elmo', 'elsa', 'else', 'elusive', 'elvis', 'email', 'embargo', 'embarrassing', 'embrace', 'emea', 'emergencies', 'emergency', 'emerging', 'emeril', 'emily', 'emma', 'emmys', 'empanadas', 'employee', 'employer', 'empowering', 'empty', 'emulates', 'en', 'enamor', 'enchilada', 'enchiladas', 'end', 'endangered', 'endeavor', 'endings', 'endless', 'ends', 'energy', 'enforcement', 'engadget', 'engine', 'engineering', 'engineers', 'engines', 'england', 'english', 'enhancing', 'enjoy', 'enough', 'enron', 'enter', 'enterprise', 'enterprises', 'entertainment', 'enthusiasts', 'entire', 'entirely', 'entrepreneur', 'environment', 'environmental', 'epic', 'epicurious', 'epidemic', 'epigenetics', 'epilepsy', 'epine', 'episode', 'epoch', 'equal', 'equipment', 'equipped', 'era', 'erase', 'eres', 'eric', 'erika', 'erin', 'erotic', 'error', 'escalators', 'escape', 'espana', 'espn', 'espresso', 'espys', 'essay', 'essential', 'essentials', 'estate', 'estenor', 'esti', 'esto', 'et', 'etch', 'ethan', 'etiquette', 'etsy', 'eur', 'euro', 'europe', 'european', 'eurozone', 'evan', 'eve', 'evelyne', 'even', 'evening', 'event', 'events', 'ever', 'evernote', 'everrrr', 'every', 'everybody', 'everyday', 'everydayhealth', 'everyone', 'everything', 'everywhere', 'evident', 'evil', 'evolution', 'evolutionary', 'ew', 'ex', 'exam', 'examine', 'examples', 'excellent', 'exchange', 'excited', 'exciting', 'exclusively', 'excognito', 'executive', 'executives', 'exercise', 'exercises', 'exercising', 'exergaming', 'exibition', 'existed', 'existence', 'exit', 'exodus', 'exoskeleton', 'exotic', 'expectancy', 'expendable', 'expensive', 'experience', 'experienced', 'experiment', 'expert', 'experts', 'explain', 'explained', 'explaining', 'explains', 'exploratory', 'explore', 'explored', 'explorers', 'explosm', 'exporter', 'exposed', 'exposure', 'express', 'exquisite', 'extension', 'extensions', 'extinguisher', 'extra', 'extracts', 'extraordinary', 'extreme', 'extremetech', 'eye', 'eyebrows', 'eyed', 'eyeglasses', 'eyelashes', 'eyeliner', 'eyes', 'eyeshadow', 'eyesight', 'ezra', 'fab', 'fabulous', 'face', 'facebook', 'facelift', 'faceoff', 'faceplants', 'faces', 'facial', 'facili', 'fact', 'factors', 'factory', 'facts', 'fail', 'fails', 'fair', 'faire', 'fairies', 'fairytale', 'faita', 'fajitas', 'fake', 'faked', 'fakes', 'fall', 'fallin', 'falling', 'fallon', 'falls', 'false', 'families', 'family', 'famous', 'fan', 'fanbase', 'fancy', 'fans', 'fantans', 'fantasies', 'fantastical', 'fantasy', 'far', 'fare', 'farm', 'farmer', 'farmers', 'farting', 'farts', 'fashiolista', 'fashion', 'fashionable', 'fashioned', 'fashionista', 'fashions', 'faso', 'fast', 'faster', 'fastest', 'fat', 'fatale', 'fatfree', 'father', 'fatigue', 'fatpita', 'fatter', 'faucet', 'faucets', 'fauja', 'favor', 'favorite', 'favors', 'favourite', 'favre', 'fax', 'fazed', 'fda', 'fear', 'feast', 'feather', 'feats', 'feature', 'featured', 'features', 'featuring', 'febrile', 'february', 'fed', 'federal', 'federer', 'feed', 'feeding', 'feel', 'feet', 'felix', 'felled', 'fema', 'female', 'femalefirst', 'femme', 'fengtastic', 'fennel', 'fernanda', 'fernando', 'ferrell', 'ferrero', 'ferriss', 'fertility', 'fest', 'festival', 'festive', 'feta', 'fettuccine', 'few', 'fey', 'fi', 'fiber', 'fibromyalgia', 'fibromyalgiacauses', 'fiction', 'field', 'fields', 'fieri', 'fiery', 'fifth', 'fifty', 'fight', 'fighter', 'fighting', 'fights', 'figs', 'figure', 'figured', 'figures', 'fiji', 'filet', 'filho', 'filled', 'filling', 'fillings', 'film', 'filtered', 'final', 'finally', 'finals', 'finance', 'finances', 'financial', 'find', 'finder', 'finding', 'findings', 'finds', 'fine', 'fined', 'finest', 'finger', 'fingerless', 'fingernail', 'fingerprint', 'fingers', 'fingertip', 'finish', 'finished', 'finishes', 'finishing', 'finland', 'finney', 'fire', 'firefly', 'firefox', 'fireworks', 'firm', 'first', 'fish', 'fishing', 'fist', 'fit', 'fitness', 'fitted', 'five', 'fix', 'fixed', 'fixing', 'fizz', 'fl', 'flag', 'flakes', 'flame', 'flammable', 'flank', 'flash', 'flat', 'flatbread', 'flatbreads', 'flatten', 'flatter', 'flattering', 'flatulent', 'flavor', 'flavored', 'flavorful', 'flavors', 'flavour', 'flesh', 'fleur', 'flexi', 'flexible', 'flickr', 'flight', 'flightaware', 'flip', 'flips', 'flix', 'float', 'floating', 'floods', 'floor', 'floral', 'florence', 'florentine', 'florida', 'floss', 'flour', 'flourless', 'flow', 'flower', 'flowers', 'floyd', 'flu', 'fluffernutter', 'fluffy', 'fluoride', 'flute', 'flux', 'fly', 'flyboard', 'flying', 'foam', 'focaccia', 'focus', 'focused', 'foes', 'foie', 'fois', 'folders', 'folkmann', 'follow', 'following', 'fondant', 'fondle', 'fondue', 'font', 'fonts', 'food', 'food52', 'foodbeast', 'foodie', 'foodies', 'foodily', 'foodista', 'foodmayhem', 'foodnetwork', 'foods', 'foodstuffs', 'foolproof', 'foot', 'footage', 'football', 'footballer', 'footwear', 'for', 'forbes', 'ford', 'forecast', 'forecasts', 'foreign', 'foreigners', 'foreman', 'foreskin', 'forest', 'forever', 'forget', 'forgives', 'forgot', 'fork', 'form', 'forma', 'formal', 'formation', 'former', 'formula', 'forno', 'forsberg', 'forsiden', 'fort', 'fortune', 'forum', 'forward', 'forwarded', 'foster', 'foul', 'found', 'foundation', 'founder', 'fountain', 'four', 'fowler', 'fox', 'fp', 'fra', 'fractions', 'fragole', 'fragrance', 'fragrances', 'framework', 'france', 'frances', 'franchises', 'francis', 'francisco', 'frank', 'frankenstorm', 'frankie', 'franklin', 'frappe', 'fratello', 'fraud', 'freak', 'freaky', 'freckled', 'fred', 'free', 'freebase', 'freemanic', 'freestyle', 'freezer', 'freezing', 'french', 'frequency', 'fresco', 'fresh', 'friday', 'fridays', 'fridge', 'fried', 'friend', 'friendly', 'friends', 'friendship', 'fries', 'friggin', 'frisbee', 'frites', 'frittata', 'fritters', 'frocks', 'from', 'front', 'frontiers', 'frosted', 'frosting', 'frozen', 'frugal', 'fruit', 'fruits', 'fruity', 'frustration', 'fry', 'fryer', 'frying', 'ft', 'fu', 'fuck', 'fucking', 'fudge', 'fudgy', 'fuel', 'fuels', 'fuji', 'fukung', 'full', 'fuller', 'fully', 'fun', 'functional', 'functioning', 'funeral', 'funfetti', 'fung', 'fungus', 'funhug', 'funk', 'funky', 'funnel', 'funnies', 'funniest', 'funny', 'funny368', 'furious', 'further', 'fusion', 'fusions', 'futile', 'future', 'futuristic', 'fuzzy', 'fyi', 'g20', 'g4tv', 'gabbana', 'gabriella', 'gabrielle', 'gadget', 'gadgets', 'gaga', 'gagged', 'gain', 'gained', 'gal', 'galadarling', 'galaxy', 'galettes', 'gallagher', 'galleries', 'gallery', 'gallo', 'gallstones', 'galore', 'gamble', 'game', 'gamenet', 'gamer', 'games', 'gamine', 'gaming', 'ganache', 'gang', 'gangnam', 'ganja', 'gap', 'garay', 'garbage', 'garden', 'gardener', 'garlic', 'garlicky', 'gas', 'gastronomy', 'gate', 'gathers', 'gave', 'gawker', 'gay', 'gays', 'gazette', 'gear', 'gearfuse', 'geek', 'geekdad', 'geekier', 'geekolinks', 'geekosystem', 'geeks', 'geeky', 'gehrke', 'gel', 'gelato', 'gelification', 'gels', 'gen', 'gene', 'general', 'generate', 'generation', 'generator', 'genes', 'genesis', 'genetic', 'genevieve', 'genius', 'gentlemen', 'genuine', 'george', 'georgia', 'german', 'germany', 'germiest', 'germs', 'gesture', 'gesucht', 'get', 'gets', 'getting', 'gfcommunity', 'ghannouj', 'ghirardelli', 'ghost', 'giada', 'giant', 'giants', 'gif', 'gifs', 'gift', 'gifterpiece', 'gifts', 'gig', 'giggle', 'giggling', 'gimme', 'gimundo', 'gina', 'ginas', 'ginger', 'gingerbread', 'gingersnap', 'ginzburg', 'girl', 'girlfriend', 'girls', 'giuliani', 'give', 'giveaway', 'given', 'gives', 'giving', 'gizmo', 'gizmodo', 'glad', 'glamorize', 'glamour', 'glass', 'glasses', 'glastonbury', 'glaze', 'glencore', 'glo', 'global', 'globalpost', 'globe', 'glory', 'glossy', 'glove', 'gloves', 'glows', 'gluing', 'glutamine', 'gluten', 'glutenfree', 'glycemic', 'gm', 'gmail', 'gnarliest', 'gnocchi', 'go', 'goal', 'goalie', 'goalkeeper', 'goat', 'god', 'goddess', 'goes', 'goggles', 'going', 'gold', 'golden', 'golf', 'golubka', 'gomes', 'gone', 'gonna', 'gonzalez', 'good', 'goodness', 'goods', 'goodtoknow', 'gooey', 'google', 'goreng', 'gorgeous', 'gorgonzola', 'gorilla', 'gossip', 'got', 'gothamist', 'gottfried', 'gouda', 'goulart', 'gourmet', 'gov', 'government', 'gowns', 'gps', 'gq', 'grab', 'grace', 'graces', 'gradient', 'graffiti', 'graham', 'grammy', 'grand', 'grandchildren', 'grandma', 'grandmother', 'grandmothers', 'granny', 'granola', 'grape', 'grapefruit', 'graphene', 'graphic', 'graphics', 'graphs', 'gras', 'gratia', 'gratin', 'graveyard', 'gravlax', 'gravy', 'gray', 'grease', 'great', 'greatest', 'greatist', 'greek', 'green', 'greene', 'greenest', 'greenopolis', 'greens', 'greenspaces', 'greeting', 'grill', 'grilled', 'grillin', 'grilling', 'grind', 'grocer', 'groceries', 'grocery', 'groopd', 'groovy', 'gross', 'grouchy', 'ground', 'groundbreaking', 'group', 'grow', 'growing', 'grown', 'grows', 'growth', 'grub', 'grubgrade', 'grumpy', 'gruyere', 'gt', 'gtx', 'guacamole', 'guaranteed', 'guard', 'guardian', 'guardiannews', 'guavas', 'guess', 'guest', 'guests', 'guice', 'guide', 'guides', 'guilt', 'guinness', 'gulf', 'gum', 'gumball', 'gummy', 'gun', 'gunman', 'guru', 'gut', 'gutt', 'guy', 'guyism', 'guys', 'gym', 'gyms', 'gzel', 'h1n1', 'habit', 'habits', 'hack', 'hacked', 'hacking', 'hacks', 'hactivists', 'had', 'hadn', 'haggis', 'hail', 'hair', 'hairclipsbytiph', 'hairstyles', 'haiti', 'hajduk', 'halal', 'half', 'halftime', 'halloween', 'hallows', 'halls', 'halt', 'halves', 'ham', 'hama', 'hamburger', 'hamster', 'hand', 'handbags', 'handbook', 'handicapped', 'handle', 'handmade', 'hands', 'handstand', 'hang', 'hangover', 'hangovers', 'hannah', 'hanukkah', 'happened', 'happening', 'happens', 'happier', 'happiness', 'happy', 'harassed', 'hard', 'hardware', 'haring', 'harissa', 'harper', 'harry', 'hartford', 'harvard', 'harvest', 'harvested', 'has', 'hashanah', 'hashbrowns', 'hasselback', 'hassle', 'hat', 'hatch', 'hate', 'hated', 'hats', 'haute', 'hauteness', 'have', 'haven', 'haves', 'having', 'hazards', 'hazelnut', 'hd', 'he', 'head', 'headache', 'headaches', 'headlines', 'headphones', 'headquarters', 'heads', 'healing', 'health', 'healthcare', 'healthguru', 'healthier', 'healthiest', 'healthified', 'healthland', 'healthy', 'heard', 'heart', 'heartlessness', 'hearts', 'hearty', 'heat', 'heath', 'heather', 'heating', 'heaven', 'heavy', 'heck', 'hedgehog', 'heed', 'heels', 'heidi', 'heilbrunn', 'heise', 'hel', 'helgasons', 'helicopter', 'helium', 'hell', 'hello', 'helnwein', 'help', 'helpful', 'helping', 'helps', 'helsinki', 'hemorrhoids', 'henderson', 'henge', 'henri', 'hepatitis', 'hepburn', 'her', 'herb', 'herbivoracious', 'herbs', 'herd', 'here', 'heroes', 'herrera', 'herring', 'heydemotivate', 'hfcs', 'hgh', 'hi', 'hiatus', 'hibb', 'hid', 'hidden', 'hide', 'high', 'higher', 'highest', 'highly', 'highway', 'hike', 'hilarious', 'hilaris', 'hill', 'hillary', 'hillbilly', 'hills', 'hillshire', 'hilton', 'him', 'himself', 'hindenburg', 'hintergründe', 'hints', 'hip', 'hiperativo', 'hipster', 'hipsters', 'hire', 'hiring', 'his', 'history', 'hit', 'hitler', 'hits', 'hiv', 'ho', 'hoarding', 'hoc', 'hockey', 'hockmeyer', 'hofbrauhaus', 'hoisin', 'hole', 'holes', 'holiday', 'holidays', 'holistic', 'hollie', 'hollywood', 'holmes', 'holodeck', 'holographic', 'holography', 'holy', 'home', 'homeless', 'homemade', 'homemaker', 'homemakers', 'homepage', 'homeroom', 'homework', 'homophobes', 'homotography', 'honda', 'honest', 'honestly', 'honey', 'honeybunch', 'honor', 'honors', 'hood', 'hoodie', 'hoodies', 'hooked', 'hookups', 'hope', 'horizon', 'horrifying', 'horror', 'horrors', 'hors', 'horse', 'horses', 'hospital', 'host', 'hostess', 'hosting', 'hot', 'hotels', 'hotity', 'hotline', 'hotlines', 'hotter', 'hottest', 'hotties', 'hour', 'hourglass', 'hours', 'house', 'houses', 'housewife', 'houston', 'hoverbike', 'hoverboards', 'hovercraft', 'hovering', 'how', 'how2heroes', 'howtogetridofstuff', 'hq', 'htc', 'html5', 'http', 'hub', 'hubby', 'hubschman', 'huevos', 'hughes', 'hulc', 'human', 'humanity', 'humans', 'hummingbird', 'hummus', 'humor', 'humorous', 'hundred', 'hundreds', 'hungry', 'hunt', 'hunters', 'huntley', 'hurdles', 'hurricane', 'hurt', 'hussein', 'hut', 'hutchison', 'hybrid', 'hydrogen', 'hydroponic', 'hype', 'hyperbole', 'hypertension', 'hypnotic', 'hypotheses', 'ian', 'ibm', 'ibook', 'ibs', 'icantseeyou', 'ice', 'iced', 'iceland', 'icing', 'icon', 'iconic', 'icons', 'icup', 'id', 'idea', 'ideal', 'idealbite', 'ideas', 'identified', 'identify', 'identifying', 'identity', 'idiot', 'if', 'ifa', 'ifood', 'iftar', 'ignore', 'ii', 'iii', 'ikku', 'il', 'ill', 'illiteracy', 'illiterate', 'illness', 'illuminated', 'illusion', 'illustrated', 'illustration', 'illustrations', 'illustrator', 'im', 'image', 'imageforum', 'images', 'imageshack', 'imagine', 'imbalance', 'imgfave', 'imgzzz', 'imitators', 'immersion', 'immune', 'immunity', 'imogen', 'impact', 'impacts', 'implant', 'implants', 'important', 'imports', 'impossible', 'impression', 'impressive', 'improve', 'improved', 'improvements', 'improvised', 'impulsive', 'in', 'inaction', 'inappropriate', 'inc', 'incandela', 'inches', 'incite', 'include', 'included', 'incompetent', 'increase', 'increased', 'increasingly', 'incredible', 'incredibly', 'incurable', 'independent', 'index', 'india', 'indian', 'indie', 'indigestion', 'indispensable', 'individual', 'induced', 'indulge', 'industrial', 'industry', 'infection', 'infectious', 'infects', 'infinitely', 'infinity', 'inflatable', 'inflating', 'influence', 'influenced', 'influential', 'info', 'infographic', 'infographics', 'information', 'informationweek', 'informationweek3', 'infringing', 'infused', 'ingenious', 'ingredient', 'ingredients', 'inhardfocus', 'initiates', 'injury', 'ink', 'inmate', 'inmates', 'innnovation', 'innocent', 'innova', 'innovates', 'innovation', 'innovations', 'innovative', 'insane', 'insanity', 'inside', 'insider', 'insidershealth', 'insight', 'insights', 'insomnia', 'inspiration', 'inspirational', 'inspire', 'inspired', 'inspires', 'inspo', 'instagram', 'installing', 'instances', 'instant', 'instantly', 'instructables', 'instructional', 'instructions', 'instyle', 'insurance', 'insurers', 'integrated', 'integration', 'intel', 'intelligence', 'intelligent', 'intense', 'intentionally', 'interact', 'interactive', 'interception', 'interesting', 'interface', 'interiors', 'intermission', 'intermittent', 'internal', 'international', 'internationale', 'internationally', 'internet', 'internets', 'internships', 'interview', 'interviewed', 'intimate', 'intimidate', 'into', 'introduces', 'invent', 'invented', 'invention', 'inventions', 'inventor', 'invents', 'investigations', 'investors', 'invincibility', 'invisibility', 'invisible', 'involvement', 'io9', 'iol', 'ios', 'iowa', 'ipack', 'ipad', 'ipads', 'iphone', 'ipod', 'iq', 'iranian', 'iraq', 'ireland', 'irene', 'ireport', 'iridessa', 'irina', 'iris', 'irish', 'iron', 'ironman', 'irradiation', 'irrigation', 'irving', 'is', 'isaac', 'iseeahappyface', 'ish', 'islamabad', 'island', 'isles', 'isn', 'israeli', 'issue', 'issues', 'it', 'italian', 'italy', 'items', 'its', 'itself', 'itsy', 'itty', 'iv', 'ivanovic', 'ivillage', 'ivy', 'ix', 'iyogi', 'izabel', 'jack', 'jackass', 'jacked', 'jacket', 'jackson', 'jacobs', 'jag', 'jail', 'jailed', 'jaja', 'jak', 'jake', 'jalapeno', 'jalapeño', 'jam', 'jamcore', 'james', 'jams', 'jan', 'jane', 'jansen', 'january', 'japan', 'japanese', 'jar', 'jared', 'jars', 'java', 'jawa', 'jazeera', 'jean', 'jeanette', 'jeans', 'jeffrey', 'jeggings', 'jeisa', 'jeje', 'jell', 'jelly', 'jellyfish', 'jenga', 'jenkins', 'jenneke', 'jennifer', 'jenny', 'jepsen', 'jere', 'jerry', 'jersey', 'jerseys', 'jessica', 'jesus', 'jet', 'jetblue', 'jetpack', 'jets', 'jetset', 'jewelers', 'jewelry', 'jewels', 'jewish', 'jey', 'jfk', 'jiggly', 'jill', 'jimmy', 'jitsu', 'jo', 'job', 'jobs', 'jockular', 'joe', 'joel', 'joes', 'joey', 'john', 'johnny', 'johnson', 'join', 'joins', 'joke', 'jokes', 'jokezzz', 'jolokia', 'jonathan', 'jones', 'jordan', 'jose', 'josé', 'jouannic', 'joulies', 'journal', 'journalists', 'joy', 'joyous', 'jp', 'jpg', 'jr', 'ju', 'judy', 'judysdesigns', 'juice', 'juices', 'juicing', 'juicy', 'jujitsu', 'julie', 'july', 'jump', 'jumpdrive', 'jumping', 'june', 'junior', 'junk', 'junkie', 'jus', 'just', 'justcook', 'justice', 'justjenn', 'k4n', 'kabobs', 'kaduk', 'kalamata', 'kale', 'kalles', 'kaminsky', 'kangen', 'karin', 'karma', 'kartoen', 'kat', 'kate', 'kategorileri', 'kath', 'katherine', 'kathryn', 'katie', 'kaviar', 'kayak', 'kaye', 'kayla', 'keacher', 'kebabs', 'keep', 'keith', 'keller', 'kenney', 'kenny', 'kensington', 'kentucky', 'kera', 'kermit', 'kernels', 'kerr', 'ketchup', 'ketones', 'kevin', 'key', 'keyboard', 'kfc', 'khymos', 'kick', 'kicked', 'kicker', 'kicks', 'kid', 'kidneys', 'kids', 'kikidoll', 'kill', 'killed', 'killer', 'killing', 'kills', 'killsometime', 'kimberly', 'kind', 'kindergarteners', 'kindle', 'kinds', 'kinect', 'king', 'kirbie', 'kirkwood', 'kiss', 'kissed', 'kisses', 'kit', 'kitchen', 'kitchenmodular', 'kitchens', 'kitchn', 'kite', 'kiteboard', 'kiteboarding', 'kites', 'kitty', 'kittyrug', 'kiwi', 'kk723', 'klassen', 'klga', 'klum', 'km3d', 'knead', 'knew', 'knick', 'knicker', 'knicks', 'knife', 'knight', 'knights', 'knit', 'knitting', 'knives', 'knock', 'knockout', 'knot', 'knots', 'know', 'knowing', 'knowledge', 'koala', 'koalas', 'kobe', 'kobi', 'kolaches', 'kolay', 'kontraband', 'korea', 'korean', 'kornelis', 'kosher', 'kraft', 'krakez', 'kreme', 'krill', 'krispie', 'krispies', 'krispy', 'kristen', 'kritzer', 'krupa', 'kugel', 'kugels', 'kugowo', 'kultur', 'kung', 'kwotes', 'kylie', 'kyphosis', 'kyrie', 'la', 'lab', 'labeling', 'labels', 'labor', 'laboratories', 'labs', 'lace', 'laces', 'lacets', 'lacing', 'lacrosse', 'ladder', 'laden', 'ladies', 'lady', 'lagasse', 'laid', 'lakers', 'lakes', 'lam', 'lamar', 'lamborghini', 'laminate', 'lamp', 'lampard', 'land', 'landing', 'landlord', 'landmine', 'lands', 'landscape', 'lane', 'languages', 'lantern', 'laparoscopy', 'laptop', 'large', 'larger', 'largest', 'larissa', 'larper', 'larry', 'las', 'lasagna', 'lasanga', 'laser', 'lashes', 'lasso', 'last', 'lasting', 'late', 'later', 'latest', 'latkes', 'latte', 'lattice', 'laugh', 'laughing', 'laughter', 'launch', 'launched', 'launches', 'laundry', 'laura', 'lauren', 'laurent', 'laurentiis', 'laurie', 'lavender', 'law', 'lawley', 'lawn', 'lawyer', 'layer', 'layered', 'lays', 'lazy', 'lbs', 'lcd', 'lcds', 'le', 'lead', 'leader', 'leaders', 'leading', 'leads', 'leaf', 'league', 'leaking', 'leaks', 'lean', 'leaner', 'leap', 'learn', 'learned', 'lease', 'least', 'leather', 'leathers', 'leave', 'lebanese', 'lebron', 'leche', 'leches', 'led', 'lee', 'leek', 'lefse', 'left', 'leftover', 'leftovers', 'leg', 'legal', 'legalization', 'legendary', 'legislature', 'legitimately', 'lego', 'legos', 'legs', 'leibovitz', 'lemieux', 'lemon', 'lemonade', 'lemons', 'length', 'leno', 'lenovo', 'lentil', 'leprechaun', 'les', 'lesbian', 'less', 'lessens', 'lesson', 'lessons', 'lester', 'let', 'letarte', 'lets', 'letter', 'letterman', 'letters', 'lettuce', 'level', 'leveled', 'levels', 'levi', 'levitating', 'levitation', 'lewis', 'lexar', 'lexiyoga', 'liam', 'libel', 'library', 'lie', 'lies', 'life', 'lifehacker', 'lifehacks', 'lifespan', 'lifestyle', 'lifewise', 'lifter', 'lifts', 'light', 'lighter', 'lights', 'lightwind', 'like', 'likely', 'lil', 'lim', 'lime', 'limited', 'limits', 'limoncello', 'limoncelloquest', 'lin', 'lindsay', 'line', 'linearfashions', 'liner', 'linering', 'lingerie', 'linguini', 'link', 'link25', 'linked', 'linkedin', 'links', 'linux', 'lions', 'lip', 'lippmann', 'liquefaction', 'liquid', 'liron', 'lisa', 'list', 'listening', 'listings', 'lists', 'little', 'live', 'liven', 'liver', 'lives', 'living', 'll', 'llapingachos', 'llc', 'lmfao', 'lo', 'load', 'loaded', 'loader', 'loaf', 'lobster', 'local', 'locate', 'lockheed', 'locking', 'locurto', 'lofthouse', 'logged', 'logical', 'logos', 'lol', 'lolbrary', 'lolcats', 'lolcode', 'lollipops', 'lolpics', 'lolsnaps', 'lolz', 'lolzzz', 'london', 'londoner', 'long', 'longer', 'loofah', 'look', 'lookbook', 'lookbooks', 'looked', 'looking', 'looks', 'loom', 'looney', 'loophole', 'loose', 'lord', 'loris', 'los', 'lose', 'loser', 'losers', 'loses', 'losing', 'loss', 'lost', 'lot', 'lotions', 'lots', 'lottie', 'lou', 'loud', 'louis', 'love', 'loved', 'lovely', 'loverlyvintage', 'lovers', 'loves', 'lovin', 'low', 'lower', 'lowers', 'loyal', 'ltd', 'lucie', 'luck', 'luckiest', 'lude', 'ludobites', 'luis', 'luiz', 'luke', 'lukyanova', 'lulu', 'lulus', 'lump', 'luna', 'lunabean', 'lunar', 'lunartic_hubless', 'lunch', 'lunches', 'lung', 'lungs', 'luscious', 'lush', 'lust', 'luxirare', 'luxury', 'lv', 'ly', 'lynn', 'lytro', 'mac', 'macabre', 'macaron', 'macaroni', 'macarons', 'macbook', 'maccheroni', 'macfarlane', 'macheesmo', 'machine', 'machines', 'macs', 'macuser', 'mad', 'madame', 'madden', 'maddow', 'made', 'madness', 'madonna', 'maeg', 'maestro', 'mafia', 'mag', 'magazine', 'magazines', 'maggie', 'magi', 'magic', 'magical', 'magnet', 'magnetic', 'magnificent', 'magnolia', 'mahal', 'mail', 'main', 'maine', 'mains', 'maintain', 'maintenance', 'maison', 'major', 'make', 'makeovers', 'maker', 'makers', 'makes', 'makeup', 'makeuseof', 'making', 'malaysian', 'male', 'malfunctions', 'malin', 'mall', 'malt', 'malted', 'malware', 'mama', 'man', 'manage', 'management', 'managing', 'mango', 'mangoes', 'manhattan', 'manhole', 'manhood', 'mani', 'manifest', 'manifesto', 'manières', 'manliness', 'manly', 'manned', 'manolo', 'manuals', 'manufacturer', 'manufacturing', 'many', 'maple', 'mapping', 'maps', 'mar', 'maraschino', 'marathon', 'marble', 'marbled', 'marc', 'marca', 'march', 'margarita', 'mariah', 'marie', 'marijuana', 'marijunana', 'marilyn', 'marina', 'marinade', 'marinara', 'marinated', 'mario', 'marisa', 'mark', 'market', 'marketing', 'markets', 'markmontoya', 'marks', 'markus', 'marly', 'marnie', 'marnier', 'marquel', 'marriage', 'married', 'marsala', 'marsbar', 'marshall', 'marshmallow', 'marshmallows', 'mart', 'martha', 'martin', 'martini', 'marty', 'mary', 'masaharu', 'masala', 'mascarpone', 'masha', 'mashed', 'mashups', 'mask', 'mason', 'mass', 'massage', 'masses', 'master', 'mastering', 'masters', 'mastery', 'masuri', 'match', 'matcha', 'matches', 'material', 'materials', 'math', 'matkonation', 'matrix', 'matt', 'mattbites', 'matter', 'mattertechcrunch', 'matthew', 'maui', 'max', 'maxim', 'maximize', 'maximumble', 'may', 'maybe', 'mayo', 'mayonnaise', 'mcafee', 'mcardle', 'mcburger', 'mccanta', 'mccormick', 'mcdonald', 'mcdowell', 'mcnelly', 'mcnugget', 'mcqueen', 'me', 'meal', 'meals', 'mean', 'meander', 'meanest', 'meaning', 'means', 'meanwhile', 'measure', 'measured', 'measures', 'meat', 'meatball', 'meatballs', 'meatless', 'meats', 'meatwave', 'mechanical', 'mechwarrior', 'med', 'medalists', 'medals', 'media', 'medias', 'medical', 'medication', 'medications', 'medicinal', 'medicine', 'medindia', 'meditation', 'mediterranean', 'medium', 'medora', 'meek', 'meerkat', 'meet', 'meets', 'meg', 'mega', 'megabytes', 'megan', 'meliscious', 'melissa', 'melons', 'melt', 'melted', 'melting', 'melts', 'member', 'members', 'meme', 'memorable', 'memories', 'memory', 'men', 'mens', 'menshealth', 'menstrual', 'mental', 'mentoring', 'menu', 'menus', 'mercury', 'mere', 'meringue', 'mermaid', 'mesh', 'mess', 'messages', 'messing', 'met', 'metabolic', 'metal', 'metallic', 'meters', 'method', 'metro', 'metrofax', 'metropolis', 'metropolitan', 'mex', 'mexican', 'mexicans', 'meyer', 'mfw', 'mgm', 'miami', 'michael', 'michelin', 'michelle', 'michigan', 'mick', 'mickey', 'microbial', 'microneedles', 'microscope', 'microsoft', 'microwave', 'mid', 'middle', 'middleton', 'midseason', 'midst', 'midwestern', 'might', 'mighty', 'mignon', 'migraine', 'migraines', 'mii', 'mike', 'milan', 'mild', 'mile', 'military', 'milk', 'milkie', 'milkshake', 'milkshakes', 'miller', 'millet', 'milling', 'million', 'millionaire', 'millionaires', 'mills', 'milonakis', 'milwaukee', 'mimosa', 'minaj', 'mind', 'minded', 'mindfulness', 'minds', 'miners', 'mini', 'mining', 'minkpink', 'mint', 'mintlife', 'mintues', 'minus', 'minute', 'minutes', 'mira', 'miracle', 'miracles', 'miranda', 'mirror', 'misadventures', 'misbehave', 'miscarriages', 'miscpix', 'miserable', 'mishaps', 'miso', 'misprint', 'miss', 'missing', 'mississippi', 'mistakes', 'misty', 'misusing', 'mit', 'mittens', 'mix', 'mixed', 'mixtape', 'mlb', 'mlm', 'mls', 'mma', 'mmsgetcorny', 'mnn', 'mo', 'mob', 'mobile', 'mocha', 'mochiatto', 'mod', 'modcloth', 'mode', 'model', 'models', 'moderate', 'modern', 'modes', 'modified', 'modular', 'mohtarez', 'mojito', 'molasses', 'mold', 'molded', 'mole', 'molecular', 'moline', 'molla', 'molly', 'molten', 'mom', 'moment', 'moments', 'momlogic', 'momma', 'mommy', 'momofuku', 'moms', 'momspark', 'momtastic', 'monday', 'mondays', 'money', 'moneymaking', 'mongolian', 'monitor', 'monitoring', 'monkey', 'monkeybars', 'monkeys', 'monroe', 'monsanto', 'monster', 'month', 'months', 'mood', 'moon', 'moqueca', 'mordor', 'more', 'mores', 'moretz', 'morgan', 'morgenthaler', 'morimoto', 'morning', 'moroccan', 'moronail', 'morton', 'most', 'mostess', 'mota', 'mother', 'motion', 'motivated', 'motivation', 'motorbike', 'motorcycle', 'motta', 'moulded', 'mountain', 'mountaineering', 'mounted', 'mourinho', 'mouse', 'mousse', 'mouth', 'mov', 'move', 'moved', 'movement', 'moves', 'movie', 'movies', 'moving', 'moyers', 'mozart', 'mozzarella', 'mph', 'mr', 'mri', 'mris', 'mrs', 'ms', 'mshake', 'msnbc', 'msu', 'mtv', 'much', 'mud', 'mudder', 'muddle', 'muerte', 'muffin', 'muffins', 'mug', 'mugs', 'muhammad', 'mullet', 'multi', 'multimedia', 'multiple', 'multiplying', 'multnomah', 'mum', 'mummy', 'munch', 'munchies', 'munchin', 'munchkin', 'munchy', 'muppets', 'murder', 'murders', 'muscle', 'muscles', 'museum', 'mushroom', 'mushrooms', 'music', 'must', 'mustard', 'mutant', 'mutating', 'mutfağı', 'mvp', 'my', 'myhrvold', 'myrecipes', 'myself', 'myspace', 'mysteries', 'mysterious', 'mystery', 'myth', 'myths', 'más', 'naan', 'nachos', 'nachrichten', 'nada', 'naga', 'nail', 'nailed', 'nails', 'nair', 'naked', 'naltrexone', 'name', 'namely', 'names', 'nanna', 'nanny', 'nano', 'nanobots', 'nap', 'napping', 'naps', 'napster', 'naptime', 'narvcol', 'nasa', 'nast', 'natalie', 'nathan', 'nation', 'national', 'native', 'natural', 'naturally', 'naturals', 'nature', 'natureinsider', 'naughty', 'nausea', 'nav', 'navigational', 'nazi', 'nba', 'nbc', 'nc', 'ncaa', 'ndash', 'near', 'nearly', 'nebraska', 'neck', 'necklace', 'necklaces', 'necksessory', 'nedrept', 'need', 'needed', 'needs', 'negamaki', 'negative', 'negligence', 'neighbors', 'neil', 'neon', 'nerdbastards', 'nerds', 'nerdsmagazine', 'nest', 'net', 'netragard', 'nets', 'nettle', 'network', 'networking', 'networks', 'neurotic', 'neutral', 'never', 'nevertoomuchglitter', 'new', 'newegg', 'newest', 'newly', 'news', 'newschnitzel', 'newsday', 'newser', 'newseum', 'newsfeed', 'newshour', 'newslink', 'newsnow', 'newspaper', 'newspapers', 'newsroom', 'newsrooms', 'newsweek', 'newton', 'nexeon', 'next', 'nexus', 'nfl', 'nhl', 'nib', 'nibble', 'nicaraguans', 'nice', 'niches', 'nicholas', 'nickel', 'nickelback', 'nicki', 'nicking', 'nicktoon', 'nicky', 'nicole', 'night', 'nih', 'nike', 'nikibone', 'nikki', 'nikolai', 'nine', 'ninemsn', 'ninja', 'nintendo', 'nirvana', 'nm', 'no', 'noble', 'nods', 'noise', 'noises', 'nokia', 'nomads', 'nominated', 'nomskulls', 'non', 'nonesuch', 'nonprofit', 'noodle', 'noodles', 'nor', 'nora', 'normal', 'norris', 'north', 'northeast', 'northern', 'norway', 'norwegian', 'nose', 'nostalgia', 'not', 'notable', 'notcot', 'notebook', 'notes', 'noteslate', 'notice', 'noticias', 'novels', 'november', 'novice', 'novoselova', 'now', 'npr', 'nsfw', 'nu', 'nuclear', 'nude', 'number', 'numbers', 'numéro', 'nurses', 'nursing', 'nut', 'nutella', 'nutr', 'nutrient', 'nutrients', 'nutrisystem', 'nutrition', 'nutritional', 'nutritionists', 'nutritious', 'nuts', 'nuttiness', 'nutty', 'nvidia', 'ny', 'nyc', 'nye', 'nyheter', 'nylon', 'nz', 'o5', 'oakland', 'oakley', 'oasis', 'oat', 'oatmeal', 'obama', 'obamacare', 'obe', 'obese', 'obesity', 'objects', 'obscure', 'obsessed', 'obsession', 'obstacle', 'occupations', 'ocean', 'oct', 'october', 'octopus', 'od', 'odd', 'oddee', 'oddly', 'odom', 'oeuvres', 'of', 'off', 'offbeat', 'offering', 'offers', 'office', 'officer', 'official', 'offs', 'offseason', 'oh', 'ohio', 'ohtake', 'oil', 'oils', 'okay', 'okcupid', 'okla', 'olaf', 'old', 'older', 'oldest', 'oled', 'oleds', 'olga', 'oli', 'olive', 'olsen', 'olympians', 'olympic', 'olympics', 'om', 'ombre', 'ombré', 'omelet', 'omelette', 'omelettes', 'omg', 'omnia', 'omnitouch', 'omnivore', 'on', 'once', 'one', 'oneshot', 'onion', 'onions', 'online', 'onlinedegrees', 'only', 'onondaga', 'onto', 'open', 'opendonor', 'opening', 'openness', 'openssl', 'opera', 'operating', 'operations', 'opinion', 'opinions', 'oprah', 'optician', 'optimism', 'optimize', 'optimum', 'optional', 'optionally', 'options', 'or', 'orange', 'oranges', 'orb', 'order', 'ordering', 'orders', 'ordinary', 'ordon', 'orecchiette', 'oreilly', 'oreo', 'oreos', 'orf', 'org', 'organic', 'organics', 'organize', 'organizing', 'organs', 'orgasm', 'oriental', 'origin', 'original', 'orleans', 'ornish', 'orthopaedics', 'orzo', 'osama', 'oscar', 'oshea', 'osso', 'ostrich', 'other', 'otters', 'ouch', 'ought', 'our', 'ourselves', 'out', 'outcry', 'outdoor', 'outfit', 'outfits', 'outside', 'outsiders', 'outtakes', 'outweighs', 'oven', 'ovens', 'over', 'overactive', 'overall', 'overload', 'overly', 'overnight', 'overprescribed', 'overreactions', 'overview', 'overweight', 'owls', 'own', 'owned', 'owning', 'owns', 'oxford', 'oxygen', 'oz', 'p10', 'pa', 'pac', 'pack', 'package', 'packed', 'packs', 'pacquiao', 'pad', 'pads', 'page', 'pages', 'pain', 'painful', 'painfully', 'painkiller', 'painkillers', 'pains', 'paint', 'paints', 'pair', 'pairing', 'pairs', 'pakistan', 'palace', 'palate', 'paleo', 'palm', 'pampered', 'pan', 'panasianbiz', 'pancake', 'pancakes', 'pancetta', 'pandemic', 'pandora', 'panera', 'pango', 'panini', 'panjshir', 'panko', 'panna', 'pans', 'pants', 'panéed', 'pao', 'paper', 'paracusia', 'paradigm', 'paradox', 'paradoxoff', 'paralympic', 'paralympics', 'parasite', 'pardoned', 'parentables', 'parents', 'parfaits', 'paris', 'parisian', 'park', 'parking', 'parkinson', 'parkour', 'parks', 'parliament', 'parmesan', 'parmigiana', 'parody', 'parsley', 'parsnip', 'part', 'parties', 'parts', 'party', 'pasa', 'paska', 'passed', 'passenger', 'passengers', 'passersby', 'passing', 'passion', 'passover', 'passport', 'passwords', 'passé', 'past', 'pasta', 'pastas', 'pasticcera', 'pasties', 'pastries', 'pastry', 'patent', 'path', 'patient', 'patients', 'patisseries', 'patou', 'patrick', 'patriotic', 'patriots', 'patrishka', 'patterning', 'patterns', 'patterson', 'patties', 'patty', 'paula', 'pauladeen', 'paulina', 'paupered', 'pavilion', 'pay', 'paypal', 'payphone', 'pays', 'pbh2', 'pbs', 'pc', 'pcmag', 'pcs', 'pcworld', 'pea', 'peace', 'peach', 'peaches', 'peanut', 'peanuts', 'peanutty', 'pear', 'pearce', 'pearl', 'pears', 'peas', 'pebbles', 'pecan', 'pecans', 'pedestrian', 'pediatrician', 'pee', 'peek', 'peel', 'peeling', 'peggy', 'pellegrini', 'pen', 'penalty', 'penguins', 'penn', 'pennant', 'penne', 'pennies', 'penny', 'pensito', 'people', 'pepper', 'peppercorn', 'peppermint', 'pepperoni', 'peppers', 'pepsi', 'per', 'percent', 'perez', 'perfect', 'perfection', 'perfectly', 'performance', 'performence', 'performing', 'perfumes', 'peril', 'period', 'perla', 'permit', 'perplexed', 'perrys', 'persia', 'persistent', 'person', 'personal', 'personality', 'personas', 'personnel', 'perspective', 'peruvian', 'pesto', 'pet', 'peta', 'pete', 'peter', 'peterson', 'petite', 'petition', 'pew', 'pg', 'pg13', 'ph', 'pham', 'pharm', 'pharmaceutical', 'pharmacist', 'pharmacywebstore', 'phemme', 'phil', 'philadelphia', 'philippines', 'philips', 'phillies', 'philly', 'philosophy', 'pho', 'phoenix', 'phone', 'phones', 'phoodie', 'photo', 'photobombs', 'photograph', 'photographed', 'photographer', 'photographers', 'photographs', 'photography', 'photograzing', 'photos', 'photoset', 'photoshop', 'photostream', 'photosynth', 'physical', 'physician', 'physics', 'physiologic', 'physiology', 'pi', 'piabarile', 'pic', 'piccsy', 'pick', 'pickle', 'picks', 'pickthebrain', 'picky', 'pickycook', 'pics', 'picselate', 'picture', 'pictured', 'pictures', 'pie', 'piece', 'pieces', 'pierogi', 'pies', 'pig', 'piggyback', 'pigskin', 'piirmek', 'pile', 'pill', 'pillow', 'pillows', 'pills', 'pillsbury', 'pilot', 'piloto', 'pimple', 'pimps', 'pinch', 'pincookie', 'pineapple', 'ping', 'pink', 'pint', 'pinteresting', 'pinuplifestyle', 'pinwheel', 'pinwheels', 'pioneer', 'piped', 'pique', 'pirate', 'pirates', 'piss', 'pistachio', 'pistof', 'pistol', 'pistorius', 'pit', 'pita', 'pitt', 'pittsburgh', 'pivovarova', 'pizza', 'pizzas', 'pizzzzookie', 'place', 'places', 'plague', 'plagued', 'plain', 'plan', 'plane', 'planet', 'planetsolar', 'plank', 'planner', 'planning', 'plans', 'plant', 'plants', 'plasma', 'plastic', 'plasticland', 'plate', 'platform', 'plato', 'platter', 'play', 'playa', 'playable', 'playbook', 'player', 'players', 'playing', 'playlists', 'plays', 'playstation', 'please', 'pleases', 'pleasure', 'pleasures', 'ploomy', 'plorf', 'plugs', 'plum', 'plunging', 'plus', 'plush', 'plywood', 'pneumatic', 'png', 'poach', 'poached', 'poblanos', 'pocket', 'pockets', 'pod', 'pogo', 'point', 'pointers', 'pointing', 'points', 'poison', 'poland', 'polar', 'poles', 'police', 'polish', 'politanoff', 'polite', 'political', 'politics', 'politik', 'poll', 'pollo', 'polyphasic', 'polyvore', 'pomegranate', 'pomegrantate', 'pong', 'pool', 'poop', 'poor', 'pop', 'popcorn', 'pophangover', 'poppers', 'poppyseed', 'pops', 'popsicles', 'popular', 'porizkova', 'pork', 'porn', 'portable', 'portada', 'portal', 'porter', 'porterhousemedia', 'portion', 'portland', 'portrait', 'portugese', 'poses', 'posing', 'positioning', 'positive', 'possibility', 'possible', 'post', 'postal', 'posters', 'posts', 'posture', 'pot', 'potato', 'potatoes', 'potluck', 'pots', 'potter', 'pound', 'pounds', 'pour', 'powdered', 'powell', 'power', 'powerbocks', 'powered', 'powerful', 'powergirl18', 'practical', 'practically', 'practices', 'prada', 'praises', 'praline', 'prank', 'pranks', 'pravda', 'praver', 'pre', 'precocious', 'predicted', 'prediction', 'predictions', 'prefer', 'pregnancy', 'premier', 'premium', 'prep', 'preparation', 'preparations', 'prepare', 'preppers', 'prescription', 'presence', 'present', 'presenta', 'preserve', 'president', 'presidents', 'presley', 'press', 'pressure', 'prestigious', 'pretty', 'pretzel', 'pretzels', 'prevent', 'preventing', 'prevention', 'preventions', 'preview', 'prices', 'pricing', 'pride', 'primal', 'prime', 'primer', 'prince', 'princess', 'princesses', 'principles', 'pringle', 'print', 'printables', 'printed', 'printer', 'printers', 'printing', 'prints', 'prioritize', 'prism', 'prison', 'prisoner', 'private', 'privilege', 'pro', 'probably', 'probiotic', 'probiotics', 'problem', 'problems', 'procedures', 'process', 'processed', 'prodigits', 'produce', 'producer', 'product', 'productive', 'productivity', 'products', 'proenza', 'professor', 'profile', 'profiler', 'profiles', 'profit', 'program', 'programmers', 'programmes', 'programming', 'prohibition', 'project', 'projectile', 'projection', 'projectors', 'projects', 'projo', 'proletariat', 'prom', 'promises', 'proof', 'propelled', 'properly', 'proportions', 'proposal', 'proposes', 'prosciutto', 'prosthetic', 'prosthetics', 'protect', 'protectie', 'protecting', 'protein', 'proteins', 'protest', 'protesters', 'protests', 'prototype', 'prove', 'proven', 'provide', 'providence', 'pryor', 'ps3s', 'psa', 'psn', 'psyched', 'psychedelic', 'psychiatric', 'psychology', 'public', 'publicityclerks', 'published', 'publishers', 'pubmed', 'pudding', 'puff', 'puffed', 'puffs', 'puffy', 'pull', 'pulled', 'pulls', 'pulse', 'pumpkin', 'punch', 'punchfork', 'punctures', 'punisher', 'punk', 'puppy', 'purchases', 'purple', 'purplevogue', 'purse', 'pursuit', 'purée', 'push', 'pussycat', 'put', 'puts', 'pwnage', 'q4', 'qb', 'qbs', 'qdb', 'qr', 'quackwatch', 'quad', 'quadrotors', 'quake', 'qualities', 'quality', 'quandaries', 'quantum', 'quarter', 'quazen', 'quebec', 'queen', 'queenbeeofbeverlyhills', 'queenofthecute', 'queens', 'quentin', 'quesadilla', 'quesadillas', 'queso', 'quest', 'question', 'questionably', 'questioning', 'questions', 'quiche', 'quick', 'quickest', 'quickies', 'quickly', 'quieter', 'quinoa', 'quirky', 'quit', 'quitting', 'quiz', 'quotable', 'quote', 'quotes', 'r9', 'rabbits', 'race', 'races', 'rachael', 'racist', 'racists', 'racy', 'radial', 'radiatori', 'radio', 'radsportbekleidung', 'rae', 'rag', 'rage', 'ragout', 'rahway', 'raid', 'railway', 'rain', 'rainbow', 'rainy', 'raises', 'raisin', 'ramadan', 'ramazan', 'rambler', 'ramblings', 'ramen', 'ramp', 'ranch', 'rancheros', 'random', 'range', 'ranges', 'rank', 'ranking', 'rantings', 'rap', 'rape', 'rapid', 'rapids', 'raptor', 'rapunzel', 'rare', 'rarebit', 'raspberry', 'rate', 'rated', 'rather', 'ravens', 'ravioli', 'raw', 'ray', 'rays', 'rd', 're', 'reaction', 'reacts', 'read', 'reader', 'readers', 'reading', 'ready', 'real', 'realage', 'reality', 'realize', 'really', 'realonlinedegrees', 'realsimple', 'reason', 'reasons', 'recall', 'recalls', 'receive', 'recent', 'reception', 'recipage', 'recipe', 'recipegirl', 'recipematcher', 'recipes', 'recipesource', 'recipetips', 'recognition', 'recommendations', 'recon', 'record', 'records', 'recover', 'recreating', 'recruiting', 'recycle', 'recyclebank', 'recycling', 'red', 'reddit', 'redheads', 'redorbit', 'reduce', 'reduces', 'reducing', 'ree', 'reed', 'reem', 'reese', 'refaeli', 'referee', 'reflects', 'reform', 'reforma', 'refresher', 'refuse', 'refuses', 'regaining', 'regenerating', 'regeneration', 'regional', 'register', 'regretful', 'regrets', 'regular', 'reinhart', 'reinvent', 'rejoice', 'rejuvenate', 'relate', 'related', 'relationship', 'relax', 'releases', 'relief', 'relieve', 'reliever', 'relish', 'relishing', 'relive', 'rely', 'remains', 'remedies', 'remedy', 'remember', 'remembrance', 'reminder', 'remote', 'remove', 'removes', 'removing', 'renault', 'rendition', 'renewable', 'renn', 'reoccuring', 'reopen', 'repair', 'replace', 'report', 'reportage', 'reported', 'reportedly', 'reporter', 'reporters', 'reporting', 'reputation', 'request', 'rescue', 'rescues', 'research', 'researchers', 'reset', 'residents', 'resimli', 'resolutions', 'resort', 'resource', 'resources', 'respect', 'response', 'responsible', 'responsive', 'rest', 'restaurant', 'restaurants', 'restoratives', 'results', 'resume', 'retail', 'retardant', 'rethinking', 'retractable', 'retro', 'return', 'returner', 'reuters', 'reveal', 'revealed', 'reveals', 'revenge', 'revenue', 'reverse', 'review', 'reviews', 'revive', 'revolting', 'revolution', 'revolutionary', 'revolutionizing', 'revved', 'reward', 'rewards', 'rex', 'rhapsody', 'rheumatoid', 'rhode', 'rhubarb', 'rib', 'ribbons', 'ribs', 'rice', 'ricette', 'rich', 'richest', 'rick', 'rickie', 'rico', 'ricotta', 'rid', 'ridden', 'riddle', 'ride', 'riders', 'ridiculous', 'rifle', 'right', 'rimino', 'ring', 'rings', 'rio', 'riot', 'ripest', 'ripken', 'ripoff', 'ripped', 'rise', 'risk', 'risotto', 'rites', 'ritual', 'rival', 'rivals', 'rivers', 'rives', 'rngg', 'road', 'roadside', 'roast', 'roasted', 'rob', 'robber', 'robbie', 'robin', 'robo', 'robot', 'robots', 'rocher', 'rock', 'rocket', 'rockstars', 'rocky', 'rod', 'rodale', 'rodarte', 'rode', 'roger', 'rohamos', 'rohrig', 'roi', 'roles', 'rolex', 'roll', 'rollatini', 'rollerblades', 'rollerphone', 'rolling', 'rolls', 'rolo', 'roma', 'romance', 'romantic', 'ronaldo', 'rookie', 'room', 'root', 'rooting', 'roots', 'rope', 'rose', 'rosemary', 'roses', 'rosetta', 'rosh', 'roshe', 'rotary', 'rotates', 'rotation', 'rouge', 'roulade', 'roulette', 'round', 'roundup', 'routes', 'routine', 'routzen', 'row', 'rowe', 'roxana', 'roxanne', 'royal', 'royale', 'rsquo', 'ru', 'rubble', 'rudy', 'rugby', 'ruhlman', 'rule', 'rules', 'rum', 'rumors', 'rumours', 'run', 'rundown', 'running', 'runs', 'runway', 'runways', 'russell', 'russia', 'russian', 'ruth', 'ryan', 's3', 'saab', 'sabotage', 'safe', 'safely', 'safer', 'safety', 'sag', 'sage', 'sahur', 'said', 'sailing', 'sailor', 'sailplane', 'saint', 'salad', 'salaries', 'sale', 'salem', 'sales', 'saliva', 'salmon', 'salon', 'salons', 'salsa', 'salt', 'salted', 'saltine', 'salts', 'salty', 'same', 'samoas', 'samsung', 'samuel', 'san', 'sandals', 'sandra', 'sandusky', 'sandwich', 'sandwiches', 'sandy', 'sang', 'sangria', 'sanitaryum', 'santa', 'sara', 'sarah', 'saran', 'sarcoidosis', 'sartorialist', 'sasha', 'sasquatch', 'satay', 'satellite', 'satire', 'satisfy', 'saturday', 'saturn', 'sauce', 'sauces', 'saudável', 'sausage', 'saut', 'sautéed', 'savage', 'save', 'saved', 'saver', 'saves', 'saving', 'savor', 'savory', 'savour', 'say', 'saying', 'says', 'sc', 'scale', 'scallion', 'scalloped', 'scallops', 'scam', 'scamming', 'scandals', 'scanners', 'scans', 'scapegoat', 'scarf', 'scariest', 'scarletta', 'scarves', 'scary', 'scene', 'scenes', 'scent', 'scents', 'schaal', 'schedule', 'schedules', 'schnitzel', 'scholarship', 'school', 'schoolgirls', 'schools', 'schouler', 'schrenk', 'sci', 'science', 'scienceroll', 'scientific', 'scientist', 'scientists', 'scientology', 'sclerosis', 'scones', 'scoopertino', 'scooping', 'scoota', 'scooter', 'scooters', 'scope', 'score', 'scores', 'scoring', 'scotch', 'scotland', 'scots', 'scott', 'scottsdale', 'scout', 'scouts', 'scrambled', 'scrapped', 'scraps', 'scratch', 'screen', 'screencaps', 'screens', 'screw', 'scribbles', 'scrubs', 'scrumptious', 'sculpture', 'sculptured', 'sculptures', 'se', 'sea', 'seafood', 'seahawks', 'seal', 'seals', 'search', 'seared', 'seasaltwithfood', 'season', 'seasonal', 'seasoned', 'seasons', 'seattle', 'seau', 'seco', 'second', 'seconds', 'secret', 'secrets', 'section', 'sector', 'secure', 'security', 'sedentário', 'seder', 'see', 'seed', 'seeds', 'seek', 'seemingly', 'seems', 'seen', 'sees', 'segway', 'seinfeld', 'seizures', 'sel', 'select', 'selecting', 'self', 'selfless', 'selita', 'sell', 'selling', 'sells', 'semantic', 'semen', 'semi', 'semisweet', 'sending', 'sends', 'senior', 'sensation', 'sensational', 'sense', 'senses', 'sensitive', 'sentinel', 'sentry', 'senuke', 'senza', 'seo', 'separate', 'sept', 'sequences', 'sequin', 'serene', 'serenity', 'series', 'serious', 'seriously', 'serve', 'served', 'server', 'service', 'services', 'serving', 'ses', 'sesame', 'set', 'setareh', 'seth', 'sets', 'seu', 'seven', 'sewers', 'sewing', 'sex', 'sexiest', 'sexifying', 'sexists', 'sexual', 'sexy', 'sez', 'sfc', 'sfw', 'shabby', 'shake', 'shakes', 'shakshuka', 'shameless', 'shampoo', 'shamwow', 'shannan', 'shaolin', 'shape', 'shaping', 'shaq', 'share', 'shareitfitness', 'sharing', 'shark', 'sharon', 'shattered', 'shave', 'shaved', 'shawarma', 'shayk', 'she', 'shebreathes', 'shed', 'sheep', 'sheet', 'sheets', 'shell', 'shells', 'shepherd', 'sherweb', 'shield', 'shifting', 'shiitake', 'shimmy', 'shin', 'shine', 'shinjaga', 'shiny', 'shirt', 'shirts', 'shit', 'shitcones', 'shock', 'shocking', 'shoe', 'shoeblog', 'shoelace', 'shoes', 'shoot', 'shooter', 'shooting', 'shootings', 'shop', 'shopper', 'shopping', 'shopruche', 'shops', 'shopsavvy', 'shore', 'short', 'shortbread', 'shortcake', 'shortcakes', 'shortform', 'shorts', 'shot', 'shots', 'should', 'shoulder', 'shouldn', 'shouyu', 'show', 'showcased', 'showdown', 'shower', 'showers', 'showing', 'shows', 'shredded', 'shreveporttimes', 'shrimp', 'shrinking', 'shrove', 'shutterbean', 'shuttle', 'shy', 'si', 'sib', 'sibling', 'sick', 'sidaka', 'side', 'sideoats', 'sight', 'sights', 'sign', 'signage', 'signed', 'signs', 'silence', 'silent', 'silica', 'silicon', 'silk', 'silly', 'silver', 'simmer', 'simple', 'simplest', 'simplicity', 'simplicityisbliss', 'simply', 'simplyclutch', 'simpson', 'sims', 'since', 'sinclair', 'sinfully', 'sing', 'singapore', 'singh', 'single', 'sink', 'sins', 'sip', 'sir', 'siri', 'sirloin', 'sit', 'site', 'sites', 'sitesi', 'sitting', 'six', 'sixface', 'sixty', 'size', 'sized', 'sizes', 'sizzled', 'skate', 'skatepark', 'skating', 'sketch', 'ski', 'skiers', 'skies', 'skill', 'skilled', 'skillet', 'skills', 'skin', 'skincare', 'skinny', 'skinnytaste', 'skins', 'skip', 'skirt', 'skirts', 'skull', 'skullcake04', 'skunkboy', 'sky', 'skydiver', 'skylabs', 'skylines', 'skyscrapers', 'skywalker', 'slack', 'slackdaddy', 'slalom', 'slam', 'slang', 'slap', 'slashed', 'slaughter', 'sleep', 'sleepchart', 'sleeping', 'sleeplessness', 'sleeve', 'sleeveless', 'slice', 'slicer', 'slices', 'slide', 'slider', 'sliders', 'slideshow', 'slideshows', 'slim', 'slimmer', 'sling', 'slip', 'slippers', 'sloppy', 'sloth', 'slouching', 'slow', 'slowly', 'slushie', 'slutty', 'small', 'smallest', 'smart', 'smartdeblur', 'smarter', 'smartest', 'smartphone', 'smartphones', 'smarts', 'smash', 'smashed', 'smell', 'smelling', 'smile', 'smiley', 'smiling', 'smith', 'smithsonian', 'smitten', 'smoke', 'smoked', 'smoker', 'smokin', 'smoking', 'smooth', 'smoother', 'smoothie', 'smoothies', 'smore', 'smores', 'snack', 'snacks', 'snake', 'snap', 'snaps', 'sneak', 'sneaker', 'sneakers', 'sneeze', 'sneezes', 'snibbe', 'snickerdoodle', 'snickerdoodles', 'snickers', 'snip', 'sniper', 'snipers', 'snosoft', 'snotr', 'snow', 'snowball', 'snowballs', 'snowboard', 'snowboarder', 'snowboarding', 'snowlady', 'snowmobile', 'snozzberries', 'so', 'sobre', 'soccer', 'social', 'socialbliss', 'socialite', 'socialized', 'socially', 'socoting', 'soda', 'sofralar', 'soft', 'softball', 'software', 'solar', 'soldier', 'solely', 'solid', 'solo', 'solution', 'solutions', 'solve', 'solved', 'solvent', 'somali', 'somalia', 'some', 'someecards', 'someone', 'something', 'son', 'song', 'songs', 'sonic', 'sonoma', 'sony', 'soon', 'soopa', 'sophistimom', 'sorbet', 'sorbets', 'sore', 'sorry', 'sort', 'souffle', 'souffles', 'soufflé', 'soul', 'sound', 'soup', 'souped', 'soups', 'sour', 'source', 'sourdough', 'sous', 'south', 'southern', 'southwest', 'southwestern', 'sox', 'soy', 'spa', 'space', 'spaceflight', 'spaces', 'spaetzle', 'spaghetti', 'spaghettios', 'spambank', 'spandex', 'spanish', 'spark', 'sparkly', 'spartan', 'spas', 'speak', 'speakeasy', 'speaker', 'speakers', 'speaks', 'special', 'specialize', 'specialshit', 'specialty', 'spectacular', 'spectators', 'sped', 'speech', 'speed', 'spelled', 'spelling', 'spelt', 'spend', 'spent', 'sperm', 'spewing', 'spice', 'spiced', 'spices', 'spicy', 'spider', 'spiders', 'spiedini', 'spiked', 'spilled', 'spills', 'spin', 'spinach', 'spins', 'spitefully', 'split', 'spohrs', 'sponge', 'sponsored', 'spooky', 'spoon', 'spoonful', 'sport', 'sporting', 'sports', 'sportsbybrooks', 'sportscenter', 'sportsgames', 'sportsmanship', 'spot', 'spotlight', 'spotted', 'spray', 'spread', 'spreadsheets', 'spring', 'springfield', 'springpad', 'sprinkle', 'sprinkles', 'sprint', 'spritz', 'spritzer', 'sprouting', 'sprouts', 'spy', 'squad', 'square', 'squares', 'squash', 'squat', 'squats', 'squatting', 'squeeze', 'squirrel', 'squirtle', 'ss', 'st', 'stadiums', 'staff', 'stages', 'stagnating', 'stainless', 'stairs', 'stairset', 'stairway', 'stampede', 'stand', 'standard', 'standby', 'standings', 'standpoint', 'stanford', 'stanley', 'star', 'starburst', 'starcasm', 'stare', 'stargazer', 'stars', 'start', 'startcooking', 'started', 'starting', 'startling', 'startups', 'starved', 'state', 'statements', 'states', 'stats', 'stay', 'stays', 'steak', 'steaks', 'steals', 'steam', 'steamed', 'steampunk', 'steamy', 'steel', 'steepest', 'steer', 'stefano', 'steiner', 'stella', 'stellar', 'stem', 'step', 'steps', 'ster', 'sterilization', 'sterling', 'steroids', 'stethoscope', 'steve', 'steven', 'stevens', 'stew', 'stewart', 'stick', 'stickers', 'sticks', 'sticky', 'stilettos', 'still', 'stimulus', 'stings', 'stir', 'stirring', 'stocked', 'stokke', 'stolen', 'stomach', 'stone', 'stoned', 'stop', 'stopped', 'stops', 'storage', 'store', 'storebought', 'stores', 'stories', 'storm', 'story', 'stout', 'stovall', 'stove', 'stover', 'stovetop', 'straight', 'strain', 'stranded', 'strange', 'stranger', 'strangers', 'strangest', 'strata', 'strategies', 'strategy', 'stratos', 'strawberries', 'strawberry', 'straws', 'streak', 'streaker', 'streb', 'street', 'streets', 'streetstyle', 'strength', 'stress', 'stressed', 'stretch', 'stretches', 'stretching', 'strike', 'strikeout', 'stripper', 'strips', 'stroganoff', 'stroke', 'strokes', 'strong', 'stronger', 'structural', 'structure', 'strudels', 'struzan', 'stubborn', 'stuck', 'studded', 'student', 'students', 'studies', 'studio', 'study', 'stuff', 'stuffed', 'stuffing', 'stuffs', 'stumbled', 'stumbleupon', 'stunning', 'stupid', 'stutzman', 'style', 'styles', 'stylesays', 'stylish', 'su', 'submarine', 'submarines', 'submersible', 'substitutions', 'suburban', 'suburbia', 'subway', 'success', 'successful', 'such', 'suck', 'sudden', 'suddenly', 'sue', 'sued', 'suerte', 'sues', 'suffer', 'suffering', 'sufficiency', 'sugar', 'sugarcrafter', 'sugared', 'sugarfree', 'sugarlaws', 'sugary', 'summaries', 'summer', 'summerskin009', 'summit', 'summon', 'sums', 'sun', 'sunday', 'sundaysupper', 'sung', 'sunglasses', 'sunlight', 'sunrise', 'sunscreen', 'sunset', 'sup', 'super', 'superbien', 'superbug', 'superbugs', 'superbus', 'supercomputer', 'superfan', 'superfast', 'superfoods', 'superhero', 'superheroes', 'superhuman', 'superhydrophobic', 'superior', 'superman', 'supermodels', 'supersite', 'supersizedmeals', 'supersonic', 'superstar', 'superwife', 'supper', 'supplements', 'supplementsiq', 'supplier', 'supply', 'support', 'supports', 'suppressant', 'supremacy', 'supreme', 'sure', 'surefire', 'surf', 'surface', 'surfaces', 'surfing', 'surgeons', 'surgery', 'surgical', 'suri', 'surplus', 'surprise', 'surprising', 'surprisingly', 'surround', 'surselor', 'survival', 'survivalists', 'survive', 'survived', 'survives', 'surviving', 'survivors', 'sushi', 'suspect', 'suspected', 'suspended', 'suspiciously', 'sustaining', 'suy', 'suzette', 'suárez', 'swab', 'swag', 'swallowing', 'swampland', 'swanky', 'swarm', 'sway', 'sweat', 'sweaters', 'sweden', 'swedish', 'sweeney', 'sweet', 'sweetapolita', 'sweetopia', 'sweets', 'swerve', 'swimmers', 'swimsuit', 'swimwear', 'swine', 'swing', 'swirl', 'swiss', 'switch', 'sydney', 'sylvia', 'symbol', 'symbols', 'symmetry', 'symptom', 'symptoms', 'synchronizing', 'syndic8', 'syndicate', 'syndrome', 'synergies', 'synthetic', 'syphoning', 'syria', 'syrian', 'syringe', 'syrup', 'system', 'systems', 'table', 'tablespoon', 'tablet', 'tablets', 'tackle', 'taco', 'tacos', 'tactic', 'tactics', 'tag', 'tage', 'tagliatelle', 'tags', 'tailoring', 'tailors', 'tails', 'taj', 'take', 'takedown', 'taken', 'takeout', 'takepart', 'takers', 'takes', 'taking', 'talenti', 'tales', 'talia', 'talian', 'taliban', 'talk', 'talking', 'talks', 'talksport', 'tall', 'tamale', 'tamper', 'tan', 'tandao', 'tangy', 'tank', 'tanner', 'tap', 'tape', 'tapenade', 'tapping', 'taqueria', 'taquitos', 'tarantino', 'target', 'tarifler', 'tarifleri', 'tart', 'tarte', 'tartelette', 'tartlet', 'tartlets', 'tarts', 'tarty', 'tasing', 'taste', 'tasted', 'tastes', 'tastespotting', 'tastier', 'tasting', 'tasty', 'tat', 'tatin', 'tattoo', 'taunting', 'taylor', 'tbd', 'tcpalm', 'td', 'tea', 'teacher', 'teaches', 'team', 'teams', 'teare', 'tears', 'teaspoons', 'teatime', 'tebow', 'tech', 'techcrunch', 'techdirt', 'techflesh', 'techland', 'techmunch', 'technically', 'techniques', 'technocage', 'technologies', 'technology', 'techology', 'techrepublic', 'techrospective', 'techzug', 'ted', 'tedxnextgenerationasheville', 'tee', 'teen', 'teenage', 'teenagers', 'teenvogue', 'tees', 'teese', 'teeth', 'teigen', 'telegraph', 'television', 'televisions', 'tell', 'telling', 'tells', 'temperature', 'temple', 'templete', 'temporarily', 'tempting', 'ten', 'tenants', 'tenderloin', 'tenderloins', 'tenders', 'tennis', 'tensing', 'tension', 'tequila', 'teriyaki', 'term', 'terms', 'terracotta', 'terrafugia', 'terrible', 'terrifying', 'terrifyingly', 'terroristic', 'test', 'tested', 'testifies', 'testing', 'tests', 'tetrazzini', 'tetris', 'tex', 'texas', 'texasbbqrub', 'texting', 'texts', 'tf', 'tg', 'thai', 'thailand', 'than', 'thank', 'thankful', 'thanks', 'thanksgiving', 'that', 'the', 'theater', 'theatre', 'theberry', 'thebloggess', 'thecontaminated', 'thedropnyc', 'theflossylife', 'theft', 'thegloss', 'their', 'them', 'themed', 'then', 'theories', 'theory', 'therapy', 'there', 'these', 'thetan', 'theunion', 'they', 'thick', 'thief', 'thieves', 'thighs', 'thin', 'thing', 'things', 'think', 'thinkgeek', 'thinking', 'thinner', 'thinness', 'third', 'thirty', 'this', 'thom', 'thomas', 'thor', 'thorn', 'those', 'though', 'thought', 'thoughts', 'thousand', 'thousands', 'threadsence', 'threat', 'threats', 'three', 'thrifting', 'thrifty', 'thrilling', 'through', 'throughout', 'throw', 'throwdown', 'thrown', 'thumbdrive', 'thyme', 'tian', 'ticket', 'tidymom', 'tie', 'tienes', 'tier', 'tierra', 'ties', 'tiger', 'tights', 'tightsplease', 'tikka', 'til', 'tim', 'time', 'timeless', 'timeline', 'times', 'timeye', 'timothy', 'tin', 'tina', 'tinkerer', 'tiny', 'tip', 'tipnut', 'tips', 'tiramisu', 'tire', 'tired', 'tires', 'tissue', 'tissues', 'titles', 'tlc', 'to', 'toast', 'toastabags', 'toasted', 'toblerone', 'today', 'todd', 'toenail', 'toes', 'toffee', 'tofu', 'together', 'toilet', 'toke', 'tokyo', 'tokyofashion', 'told', 'tolf', 'tomato', 'tomatoes', 'tombanwell', 'tomkat', 'tommy', 'tomorrow', 'ton', 'toned', 'tones', 'tonight', 'toning', 'too', 'took', 'tool', 'tooled', 'tools', 'tooth', 'toothbrush', 'toothpaste', 'top', 'topless', 'topped', 'topper', 'toppled', 'tops', 'tori', 'toroidal', 'torta', 'tortellini', 'tortilla', 'tortillas', 'torture', 'tos', 'toscanini', 'toshiba', 'toss', 'tossing', 'total', 'totally', 'totallycoolpix', 'totchos', 'totem', 'touch', 'touchable', 'touchdown', 'touches', 'touching', 'touchscreen', 'touchscreens', 'tough', 'tour', 'tourists', 'toward', 'tower', 'town', 'toxic', 'toy', 'toys', 'track', 'tracker', 'tracks', 'trade', 'trademarks', 'trading', 'traditional', 'traffic', 'tragedy', 'trailer', 'train', 'trainer', 'trainers', 'training', 'tramadol', 'trampoline', 'transfer', 'transform', 'transformation', 'transformed', 'transforms', 'transfusion', 'transition', 'translated', 'transmit', 'transparency', 'transparent', 'transplant', 'transport', 'transportation', 'trap', 'trapeze', 'trapped', 'trash', 'trauma', 'travel', 'traveler', 'travelers', 'travors', 'traybake', 'treanor', 'treasuredress', 'treat', 'treatment', 'treatments', 'treats', 'tree', 'treehugger', 'trees', 'trek', 'trend', 'trends', 'trendy', 'trent', 'tres', 'tri', 'trial', 'triangles', 'triathlon', 'tribe', 'tribesports', 'triceps', 'trick', 'tricked', 'tricks', 'tricycles', 'tried', 'tries', 'trifle', 'triggers', 'trim', 'tringali', 'trinidad', 'trip', 'triple', 'trissalicious', 'triton', 'trivial', 'trojan', 'troll', 'trolling', 'troops', 'tropical', 'trott', 'trouble', 'truck', 'trucks', 'trudy', 'true', 'truffle', 'truffles', 'truly', 'trust', 'trusted', 'truth', 'try', 'tsa', 'tshirts', 'tsn', 'tso', 'tube', 'tucson', 'tuesday', 'tuesdays', 'tuition', 'tulane', 'tulsans', 'tumblr', 'tumblrlixn1mroca1qzdgkk', 'tumor', 'tumors', 'tuna', 'turbines', 'turkey', 'turley', 'turmeric', 'turn', 'turned', 'turning', 'turns', 'turret', 'tuscan', 'tut', 'tutorial', 'tutorialromantic', 'tutorials', 'tuxedo', 'tv', 'tvs', 'tweel', 'tweets', 'twenty1f', 'twice', 'twin', 'twirl', 'twist', 'twists', 'twitter', 'twix', 'two', 'tyler', 'type', 'typef', 'types', 'tyre', 'tzatziki', 'tá', 'uav', 'uberhumor', 'ubokia', 'uconn', 'udemy', 'ugliest', 'uk', 'ukraine', 'ultimate', 'ultra', 'ultrachic', 'uma', 'umpires', 'un', 'unappetizing', 'unbelievable', 'unbelieveable', 'uncanny', 'uncensored', 'uncertain', 'uncle', 'uncomplicate', 'uncovered', 'und', 'under', 'undercover', 'understanding', 'underwater', 'une', 'unethical', 'unexpected', 'unforgettable', 'unfortunate', 'unicef', 'uniform', 'uniformed', 'uniforms', 'union', 'unique', 'united', 'universe', 'university', 'unleashes', 'unlock', 'unlocking', 'unprotected', 'unreal', 'unrest', 'unseen', 'unshared', 'until', 'unusual', 'unusualmaps', 'unveil', 'unveiled', 'unveils', 'unwerth', 'unwrapped', 'up', 'update', 'updated', 'updates', 'updating', 'upgrade', 'upi', 'uploaded', 'upon', 'ups', 'upset', 'upside', 'upton', 'uptown', 'ur', 'urban', 'urbee', 'urcrowd', 'urdb', 'urinating', 'urlesque', 'us', 'usa', 'usatoday', 'usb', 'usc', 'use', 'used', 'useful', 'useless', 'user', 'users', 'uses', 'using', 'utah', 'utoya', 'utterly', 'uv', 'uw', 'v3', 'va', 'vacation', 'vacations', 'vaccine', 'vaccines', 'vader', 'valentine', 'valentines', 'valeria', 'valet', 'valley', 'value', 'valuev', 'van', 'vance', 'vancouver', 'vanilla', 'vanille', 'vanity', 'vans', 'variations', 'vbs', 've', 'veera', 'vegan', 'veganyumyum', 'vegetable', 'vegetables', 'vegetarian', 'vegetarians', 'veggie', 'veggies', 'vehicle', 'velcro', 'velveeta', 'velvet', 'vending', 'venezuela', 'venice', 'vent', 'veoh', 'vera', 'verde', 'vermicelli', 'vermont', 'verona', 'versace', 'verse', 'version', 'versions', 'vertical', 'very', 'veteran', 'vets', 'viagra', 'vice', 'victim', 'victims', 'victoria', 'victorian', 'vidafine', 'vide', 'video', 'videogame', 'videolu', 'videos', 'vidmax', 'vidéo', 'vietnam', 'vietnamese', 'view', 'vilkeviciute', 'villa', 'village', 'villagers', 'vimeo', 'vinaigrette', 'vindicates', 'vindo', 'vintage', 'vinyl', 'violent', 'viral', 'virgil', 'virtual', 'virtually', 'virus', 'viruses', 'visible', 'vision', 'visions', 'visitor', 'visual', 'vitamin', 'vitamins', 'vivid', 'vodka', 'vogue', 'voice', 'voila', 'volley', 'volleyball', 'volt', 'voltaire', 'volunteering', 'voluptuous', 'vomited', 'vomiting', 'von', 'voracious', 'vortex', 'vote', 'voting', 'vs', 'vueuve', 'vuitton', 'vwvortex', 'vx7', 'wacom', 'wade', 'waffle', 'waffles', 'wags', 'waisted', 'wait', 'waiter', 'waiters', 'waitress', 'wake', 'wakeboarding', 'wal', 'walk', 'walking', 'walks', 'walkthroughs', 'wall', 'walleston', 'wallet', 'wallpaper', 'walnut', 'walnuts', 'walton', 'wander', 'wanderings', 'wanderplex', 'wang', 'wangwallbuilder', 'wanna', 'want', 'wanted', 'wants', 'war', 'wardrobe', 'warehouse', 'warm', 'warming', 'warn', 'warning', 'warns', 'warrior', 'warriors', 'wars', 'wartrol', 'was', 'wasabibratwurst', 'wash', 'washer', 'washing', 'washington', 'waste', 'wasting', 'watch', 'watchers', 'watching', 'water', 'waterfalls', 'watergate', 'watermelon', 'watson', 'watt', 'wave', 'waves', 'way', 'wayne', 'ways', 'we', 'wealth', 'weapon', 'wear', 'wearable', 'wearing', 'wears', 'weather', 'web', 'webcomic', 'weblog', 'webmd', 'website', 'websites', 'wed', 'wedding', 'weddings', 'wedge', 'wedges', 'wedgie', 'wednesday', 'wee', 'week', 'weekday', 'weekend', 'weekends', 'weekly', 'weeknight', 'weeks', 'weh', 'weight', 'weights', 'weil', 'weinstocks', 'weird', 'weirdest', 'welcome', 'well', 'welle', 'wellness', 'welsh', 'wench', 'went', 'were', 'wesc', 'wesley', 'west', 'westboro', 'westbrook', 'westside', 'westword', 'wet', 'whales', 'whaley', 'what', 'wheat', 'wheel', 'when', 'where', 'whether', 'whfoods', 'which', 'while', 'whip', 'whipped', 'whipping', 'whirlpool', 'whisk', 'whisked', 'whiskey', 'whisky', 'white', 'whiten', 'whiteners', 'whiter', 'whitetrash', 'who', 'whole', 'wholefoodsmarket', 'wholesome', 'whoopie', 'whoppers', 'whose', 'whowhatwear', 'why', 'wi', 'wicked', 'wife', 'wifi', 'wii', 'wiki', 'wikihow', 'wikileak', 'wikileaks', 'wikipedia', 'wild', 'wiley', 'will', 'william', 'williams', 'williamson', 'willing', 'willkommen', 'willpower', 'wilson', 'wily', 'wimp', 'win', 'wind', 'windfall', 'windfalls', 'window', 'windows', 'windsor', 'wine', 'wing', 'wings', 'winner', 'winning', 'wins', 'winscape', 'winston', 'winter', 'wipeout', 'wipperfürth', 'wire', 'wired', 'wireless', 'wiring', 'wirtschaft', 'wisconsin', 'wiser', 'wish', 'wishes', 'wishwishwish', 'witchy', 'with', 'within', 'without', 'witnessed', 'wittiest', 'wives', 'wizgig', 'wlf', 'wm', 'wmagazine', 'woes', 'wolf', 'wolff', 'woman', 'womansday', 'women', 'won', 'wonder', 'wondering', 'wonderland', 'wont', 'wontons', 'wood', 'woods', 'wool', 'worcestershire', 'word', 'wordpress', 'words', 'wore', 'work', 'worked', 'worker', 'workers', 'working', 'workout', 'workouts', 'works', 'workspace', 'world', 'worldcup', 'worlds', 'worldwide', 'worm', 'worms', 'worn', 'worrying', 'worshiping', 'worst', 'worth', 'worth1000', 'would', 'wow', 'wrap', 'wrapped', 'wrappers', 'wraps', 'wrath', 'wreckers', 'wrestler', 'wrestling', 'wrigley', 'wristband', 'wristwatch', 'write', 'writers', 'writes', 'writing', 'wrong', 'wrongs', 'wtc', 'wtf', 'wunderbuzz', 'www', 'x300', 'xbox', 'xcr', 'xinhua', 'xkcd', 'xlv', 'xlvi', 'xstrata', 'yacht', 'yahoo', 'yakuza', 'yankee', 'yanko', 'yasself', 'yeah', 'year', 'years', 'yeast', 'yeasted', 'yellow', 'yemek', 'yemekleri', 'yemex', 'yes', 'yesbutnobutyes', 'yesica', 'yet', 'yoga', 'yogaglo', 'yogurt', 'yolk', 'york', 'yorker', 'you', 'youbeauty', 'young', 'younger', 'your', 'yours', 'yourself', 'yous', 'yousef', 'youtube', 'yr', 'ytdump', 'ytmnd', 'yum', 'yumm', 'yummy', 'yummymummyclub', 'yumsugar', 'zabaglione', 'zappers', 'zealand', 'zeeuw', 'zeigler', 'zeit', 'zel', 'zen', 'zenplugs', 'zeppoli', 'zest', 'zesty', 'zetaclear', 'zimbabwe', 'zimmern', 'zine', 'zink', 'ziona', 'zippers', 'zit', 'zojirushi', 'zombie', 'zomg', 'zone', 'zones', 'zoom', 'zorb', 'zubin', 'zucchini', 'zuckerberg', 'zufall', 'zuzu', 'était', 'öğrenci', 'öğrencilere', 'überconference', 'балкона', 'да', 'декорираме', 'как', 'ориенталски', 'си', 'стил', 'アンブロワジー', 'スタイルアリーナ', '可乐鸡翅', '東京のストリートファッション最新情報']\n",
      "** Inverse document frequency (IDF) Vektor\n",
      "[8.75190533 7.24782794 8.75190533 ... 8.34644022 8.75190533 8.34644022]\n"
     ]
    }
   ],
   "source": [
    "pipe = Pipeline([('vect', CountVectorizer()),\n",
    "                  ('tfidf', TfidfTransformer())\n",
    "                ]).fit(df[\"title\"])\n",
    "\n",
    "# Das Ergebnis nach \"CountVectorizer\" ist ein zwei dimensionaler Matrix\n",
    "#          | feature1  | feature2  | ...\n",
    "#  data1   | frequence | frequence | ...\n",
    "#  data2   | frequence | frequence | ...\n",
    "#  ...     |  ...      |  ...      | ...\n",
    "print(pipe['vect'].transform(df[\"title\"]).toarray())\n",
    "\n",
    "print(\"** Anzahl von extrahierten features\")\n",
    "features = len(pipe['vect'].get_feature_names())\n",
    "print(numberOfFeatures)\n",
    "\n",
    "print(\"** Liste von extrahierten Features\")\n",
    "print(pipe['vect'].get_feature_names())\n",
    "\n",
    "print(\"** Inverse document frequency (IDF) Vektor\")\n",
    "print(pipe['tfidf'].idf_)"
   ]
  },
  {
   "cell_type": "markdown",
   "metadata": {},
   "source": [
    "### Exkurs: Einsatz eines Stemmer\n",
    "Beispiel: https://www.datacamp.com/community/tutorials/stemming-lemmatization-python\n",
    "\n",
    "Unter Stemming versteht man in der linguistischen Informatik ein Verfahren, mit dem verschiedene morphologische Varianten eines Wortes auf ihren gemeinsamen Wortstamm zurückgeführt werden, z. B. die verschiedene Form eines Wortes: sehen, sieht, siehst, gesehen,...\n",
    "\n",
    "Zum Stemming gibt es verschiedene Algorithmen für verschiedene Sprachen. In unseren Datensätze ist die Sprache Englisch und es gibt viele Stemmer dafür, die von Python (nltk) unterstützt werden. Die drei häufig genutzte Algorithmen sind: Snowball, Porter, Lancaster.\n",
    "\n",
    "\n",
    "* Porter: ist der zurzeit am häufigsten genutzte Stemmer. Der Algorithmus ist sehr rechenintensiv und einer der ältesten Stemming-Algorithmen.\n",
    "\n",
    "* Snowball: ist ein Verbesserung von Porter. Die Rechenzeit ist etwas schneller als Porter. Der Algorithmus verfügt über eine sehr große Community.\n",
    "\n",
    "* Lancaster: ist ein sehr aggressive Stemming-Algorithmus. Lancaster reduziert ernorm die Anzahl von Wörtern in Datensätzen. Wenn man aber mehr Unterscheidung braucht, ist dieser Algorithmus nicht geeigenet.\n",
    "\n",
    "Der Stemmer lässt sich als \"Analyzer\" beim CountVectorizer nutzen. Folgendes wird der Einsatz von verschiedenen Stemmern untersucht"
   ]
  },
  {
   "cell_type": "code",
   "execution_count": 58,
   "metadata": {},
   "outputs": [
    {
     "name": "stderr",
     "output_type": "stream",
     "text": [
      "/usr/local/lib/python3.7/site-packages/sklearn/utils/validation.py:71: FutureWarning: Pass input=english as keyword args. From version 0.25 passing these as positional arguments will result in an error\n",
      "  FutureWarning)\n"
     ]
    },
    {
     "data": {
      "image/png": "[encoded data removed]",
      "text/plain": [
       "<Figure size 432x288 with 1 Axes>"
      ]
     },
     "metadata": {
      "needs_background": "light"
     },
     "output_type": "display_data"
    }
   ],
   "source": [
    "analyzer = CountVectorizer().build_analyzer()\n",
    "\n",
    "def porterstemmed_words(doc):\n",
    "    stemmer=PorterStemmer()\n",
    "    return (stemmer.stem(w) for w in analyzer(doc))\n",
    "\n",
    "pipe_porter = Pipeline([('vect', CountVectorizer(\"english\", analyzer=porterstemmed_words)),\n",
    "                     ('tfidf', TfidfTransformer())\n",
    "                         #weitere Elemente für Pipeline\n",
    "                        ]).fit(df[\"title\"])\n",
    "def snowballstemmed_words(doc):\n",
    "    stemmer=SnowballStemmer(\"english\")\n",
    "    return (stemmer.stem(w) for w in analyzer(doc))\n",
    "\n",
    "pipe_snowball = Pipeline([('vect', CountVectorizer(\"english\", analyzer=snowballstemmed_words)),\n",
    "                     ('tfidf', TfidfTransformer())\n",
    "                         #weitere Elemente für Pipeline\n",
    "                        ]).fit(df[\"title\"])\n",
    "\n",
    "def lancasterstemmed_words(doc):\n",
    "    stemmer=LancasterStemmer()\n",
    "    return (stemmer.stem(w) for w in analyzer(doc))\n",
    "\n",
    "pipe_lancaster = Pipeline([('vect', CountVectorizer(\"english\", analyzer=lancasterstemmed_words)),\n",
    "                     ('tfidf', TfidfTransformer())\n",
    "                         #weitere Elemente für Pipeline\n",
    "                        ]).fit(df[\"title\"])\n",
    "\n",
    "features_porter = len(pipe_porter['vect'].get_feature_names())\n",
    "features_snowball = len(pipe_snowball['vect'].get_feature_names())\n",
    "features_lancaster = len(pipe_lancaster['vect'].get_feature_names())\n",
    "\n",
    "x = [\"Normal\", \"Porter\", \"Snowball\", \"Lancaster\"]\n",
    "y = [features, features_porter, features_snowball, features_lancaster]\n",
    "\n",
    "fig = plt.figure()\n",
    "ax = fig.add_axes([0,0,1,1])\n",
    "\n",
    "ax.bar(x,y)\n",
    "\n",
    "ax.set_ylabel('Features')\n",
    "ax.set_title('Anzahl von Features ohne Stemmer und mit Stemmer')\n",
    "plt.show()"
   ]
  },
  {
   "cell_type": "markdown",
   "metadata": {},
   "source": [
    "Aus dem Diagramm ergibt sich, dass die gesamte Anzahl der Wörtern circa mehr als 8000 ist. Nach dem Einsatz von Stemmern lässt sich die Anzahl der Features deutlich reduzieren. Nach dem Einsatz von Porter und Snowball liegt die Anzahl etwa auf 6800. Anschließend zeigt sich, dass der Lancaster Algorithmus die Anzahl von Features am meisten (auf ungefähr 6000) reduziert.\n",
    "\n",
    "Später werden wir sehen, ob der Einsatz eines Stemmers das Ergebnis der Vorhersage verbessert."
   ]
  },
  {
   "cell_type": "markdown",
   "metadata": {},
   "source": [
    "Nachdem die Text Daten extrahieren und vektorisiert worden sind, sind die Daten bereits für Training eines Klassifikator. Es gibt viele Algorithmen für ein Klassifikator, z.B Logistischen Regression, Naive Bayes, Random Forest, .... Abhängigt von Datenbestand lässt sich jeder Algorithmus unterschiedlich effizient einsetzen. Im Rahmen unserer Arbeit werden wir zuerst die Logistische Regression als Base-Line Klassifikator nutzen.\n",
    "\n",
    "Logistische Regression lässt sich mit Hilfe von scikit-learn und Pipeline sehr einfach umsetzen. Logistische Regression Klassifikator kann unter \"sklearn.linear_model.LogisticRegression\" gefunden werden.\n",
    "\n",
    "Aufbau der Basis-Pipeline:\n",
    "   \n",
    "    * Text Features Extraction (mit CountTokenizer)\n",
    "    * Text Features Normalisieren (mit TfidfTransformer)\n",
    "    * Klassifikationsalgorithmus\n",
    "    \n",
    "In der gegebenen Training-Daten befinden sich zwei Text-Features-Spalten (\"title\" und \"text\") und die Spalten können unterschieliche Rolle bei der Vorhersage spielen, z.B anhand Title lässt sich ein Datensatz eindeutiger richtiger Klasse zuordnen. Die Spalte können unterschiedliche Gewichtung haben und sollte deshalb getrennt betrachtet werden und am Ende zusammengefasst. \n",
    "\n",
    "Diese Vorgehensweise kann mit Hilfe von \"Feature Union\" Feature von scikit-learn umgesetzt werden. Die Klasse \"FeatureUnion\" von \"sklearn.pipeline\" sollte dafür importiert werden. Außerdem sollte die entsprechende Feature-Spalte anfangs der Pipeline entnommen werden, dafür ist ein Spalte Selektor benötigt. Folgendes ist die Implementierung des Feature Spalte Selektor."
   ]
  },
  {
   "cell_type": "code",
   "execution_count": 61,
   "metadata": {},
   "outputs": [],
   "source": [
    "class FeatureColumnSelector():\n",
    "    # Name der Spalte sollte angegeben werden\n",
    "    def __init__(self, name):\n",
    "        self.name = name\n",
    "\n",
    "    def fit(self, x, y=None):\n",
    "        return self\n",
    "\n",
    "    def transform(self, df):\n",
    "        return df[self.name]"
   ]
  },
  {
   "cell_type": "markdown",
   "metadata": {},
   "source": [
    "Alles ist jetzt bereits für ein Klassifikator."
   ]
  },
  {
   "cell_type": "code",
   "execution_count": 85,
   "metadata": {},
   "outputs": [],
   "source": [
    "# Zuerst definieren wir einen Test-Datensatz\n",
    "# Der Datensatz wurde von der Trainig Daten entnommen\n",
    "test_data=[]\n",
    "test_data.append({\"title\": \"Top 10 Web 2 0 Startups Taking Over the World\", \n",
    "                  \"text\": \"Written By Drew August 22nd 2011 If one looks at a calendar you d think it was the 1990 s again We re in the midst of a huge boom in web startups with seemingly hundreds starting up every month With new formats to explore smartphones tablets etc the startups of today have a much bigger advantage that the startups of yesteryear With technology racing at a breakneck clip the number of startups will only increase with faster speeds and better tools to work with We ll be looking at ten startups to watch out for in the next few months 1 Red Nova Labs Started in 2009 Red Nova Labs started as a marketing agency and web development company Servicing interface designs and online marketing RNL has been a leader in these developments since their inception It also serves its customers with back end programming and launching web based platforms With a crack team of developers and engineers complex programming also helps its clients maintain their edge in cyberspace Some projects that RNL has been involved with are storagefront com lenderstreet com and many other genres of websites 2 Getchabooks This startup was founded by three college undergrads to combat a common problem among college students where to get the cheapest textbooks Taking a different approach than other college books sites Getchabooks is focused around courses instead of typing full class names Using Amazon as a drop shipper has saved the trio from additional shipping and inventory costs For any student looking at a simple and easy way to check for the best price on textbooks the upcoming semester should be made easier with Getchabooks 3 Lawpivot Q A sites are becoming very popular especially for legal based questions Rocket Lawyer and LegalZoom are the two big elephants in the room in this field but new startup Lawpivot seeks to change that Started up by a team of tech executives and lawyers Lawpivot is backed by Google Ventures Lawpivot focuses on business related law and has recently opened their services to the public for business owners to ask legal questions Such categories as immigration law employment tax contracts intellectual property and corporations are covered in Lawpivot 4 Ooyala Ooyala is an online video service provider that s based out of Mountain View California Started in 2007 Ooyala has slowly risen up the ranks of providers and now is considered the fasting growing provider in the country Ooyala has scored a major coup by partnering with ESPN in their online streams and broadcasting Ooyala has also brokered a deal with Yahoo Japan to be the video provider for their site Ooyala is poised to supply online video for over half of Japanese online video viewerships With these recent successes it seems that the sky is the limit for Ooyala 5 Umami Not too much is known about this NY based startup it s not stopped positive fund raising to get off the ground though Umami currently has a closed beta app for the iPad and is set for a launch of the fall television season Umami will show TV viewers added content to their shows and have advertisements based around the show they re watching Umami has much competition in this area and time will tell who will come out of this the winner 6 Milewise People with frequent flier miles are always on the lookout as to where they can spend their miles on flights Milewise knows this and has a search engine catered especially for the frequent flier You can also keep track of your FF miles and reward program points with Milewise Milewise takes all of this into account when making suggestions on flights based on your information Milewise supports over 300 rewards programs and can notify you when points or rewards are set to expire 7 Birchbox This is a subscription based site which centers around makeup and beauty products Founded by Katia Beauchamp and Hayley Barna in 2010 Birchbox as of June 2011 now has 45 000 subscribers Users fill out a survey about themselves and what they like makeup wise and Birchbox personalizes suites of products based around the consumer and their likes and dislikes 8 Punchd Punchd is a digital reward card app that consumers can use to get rewards down the line Similar to punch cards buy four of an item and get one free etc Punchd does away with actually punch cards and instead puts the card as an app on your cell phone Customers scan QR codes that are printed on the receipt of their order with a smartphone and it s instantly punched and saved via cloud storage 9 Drchrono Drchrono is an application for the iPad that allows Doctors to schedule patient appointments note dictation and writing prescriptions all from their iPad Looking to replace the clipboard Drchrono is marketing their services nationwide With the Obama Administration now offering incentives for Doctors to move their patients health records online Drchrono seems to be just the company to help the medical field achieve this goal 10 GoodData GoodData is a data analytics solution company which is cloud based providing graphs and data visualization tools for business owners GoodData provides many data services for business owners wishing to analyze key departments for later improvement Using operational dashboards data warehousing and advanced reporting programs GoodData is keen on bookending this specialized market About Drew SEO and Social Media Specialist in the Kansas City Kansas area web 2.0 startups are beginning to take over the world at an alarming rate and bringing new and innovative ideas to the table. startups, web startups\",\n",
    "                  \"target\": \"0\"\n",
    "                 })\n",
    "\n",
    "df_test_alone = pd.DataFrame(test_data)"
   ]
  },
  {
   "cell_type": "code",
   "execution_count": 92,
   "metadata": {},
   "outputs": [
    {
     "name": "stdout",
     "output_type": "stream",
     "text": [
      "[0]\n",
      "[[0.84194124 0.15805876]]\n"
     ]
    }
   ],
   "source": [
    "# Pipeline des Basis Klassifikator\n",
    "# Ohne Stemmer, ohne Stopwörter Filter\n",
    "pipeline = Pipeline([\n",
    "    (\"union\", FeatureUnion(\n",
    "        transformer_list = [\n",
    "            # Pipeline fürs Entnehmen der Features \"title\" and \"text\"\n",
    "            (\"title\", Pipeline([\n",
    "                (\"selector\", FeatureColumnSelector(name=\"title\")),\n",
    "                (\"count\", CountVectorizer()),\n",
    "                (\"tfidf\", TfidfTransformer())\n",
    "            ])),\n",
    "            (\"text\", Pipeline([\n",
    "                (\"selector\", FeatureColumnSelector(name=\"text\")),\n",
    "                (\"count\", CountVectorizer()),\n",
    "                (\"tfidf\", TfidfTransformer())\n",
    "            ])),\n",
    "        ],\n",
    "        # Gewichtung der Features\n",
    "        # In diesem Fall ist Title doppelt wichtiger als text\n",
    "        transformer_weights={\n",
    "            \"title\": 2,\n",
    "            \"text\": 1,\n",
    "        },\n",
    "    )),\n",
    "    # LogisticRegression Klassifikator\n",
    "    (\"clf\", LogisticRegression())\n",
    "])\n",
    "\n",
    "# Erzeugen eines Klassifikator\n",
    "clf = pipeline.fit(df_train[[\"title\", \"text\"]], df_train[\"label\"])\n",
    "# Jetzt lass etwas vorhersagen\n",
    "print(clf.predict(df_test_alone[[\"title\", \"text\"]]))\n",
    "print(clf.predict_proba(df_test_alone[[\"title\", \"text\"]]))"
   ]
  },
  {
   "cell_type": "markdown",
   "metadata": {},
   "source": [
    "Der Klassifikator hat funktioniert. Es kommt zu dem Ergebnis, dass der Test-Datensatz 84,19% zur Klasse \"0\", 15,80% zur Klasse \"1\" gehört. Der Datensatz wird zu Klasse 0 vorhergesagt, was erwartet wird.\n",
    "\n",
    "Jetzt filtern wir die Stopwörter raus und trainieren den Klassifikator erneut."
   ]
  },
  {
   "cell_type": "code",
   "execution_count": 95,
   "metadata": {},
   "outputs": [
    {
     "name": "stderr",
     "output_type": "stream",
     "text": [
      "/usr/local/lib/python3.7/site-packages/sklearn/utils/validation.py:71: FutureWarning: Pass input=english as keyword args. From version 0.25 passing these as positional arguments will result in an error\n",
      "  FutureWarning)\n"
     ]
    },
    {
     "name": "stdout",
     "output_type": "stream",
     "text": [
      "[0]\n",
      "[[0.84194124 0.15805876]]\n"
     ]
    }
   ],
   "source": [
    "pipeline_stopwords_filtered = Pipeline([\n",
    "    (\"union\", FeatureUnion(\n",
    "        transformer_list = [\n",
    "            # Pipeline fürs Entnehmen der Features \"title\" and \"text\"\n",
    "            (\"title\", Pipeline([\n",
    "                (\"selector\", FeatureColumnSelector(name=\"title\")),\n",
    "                (\"count\", CountVectorizer(\"english\")),\n",
    "                (\"tfidf\", TfidfTransformer())\n",
    "            ])),\n",
    "            (\"text\", Pipeline([\n",
    "                (\"selector\", FeatureColumnSelector(name=\"text\")),\n",
    "                (\"count\", CountVectorizer(\"english\")),\n",
    "                (\"tfidf\", TfidfTransformer())\n",
    "            ])),\n",
    "        ],\n",
    "        # Gewichtung der Features\n",
    "        # In diesem Fall ist Title doppelt wichtiger als text\n",
    "        transformer_weights={\n",
    "            \"title\": 2,\n",
    "            \"text\": 1,\n",
    "        },\n",
    "    )),\n",
    "    (\"clf\", LogisticRegression())\n",
    "])\n",
    "# Erzeugen eines Klassifikator\n",
    "clf_stopwords_filtered = pipeline_stopwords_filtered.fit(df_train[[\"title\", \"text\"]], df_train[\"label\"])\n",
    "print(clf_stopwords_filtered.predict(df_test_alone[[\"title\", \"text\"]]))\n",
    "print(clf_stopwords_filtered.predict_proba(df_test_alone[[\"title\", \"text\"]]))"
   ]
  },
  {
   "cell_type": "markdown",
   "metadata": {},
   "source": [
    "Die Qualität des Klassifikators bleibt unverändert. Die Annahme ist, dass der \"TfidfTransofmer\" die Stopwörter gut normalisiert hat.\n",
    "\n",
    "Folgendes wird es untersucht, ob der Einsatz eines Stemmer den Klassifikator verbessert. \n",
    "\n",
    "Zuerst ist Snowball Algorithmus im Einsatz"
   ]
  },
  {
   "cell_type": "code",
   "execution_count": 99,
   "metadata": {},
   "outputs": [
    {
     "name": "stderr",
     "output_type": "stream",
     "text": [
      "/usr/local/lib/python3.7/site-packages/sklearn/utils/validation.py:71: FutureWarning: Pass input=english as keyword args. From version 0.25 passing these as positional arguments will result in an error\n",
      "  FutureWarning)\n"
     ]
    },
    {
     "name": "stdout",
     "output_type": "stream",
     "text": [
      "[0]\n",
      "[[0.81697261 0.18302739]]\n"
     ]
    }
   ],
   "source": [
    "pipeline_snowballstemmed = Pipeline([\n",
    "    (\"union\", FeatureUnion(\n",
    "        transformer_list = [\n",
    "            # Pipeline fürs Entnehmen der Features \"title\" and \"text\"\n",
    "            (\"title\", Pipeline([\n",
    "                (\"selector\", FeatureColumnSelector(name=\"title\")),\n",
    "                (\"count\", CountVectorizer(\"english\", analyzer=snowballstemmed_words)),\n",
    "                (\"tfidf\", TfidfTransformer())\n",
    "            ])),\n",
    "            (\"text\", Pipeline([\n",
    "                (\"selector\", FeatureColumnSelector(name=\"text\")),\n",
    "                (\"count\", CountVectorizer(\"english\", analyzer=snowballstemmed_words)),\n",
    "                (\"tfidf\", TfidfTransformer())\n",
    "            ])),\n",
    "        ],\n",
    "        # Gewichtung der Features\n",
    "        # In diesem Fall ist Title doppelt wichtiger als text\n",
    "        transformer_weights={\n",
    "            \"title\": 2,\n",
    "            \"text\": 1,\n",
    "        },\n",
    "    )),\n",
    "    (\"clf\", LogisticRegression())\n",
    "])\n",
    "# Erzeugen eines Klassifikator\n",
    "clf_snowballstemmed = pipeline_snowballstemmed.fit(df_train[[\"title\", \"text\"]], df_train[\"label\"])\n",
    "print(clf_snowballstemmed.predict(df_test_alone[[\"title\", \"text\"]]))\n",
    "print(clf_snowballstemmed.predict_proba(df_test_alone[[\"title\", \"text\"]]))"
   ]
  },
  {
   "cell_type": "markdown",
   "metadata": {},
   "source": [
    "Die Vorhersage hat etwas verschlechtert, aber das Ergebnis ist noch richtig. Wir wäre es mit Lancaster Stemmer?"
   ]
  },
  {
   "cell_type": "code",
   "execution_count": 96,
   "metadata": {},
   "outputs": [
    {
     "name": "stderr",
     "output_type": "stream",
     "text": [
      "/usr/local/lib/python3.7/site-packages/sklearn/utils/validation.py:71: FutureWarning: Pass input=english as keyword args. From version 0.25 passing these as positional arguments will result in an error\n",
      "  FutureWarning)\n"
     ]
    },
    {
     "name": "stdout",
     "output_type": "stream",
     "text": [
      "[0]\n",
      "[[0.786566 0.213434]]\n"
     ]
    }
   ],
   "source": [
    "pipeline_lancasterstemmed = Pipeline([\n",
    "    (\"union\", FeatureUnion(\n",
    "        transformer_list = [\n",
    "            (\"title\", Pipeline([\n",
    "                (\"selector\", FeatureColumnSelector(name=\"title\")),\n",
    "                (\"count\", CountVectorizer(\"english\", analyzer=lancasterstemmed_words)),\n",
    "                (\"tfidf\", TfidfTransformer())\n",
    "            ])),\n",
    "            (\"text\", Pipeline([\n",
    "                (\"selector\", FeatureColumnSelector(name=\"text\")),\n",
    "                (\"count\", CountVectorizer(\"english\", analyzer=lancasterstemmed_words)),\n",
    "                (\"tfidf\", TfidfTransformer())\n",
    "            ])),\n",
    "        ],\n",
    "        transformer_weights={\n",
    "            \"title\": 2,\n",
    "            \"text\": 1,\n",
    "        },\n",
    "    )),\n",
    "    #Use naive bayes on combined features\n",
    "    (\"clf\", LogisticRegression())\n",
    "])\n",
    "clf_lancasterstemmed = pipeline_lancasterstemmed.fit(df_train[[\"title\", \"text\"]], df_train[\"label\"])\n",
    "print(clf_lancasterstemmed.predict(df_test_alone[[\"title\", \"text\"]]))\n",
    "print(clf_lancasterstemmed.predict_proba(df_test_alone[[\"title\", \"text\"]]))"
   ]
  },
  {
   "cell_type": "markdown",
   "metadata": {},
   "source": [
    "Als letztes wird Port Stemmer getestet."
   ]
  },
  {
   "cell_type": "code",
   "execution_count": 97,
   "metadata": {},
   "outputs": [
    {
     "name": "stderr",
     "output_type": "stream",
     "text": [
      "/usr/local/lib/python3.7/site-packages/sklearn/utils/validation.py:71: FutureWarning: Pass input=english as keyword args. From version 0.25 passing these as positional arguments will result in an error\n",
      "  FutureWarning)\n"
     ]
    },
    {
     "name": "stdout",
     "output_type": "stream",
     "text": [
      "[0]\n",
      "[[0.80627238 0.19372762]]\n"
     ]
    }
   ],
   "source": [
    "pipeline_porterstemmed = Pipeline([\n",
    "    (\"union\", FeatureUnion(\n",
    "        transformer_list = [\n",
    "            # Pipeline for pulling features \"title\" and \"text\"\n",
    "            (\"title\", Pipeline([\n",
    "                (\"selector\", FeatureColumnSelector(name=\"title\")),\n",
    "                (\"count\", CountVectorizer(\"english\", analyzer=porterstemmed_words)),\n",
    "                (\"tfidf\", TfidfTransformer())\n",
    "            ])),\n",
    "            (\"text\", Pipeline([\n",
    "                (\"selector\", FeatureColumnSelector(name=\"text\")),\n",
    "                (\"count\", CountVectorizer(\"english\", analyzer=porterstemmed_words)),\n",
    "                (\"tfidf\", TfidfTransformer())\n",
    "            ])),\n",
    "        ],\n",
    "        # weights of each feature column\n",
    "        transformer_weights={\n",
    "            \"title\": 2,\n",
    "            \"text\": 1,\n",
    "        },\n",
    "    )),\n",
    "    #Use naive bayes on combined features\n",
    "    (\"clf\", LogisticRegression())\n",
    "])\n",
    "clf_porterstemmed = pipeline_porterstemmed.fit(df_train[[\"title\", \"text\"]], df_train[\"label\"])\n",
    "print(clf_porterstemmed.predict(df_test_alone[[\"title\", \"text\"]]))\n",
    "print(clf_porterstemmed.predict_proba(df_test_alone[[\"title\", \"text\"]]))"
   ]
  },
  {
   "cell_type": "markdown",
   "metadata": {},
   "source": [
    "## Evaluation\n",
    "\n",
    "Bei oben gemachten Test waren die Vorhersagen richtig, und zwar mit großer Genauigkeit. Aber Test auf einen einzelnen Datensatz lässt sich nicht sagen, ob der Klassifikator gut ist. Der Klassifikator sollte auf eine große Menge von Datensätzen getestet werden.\n",
    "\n",
    "### ROC-Kurve\n",
    "\n",
    "Als Qualitätskriterium steht die AUC (area under curve) der ROC-Kurve zur Verfügung. Die ROC-Kurve stellt visuell die Abhängigkeit der Effizienz mit der Fehlerrate für verschiedene Parameterwerte dar.\n",
    "\n",
    "Hierfür wird 1/3 der Datensätze verwendet, welche im oberen Schritt schon split worden ist und steht unter \"df_test\" zur Verfügung.\n",
    "\n",
    "Folgendes werden die ROC-Kurve für dir oben definierten Klassifikatoren mithilfe von Scikit-learn aufgezeichnet."
   ]
  },
  {
   "cell_type": "code",
   "execution_count": 100,
   "metadata": {},
   "outputs": [
    {
     "data": {
      "image/png": "[encoded data removed]",
      "text/plain": [
       "<Figure size 432x288 with 1 Axes>"
      ]
     },
     "metadata": {
      "needs_background": "light"
     },
     "output_type": "display_data"
    }
   ],
   "source": [
    "roc = metrics.plot_roc_curve(pipeline, df_test[[\"title\", \"text\"]], df_test[\"label\"],  name=\"base\")\n",
    "roc = metrics.plot_roc_curve(pipeline_stopwords_filtered, df_test[[\"title\", \"text\"]], df_test[\"label\"],  name=\"stopword_filtered\", ax=roc.ax_)\n",
    "roc = metrics.plot_roc_curve(pipeline_snowballstemmed, df_test[[\"title\", \"text\"]], df_test[\"label\"],  name=\"snowballstemmed\", ax=roc.ax_)\n",
    "roc = metrics.plot_roc_curve(pipeline_lancasterstemmed, df_test[[\"title\", \"text\"]], df_test[\"label\"],  name=\"lancasterstemmed\", ax=roc.ax_)\n",
    "roc = metrics.plot_roc_curve(pipeline_porterstemmed, df_test[[\"title\", \"text\"]], df_test[\"label\"],  name=\"porterstemmed\", ax=roc.ax_)\n",
    "\n",
    "plt.show()"
   ]
  },
  {
   "cell_type": "markdown",
   "metadata": {},
   "source": [
    "### ROC-Kurve Intepretation\n",
    "\n",
    "Eine ROC-Kurve nahe der Diagonalen deutet auf einen Zufallsprozess hin: Werte nahe der Diagonalen bedeuten eine gleiche Trefferquote und Falschpositivquote, was der zu erwartenden Trefferhäufigkeit eines Zufallsprozesses entspricht. \n",
    "\n",
    "Die ideale ROC-Kurve steigt zunächst senkrecht an (die Trefferquote liegt nahe bei 100 %, während die Fehlerquote anfangs noch nahe bei 0 % bleibt), erst danach steigt die Falsch-Positiv-Rate an. Eine ROC-Kurve, die deutlich unterhalb der Diagonalen bleibt, deutet darauf hin, dass die Werte falsch interpretiert wurden.\n",
    "\n",
    "In der oberen Grafik sind die Kurve entfernt von Diagonalen. Mit dieser Intepretaion ergibt sich, dass die Klassifikatoren gut sind.\n"
   ]
  },
  {
   "cell_type": "markdown",
   "metadata": {},
   "source": [
    "## Feature Selection\n",
    "\n",
    "Im Machine Learning spielen die Daten eine sehr wichtige Rolle und wenn die Daten schlecht sind, sind die Vorhersagen folglich auch schlecht. Bei Text Klassifikator ist jedes Wort ein Feature und deshalb sind die Anzahl von Features üblicherweise sehr groß, wobei viele Worte gar nicht wichtig sind (z.B: Stopwörter) oder wenig wichtig sind (z.B Wörter, die in allen Datensätz existieren). Diese Wörter beeinflussen negativ die Genauigkeit der Vorhersage und verlangsamt das Training. Deshalb ist \"Feature Selection\" benötigt, um diese Wörtern zu erkennen und auszufiltern.\n",
    "\n",
    "Die Gründe, um Feature Selection einzusetzen sind:\n",
    "\n",
    "* Beschleunigen das Traning.\n",
    "* Reduzieren der Komlexität eines Models und machen das Model einfacher zu intepretieren.\n",
    "* Erhöhen die Genauigkeit der Vorhersage.\n",
    "* Reduzieren Overfitting.\n",
    "\n",
    "\n",
    "### Mutual Information\n",
    "\n",
    "Mutual Information ist eine Größe aus der Informationstheorie, die die Stärke des statistischen Zusammenhangs zweier Zufallsgrößen angibt.\n",
    "\n",
    "Bei der Feature Selection möchten wir die Mutual Information zwischen der Features Zielklasse maximieren. Mit anderen Worten, wir berechnen die Mutual Information von Features und behalten die Wörter, die mehr mit der Zielklasse zusammenhängen (hohe Mutual Information mit der Zielklasse)\n",
    "\n",
    "Feature Selection anhand Mutual Information wird auch von Scikit-Learn unterstützt, unter Verwendung der Klasse \"SelectKBest\" und \"mutual_info_classif\" von \"sklearn.feature_selection\". Folgendes zeigt sich die Verwendung von Feature Selection anhand Mutual Information."
   ]
  },
  {
   "cell_type": "code",
   "execution_count": 102,
   "metadata": {},
   "outputs": [
    {
     "name": "stdout",
     "output_type": "stream",
     "text": [
      "350\n",
      "add\n",
      "and\n",
      "bake\n",
      "baked\n",
      "baking\n",
      "bowl\n",
      "brown\n",
      "butter\n",
      "cake\n",
      "cheese\n",
      "chicken\n",
      "chocolate\n",
      "chopped\n",
      "combine\n",
      "cook\n",
      "cooked\n",
      "cooking\n",
      "cool\n",
      "cream\n",
      "cup\n",
      "cups\n",
      "cut\n",
      "degrees\n",
      "delicious\n",
      "dish\n",
      "dough\n",
      "dry\n",
      "easy\n",
      "egg\n",
      "eggs\n",
      "evenly\n",
      "flavor\n",
      "flour\n",
      "food\n",
      "for\n",
      "fresh\n",
      "garlic\n",
      "heat\n",
      "in\n",
      "inch\n",
      "ingredients\n",
      "into\n",
      "kitchen\n",
      "large\n",
      "lightly\n",
      "make\n",
      "medium\n",
      "melted\n",
      "milk\n",
      "minutes\n",
      "mix\n",
      "mixture\n",
      "my\n",
      "oil\n",
      "olive\n",
      "onion\n",
      "or\n",
      "oven\n",
      "over\n",
      "pan\n",
      "pepper\n",
      "place\n",
      "pour\n",
      "powder\n",
      "preheat\n",
      "rack\n",
      "recipe\n",
      "recipes\n",
      "remove\n",
      "salt\n",
      "sauce\n",
      "serve\n",
      "serving\n",
      "sheet\n",
      "sides\n",
      "small\n",
      "smooth\n",
      "spoon\n",
      "sprinkle\n",
      "stir\n",
      "sugar\n",
      "sweet\n",
      "tablespoon\n",
      "tablespoons\n",
      "taste\n",
      "teaspoon\n",
      "temperature\n",
      "the\n",
      "to\n",
      "together\n",
      "tsp\n",
      "until\n",
      "vanilla\n",
      "warm\n",
      "water\n",
      "whisk\n",
      "with\n",
      "you\n",
      "your\n"
     ]
    }
   ],
   "source": [
    "vectorizer = CountVectorizer()\n",
    "wordcount = vectorizer.fit_transform(df[\"text\"])\n",
    "selectKBest = SelectKBest(mutual_info_classif, k=100)\n",
    "X_new = selectKBest.fit_transform(wordcount, df[\"label\"])\n",
    "\n",
    "new_features_indices = selectKBest.get_support(indices=True)\n",
    "print(\"100 Wörter mit hohen Mutual Information\")\n",
    "for indices in new_features_indices: \n",
    "    print(vectorizer.get_feature_names()[indices])"
   ]
  },
  {
   "cell_type": "markdown",
   "metadata": {},
   "source": [
    "## Training Klassifikator \n",
    "### Tunning Parameter für jedes Model Grid Search / Random Search\n",
    "\n",
    "Für jedes Model, das man für das Training verwenden würde, sind die Parameter ein unverzichbarer Teil. z.B beim Random Forest sind die Parameter beispielsweise: n_estimators, max_features, max_depth, min_samples_split.  Unterschiedliche Parameter Kombinationen beeinflussen die Genauigkeit des Models und der Vorhersage. Abhängigt von konkreten Problem und Anzahl der vorhandenen Daten sind die passende Parameter unterschiedlich. Es ist notwendig, verschiedene Parameter auszuprobieren, um die optimalen Parameter zu finden.\n",
    "\n",
    "In der Praxis werden hauptsächlich zwei Methode verwendet, um Hyperparameter zu finden. Die sind \"Grid Search\" und \"Random Search\". Nachfolgend werden die Methode beschrieben.\n",
    "\n",
    "* Grid Search: Grid Search probiert alle Kombination von Parametern aus und berechnet die Genauigkeit des Models. Der große Vorteil dieser Methode ist, dass keine Kombination von Parametern verpasst wird, und die optimalste Parameter werden korrekt ermittelt. Demgegenüber muss man allerdings damit rechnen, dass die Versuche so lange dauern könnten, wenn es zahlreiche Parameter geben würde. Es könnte Stunde, Tage und sogar Monaten dauern.\n",
    "* Random Search: Wie der Name der Methode besagt, bei Random Search werden nur zufällige Kombinationen ausprobiert. Das heiß also, dass nicht alle Kombinationen für die Ermittlung der Genauigkeit verwendet werden und die optimalste Hyperparametern könnten verpasst werden. Im Vergleich zu Grid Search ist Random Search schneller, aber wegen dessen könnter die optimalste Kombination der Hyperparametern nicht korrekt ermittelt werden. Random Search wird empfohlen, wenn der Search Raum mehr als drei Dimensionen hat. Random Search wäre zeitlich effizienter, wenn es zu viele Parameter gibt.\n",
    "\n",
    "Beider oben genannte Methode lassen sich mit scikit-learn implementieren. Nachfolgend werden Random Search verwendet, um die besten Hyperparameter für jedes Model zu finden.\n",
    "\n",
    "### Logistic Regression Model\n",
    "### Naive Bayes Model\n",
    "### Linear Support Vector Machine ???\n",
    "### Random Forest"
   ]
  },
  {
   "cell_type": "markdown",
   "metadata": {},
   "source": [
    "## Evaluation"
   ]
  },
  {
   "cell_type": "code",
   "execution_count": 52,
   "metadata": {},
   "outputs": [
    {
     "data": {
      "text/plain": [
       "array([-0.02735423, -0.43527145, -0.33697154, ...,  0.03124162,\n",
       "       -0.5638288 ,  0.17649009])"
      ]
     },
     "execution_count": 52,
     "metadata": {},
     "output_type": "execute_result"
    }
   ],
   "source": [
    "import numpy as np\n",
    "np.random.randn(10000)"
   ]
  },
  {
   "cell_type": "markdown",
   "metadata": {},
   "source": [
    "Eventuell auch Formeln zur Erläuterung,\n",
    "\n",
    "$$\n",
    "\\text{BLU} = \\int_0^1 f(x) dx\n",
    "$$"
   ]
  },
  {
   "cell_type": "markdown",
   "metadata": {},
   "source": [
    "#### Unterpunkt 1\n",
    "\n",
    "At vero eos et accusam et justo duo dolores et ea rebum. Stet "
   ]
  },
  {
   "cell_type": "code",
   "execution_count": 6,
   "metadata": {},
   "outputs": [],
   "source": [
    "class NaiveBayesModel(object):\n",
    "    def __init__(self):\n",
    "        self.base_clf = self._init_pipeline()\n",
    "        self.snowballStemmer_clf = self._init_snowballStemmer_pipeline()\n",
    "        self.porterStemmer_clf=self._init_porterStemmer_pipeline()\n",
    "        self.lancastersStemmer_clf=self._init_lancastersStemmer_pipeline()\n",
    "        self.wordNetLemmatizer_clf=self._init_wordNetLemmatizer_pipeline()\n",
    "    @staticmethod\n",
    "    def lancasterstemmed_words(doc):\n",
    "        stemmer=LancasterStemmer()\n",
    "        return (stemmer.stem(w) for w in analyzer(doc))\n",
    "    @staticmethod\n",
    "    def porterstemmed_words(doc):\n",
    "        stemmer=PorterStemmer()\n",
    "        return (stemmer.stem(w) for w in analyzer(doc))\n",
    "    @staticmethod\n",
    "    def snowballstemmed_words(doc):\n",
    "        stemmer=SnowballStemmer(\"english\")\n",
    "        return (stemmer.stem(w) for w in analyzer(doc))\n",
    "    @staticmethod\n",
    "    def wordNetLemmatized_words(doc):\n",
    "        lemmatizer=WordNetLemmatizer()\n",
    "        return (lemmatizer.lemmatize(w) for w in analyzer(doc))\n",
    "    \n",
    "    @staticmethod\n",
    "    def _init_pipeline():\n",
    "        pipe_line = Pipeline([\n",
    "            (\"vect\", CountVectorizer()),#bag-of-words\n",
    "            (\"tfidf\", TfidfTransformer()),#tf-idf\n",
    "            (\"clf\", MultinomialNB())#model naive bayes\n",
    "        ])\n",
    "        return pipe_line\n",
    "    \n",
    "    @staticmethod\n",
    "    def _init_snowballStemmer_pipeline():\n",
    "            pipe_line = Pipeline([\n",
    "               (\"vect\", CountVectorizer(\"english\", analyzer=NaiveBayesModel.snowballstemmed_words)),#bag-of-words\n",
    "               (\"tfidf\", TfidfTransformer()),#tf-idf\n",
    "               (\"clf\", MultinomialNB())#model naive bayes\n",
    "            ])\n",
    "            return pipe_line\n",
    "    @staticmethod\n",
    "    def _init_lancastersStemmer_pipeline():\n",
    "            pipe_line = Pipeline([\n",
    "               (\"vect\", CountVectorizer(\"english\", analyzer=NaiveBayesModel.lancasterstemmed_words)),#bag-of-words\n",
    "               (\"tfidf\", TfidfTransformer()),#tf-idf\n",
    "               (\"clf\", MultinomialNB())#model naive bayes\n",
    "            ])\n",
    "            return pipe_line\n",
    "    @staticmethod\n",
    "    def _init_porterStemmer_pipeline():\n",
    "            pipe_line = Pipeline([\n",
    "               (\"vect\", CountVectorizer(\"english\", analyzer=NaiveBayesModel.porterstemmed_words)),#bag-of-words\n",
    "               (\"tfidf\", TfidfTransformer()),#tf-idf\n",
    "               (\"clf\", MultinomialNB())#model naive bayes\n",
    "            ])\n",
    "            return pipe_line\n",
    "    @staticmethod\n",
    "    def _init_wordNetLemmatizer_pipeline():\n",
    "            pipe_line = Pipeline([\n",
    "               (\"vect\", CountVectorizer(\"english\", analyzer=NaiveBayesModel.wordNetLemmatized_words)),#bag-of-words\n",
    "               (\"tfidf\", TfidfTransformer()),#tf-idf\n",
    "               (\"clf\", MultinomialNB())#model naive bayes\n",
    "            ])\n",
    "            return pipe_line"
   ]
  },
  {
   "cell_type": "code",
   "execution_count": 7,
   "metadata": {},
   "outputs": [
    {
     "name": "stdout",
     "output_type": "stream",
     "text": [
      "Höher sollte Besser sein?\n",
      "Base\n",
      "0.6016977784700087\n",
      "porter\n",
      "0.5558632190951408\n",
      "snowball\n",
      "0.5560454224103998\n",
      "porter\n",
      "0.5617889916571234\n",
      "wordNet\n",
      "0.5184533135806567\n"
     ]
    }
   ],
   "source": [
    "analyzer = CountVectorizer().build_analyzer()\n",
    "nBm=NaiveBayesModel()\n",
    "\n",
    "train, test = train_test_split(df, test_size=0.1)\n",
    "df_test = pd.DataFrame(test)\n",
    "\n",
    "base_clf = nBm.base_clf.fit(train[\"title\"],train.label)\n",
    "porter_clf = nBm.porterStemmer_clf.fit(train[\"title\"],train.label)\n",
    "snowball_clf = nBm.snowballStemmer_clf.fit(train[\"title\"],train.label)\n",
    "lancaster_clf = nBm.lancastersStemmer_clf.fit(train[\"title\"],train.label)\n",
    "wordNetLemmatizer_clf = nBm.wordNetLemmatizer_clf.fit(train[\"title\"],train.label)\n",
    "test_data=[]\n",
    "test_data.append({\"title\": \"Unusual Medical Uses For Duct Tape \t\", \"target\": \"1\"})\n",
    "\n",
    "print(\"Höher sollte Besser sein?\")\n",
    "predict = base_clf.predict(df_test[\"title\"])\n",
    "print(\"Base\")\n",
    "print(base_clf.predict_proba(df_test[\"title\"])[0][1])\n",
    "\n",
    "\n",
    "predict = porter_clf.predict(df_test[\"title\"])\n",
    "print(\"porter\")\n",
    "print(porter_clf.predict_proba(df_test[\"title\"])[0][1])\n",
    "\n",
    "\n",
    "predict = snowball_clf.predict(df_test[\"title\"])\n",
    "print(\"snowball\")\n",
    "print(snowball_clf.predict_proba(df_test[\"title\"])[0][1])\n",
    "\n",
    "predict = lancaster_clf.predict(df_test[\"title\"])\n",
    "print(\"porter\")\n",
    "print(lancaster_clf.predict_proba(df_test[\"title\"])[0][1])\n",
    "\n",
    "predict = wordNetLemmatizer_clf.predict(df_test[\"title\"])\n",
    "print(\"wordNet\")\n",
    "print(wordNetLemmatizer_clf.predict_proba(df_test[\"title\"])[0][1])\n"
   ]
  },
  {
   "cell_type": "code",
   "execution_count": null,
   "metadata": {},
   "outputs": [],
   "source": []
  },
  {
   "cell_type": "code",
   "execution_count": 15,
   "metadata": {},
   "outputs": [
    {
     "data": {
      "image/png": "[encoded data removed]",
      "text/plain": [
       "<Figure size 432x288 with 1 Axes>"
      ]
     },
     "metadata": {
      "needs_background": "light"
     },
     "output_type": "display_data"
    }
   ],
   "source": [
    "svc_disp = metrics.plot_roc_curve(base_clf, df_test[\"title\"], df_test[\"label\"],  name=\"base\")\n",
    "rfc_disp =  metrics.plot_roc_curve(porter_clf,df_test[\"title\"], df_test[\"label\"],name=\"porter\", ax=svc_disp.ax_)\n",
    "rfc_disp =  metrics.plot_roc_curve(snowball_clf,df_test[\"title\"], df_test[\"label\"],name=\"snowball\", ax=svc_disp.ax_)\n",
    "rfc_disp =  metrics.plot_roc_curve(lancaster_clf,df_test[\"title\"], df_test[\"label\"],name=\"lancaster\", ax=svc_disp.ax_)\n",
    "rfc_disp =  metrics.plot_roc_curve(wordNetLemmatizer_clf,df_test[\"title\"], df_test[\"label\"],name=\"lemmatizer\", ax=svc_disp.ax_)\n",
    "\n",
    "rfc_disp.figure_.suptitle(\"ROC curve comparison\")\n",
    "\n",
    "plt.show()"
   ]
  },
  {
   "cell_type": "code",
   "execution_count": null,
   "metadata": {},
   "outputs": [],
   "source": []
  },
  {
   "cell_type": "markdown",
   "metadata": {},
   "source": [
    "### Evaluation auf der Testmenge"
   ]
  },
  {
   "cell_type": "code",
   "execution_count": 17,
   "metadata": {},
   "outputs": [],
   "source": [
    "# Da Sie das Test-Set nicht haben, Führen Sie dies mit den ursprünglichen Daten durch:\n",
    "df_test = pd.read_csv('data_beleg.csv', encoding='utf-8')\n",
    "# Wird von mir ersetzt durch\n",
    "# df_test = pd.read_csv('data_test.csv', encoding='utf-8')\n",
    "# und sollte dann auch durchlaufen!"
   ]
  },
  {
   "cell_type": "code",
   "execution_count": 18,
   "metadata": {},
   "outputs": [],
   "source": [
    "y_test_true = ... # Variable für die Ground Truth des Test-Datensatzes. "
   ]
  },
  {
   "cell_type": "code",
   "execution_count": 19,
   "metadata": {},
   "outputs": [],
   "source": [
    "# Wenden Sie hier ihre Vorverarbeitung/Klassifikation ihres entgültigen Modells \n",
    "# an. \n",
    "\n",
    "# In dieser Variable sollte die Vorhersagewahrscheinlichkeit für die positive Klasse\n",
    "# p(y=1 | x) gespeichte sein.\n",
    "y_test_prob_class_1 = ... "
   ]
  },
  {
   "cell_type": "code",
   "execution_count": 63,
   "metadata": {},
   "outputs": [],
   "source": [
    "# This is the ROC-AUC evaluation metric for the test data set:\n",
    "sklearn.metrics.roc_auc_score(y_test_true, y_test_prob_class_1)"
   ]
  },
  {
   "cell_type": "markdown",
   "metadata": {},
   "source": [
    "### Literaturverzeichnis\n",
    "\n"
   ]
  }
 ],
 "metadata": {
  "celltoolbar": "Slideshow",
  "kernelspec": {
   "display_name": "Python 3",
   "language": "python",
   "name": "python3"
  },
  "language_info": {
   "codemirror_mode": {
    "name": "ipython",
    "version": 3
   },
   "file_extension": ".py",
   "mimetype": "text/x-python",
   "name": "python",
   "nbconvert_exporter": "python",
   "pygments_lexer": "ipython3",
   "version": "3.7.7"
  }
 },
 "nbformat": 4,
 "nbformat_minor": 4
}
