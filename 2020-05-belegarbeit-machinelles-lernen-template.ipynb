{
 "cells": [
  {
   "cell_type": "markdown",
   "metadata": {},
   "source": [
    "# Bericht und Code zum Beleg Maschinelles Lernen\n",
    "\n",
    "\n",
    "Name:    \n",
    "Matrikelnummer:\n",
    "\n",
    "Name:   \n",
    "Matrikelnummer:"
   ]
  },
  {
   "cell_type": "markdown",
   "metadata": {},
   "source": [
    "### Gliederung\n",
    "\n",
    "* [Code](#Code)\n",
    "* [Bericht](#Bericht)\n",
    " * [Bewertung der Daten](#Bewertung-der-Daten)\n",
    " * ..\n",
    " * [Evaluation auf der Testmenge](Evaluation-auf-der-Testmenge)\n",
    " * [Literaturverzeichnis](#Literaturverzeichnis)"
   ]
  },
  {
   "cell_type": "markdown",
   "metadata": {},
   "source": [
    "### Code\n"
   ]
  },
  {
   "cell_type": "code",
   "execution_count": 8,
   "metadata": {},
   "outputs": [],
   "source": [
    "import pandas as pd\n",
    "import numpy as np\n",
    "import sklearn\n",
    "import nltk\n",
    "\n",
    "\n",
    "from sklearn.pipeline import Pipeline\n",
    "from sklearn.feature_extraction.text import CountVectorizer\n",
    "from sklearn.feature_extraction.text import TfidfVectorizer\n",
    "from sklearn.feature_extraction.text import TfidfTransformer\n",
    "from sklearn.model_selection import train_test_split\n",
    "from sklearn.naive_bayes import MultinomialNB\n",
    "\n",
    "\n",
    "from sklearn.svm import SVC\n",
    "import sklearn.metrics as metrics\n",
    "import matplotlib.pyplot as plt\n",
    "from sklearn import datasets, metrics, model_selection, svm\n",
    "\n",
    "\n",
    "from nltk.stem import SnowballStemmer\n",
    "from nltk.stem import PorterStemmer\n",
    "from nltk.stem import LancasterStemmer\n",
    "from nltk.stem import WordNetLemmatizer \n",
    "from nltk.corpus import wordnet as wn\n",
    "from nltk.corpus import stopwords\n",
    "\n",
    "\n"
   ]
  },
  {
   "cell_type": "code",
   "execution_count": 2,
   "metadata": {},
   "outputs": [],
   "source": [
    "class Tokenizer:\n",
    "    def fit(self,*_):\n",
    "        return self\n",
    "    def transform(self,x,y=None,**fit_params):\n",
    "        tokenized=df.apply(lambda row: nltk.word_tokenize(row['title']+\" \"+row['text'], language='english'), axis=1)\n",
    "        stop_words = set(stopwords.words('english')) \n",
    "        return x.apply(lambda row: [w for w in row['title'] if not w in stop_words], axis=1)\n",
    "        "
   ]
  },
  {
   "cell_type": "code",
   "execution_count": 3,
   "metadata": {},
   "outputs": [],
   "source": [
    "# Die Datei sollte in dem selben Verzeichnis liegen, wie das notebook\n",
    "# bitte den Pfad NICHT ändern, sodass es bei mir gleich durchläuft!\n",
    "df = pd.read_csv('data_beleg.csv', encoding='utf-8')\n",
    "\n",
    "# The column \"label\" is the target variable y which should be predicted"
   ]
  },
  {
   "cell_type": "code",
   "execution_count": 4,
   "metadata": {},
   "outputs": [
    {
     "data": {
      "text/html": [
       "<div>\n",
       "<style scoped>\n",
       "    .dataframe tbody tr th:only-of-type {\n",
       "        vertical-align: middle;\n",
       "    }\n",
       "\n",
       "    .dataframe tbody tr th {\n",
       "        vertical-align: top;\n",
       "    }\n",
       "\n",
       "    .dataframe thead th {\n",
       "        text-align: right;\n",
       "    }\n",
       "</style>\n",
       "<table border=\"1\" class=\"dataframe\">\n",
       "  <thead>\n",
       "    <tr style=\"text-align: right;\">\n",
       "      <th></th>\n",
       "      <th>Unnamed: 0</th>\n",
       "      <th>title</th>\n",
       "      <th>text</th>\n",
       "      <th>label</th>\n",
       "    </tr>\n",
       "  </thead>\n",
       "  <tbody>\n",
       "    <tr>\n",
       "      <th>0</th>\n",
       "      <td>3250</td>\n",
       "      <td>Strawberry Pistachio Crumble A Spicy Perspective</td>\n",
       "      <td>When you re out in the berry patch drinking in...</td>\n",
       "      <td>1</td>\n",
       "    </tr>\n",
       "    <tr>\n",
       "      <th>1</th>\n",
       "      <td>4311</td>\n",
       "      <td>BBC News Study links Parkinson s disease to in...</td>\n",
       "      <td>13 November 2011 Last updated at 23 57 ET By N...</td>\n",
       "      <td>1</td>\n",
       "    </tr>\n",
       "    <tr>\n",
       "      <th>2</th>\n",
       "      <td>6544</td>\n",
       "      <td>Want to know the effect of a nuclear bomb on y...</td>\n",
       "      <td>By Damien Gayle UPDATED 13 12 EST 16 February ...</td>\n",
       "      <td>1</td>\n",
       "    </tr>\n",
       "    <tr>\n",
       "      <th>3</th>\n",
       "      <td>5328</td>\n",
       "      <td>Japanese Nail Art by NeverTooMuchGlitter by Ne...</td>\n",
       "      <td>Check out my featured work in the August Septe...</td>\n",
       "      <td>0</td>\n",
       "    </tr>\n",
       "    <tr>\n",
       "      <th>4</th>\n",
       "      <td>1402</td>\n",
       "      <td>How the New 5 Euro Bill is Made</td>\n",
       "      <td>A new 5 euro note will be circulating starting...</td>\n",
       "      <td>1</td>\n",
       "    </tr>\n",
       "    <tr>\n",
       "      <th>...</th>\n",
       "      <td>...</td>\n",
       "      <td>...</td>\n",
       "      <td>...</td>\n",
       "      <td>...</td>\n",
       "    </tr>\n",
       "    <tr>\n",
       "      <th>4646</th>\n",
       "      <td>2708</td>\n",
       "      <td>Halloween Dessert Recipe Chocolate Abyss hallo...</td>\n",
       "      <td>This delicious dish was created for the M M s ...</td>\n",
       "      <td>0</td>\n",
       "    </tr>\n",
       "    <tr>\n",
       "      <th>4647</th>\n",
       "      <td>6324</td>\n",
       "      <td>eat me delicious Cauliflower Gratin</td>\n",
       "      <td>Looking at this picture I m not sure if you ca...</td>\n",
       "      <td>1</td>\n",
       "    </tr>\n",
       "    <tr>\n",
       "      <th>4648</th>\n",
       "      <td>2777</td>\n",
       "      <td>Unusual Medical Uses For Duct Tape</td>\n",
       "      <td>Duct Tape is possibly the most incredible inve...</td>\n",
       "      <td>1</td>\n",
       "    </tr>\n",
       "    <tr>\n",
       "      <th>4649</th>\n",
       "      <td>1508</td>\n",
       "      <td>Reporter Flips Out from That Happened reporter...</td>\n",
       "      <td>reporter flips out, news blooper, bug, south,...</td>\n",
       "      <td>0</td>\n",
       "    </tr>\n",
       "    <tr>\n",
       "      <th>4650</th>\n",
       "      <td>5336</td>\n",
       "      <td>Top 10 Web 2 0 Startups Taking Over the World</td>\n",
       "      <td>Written By Drew August 22nd 2011 If one looks ...</td>\n",
       "      <td>0</td>\n",
       "    </tr>\n",
       "  </tbody>\n",
       "</table>\n",
       "<p>4651 rows × 4 columns</p>\n",
       "</div>"
      ],
      "text/plain": [
       "      Unnamed: 0                                              title  \\\n",
       "0           3250  Strawberry Pistachio Crumble A Spicy Perspective    \n",
       "1           4311  BBC News Study links Parkinson s disease to in...   \n",
       "2           6544  Want to know the effect of a nuclear bomb on y...   \n",
       "3           5328  Japanese Nail Art by NeverTooMuchGlitter by Ne...   \n",
       "4           1402                   How the New 5 Euro Bill is Made    \n",
       "...          ...                                                ...   \n",
       "4646        2708  Halloween Dessert Recipe Chocolate Abyss hallo...   \n",
       "4647        6324               eat me delicious Cauliflower Gratin    \n",
       "4648        2777                Unusual Medical Uses For Duct Tape    \n",
       "4649        1508  Reporter Flips Out from That Happened reporter...   \n",
       "4650        5336     Top 10 Web 2 0 Startups Taking Over the World    \n",
       "\n",
       "                                                   text  label  \n",
       "0     When you re out in the berry patch drinking in...      1  \n",
       "1     13 November 2011 Last updated at 23 57 ET By N...      1  \n",
       "2     By Damien Gayle UPDATED 13 12 EST 16 February ...      1  \n",
       "3     Check out my featured work in the August Septe...      0  \n",
       "4     A new 5 euro note will be circulating starting...      1  \n",
       "...                                                 ...    ...  \n",
       "4646  This delicious dish was created for the M M s ...      0  \n",
       "4647  Looking at this picture I m not sure if you ca...      1  \n",
       "4648  Duct Tape is possibly the most incredible inve...      1  \n",
       "4649   reporter flips out, news blooper, bug, south,...      0  \n",
       "4650  Written By Drew August 22nd 2011 If one looks ...      0  \n",
       "\n",
       "[4651 rows x 4 columns]"
      ]
     },
     "execution_count": 4,
     "metadata": {},
     "output_type": "execute_result"
    }
   ],
   "source": [
    "df"
   ]
  },
  {
   "cell_type": "markdown",
   "metadata": {},
   "source": [
    "# Bericht\n",
    "\n",
    "## Bewertung der Daten\n",
    "\n",
    "Lorem ipsum dolor sit amet, consetetur sadipscing elitr, sed diam nonumy eirmod tempor invidunt ut labore et dolore magna aliquyam erat, sed diam voluptua. At vero eos et accusam et justo duo dolores et ea rebum. Stet clita kasd gubergren, no sea takimata sanctus est Lorem ipsum dolor sit amet. Lorem ipsum dolor sit amet, consetetur sadipscing elitr, sed diam nonumy eirmod tempor invidunt ut labore et dolore magna aliquyam erat, sed diam voluptua. At vero eos et accusam et justo duo dolores et ea rebum. Stet clita kasd gubergren, no sea takimata sanctus est Lorem ipsum dolor sit amet."
   ]
  },
  {
   "cell_type": "markdown",
   "metadata": {},
   "source": [
    "Hier ist natürlich auch Code erlaubt. Es sollte aber übersichtlich bleiben!\n",
    "\n",
    "Graphiken können auch mit Code erzeugt werden. Helper Funktionen eventuell in Code-Bereich auslagern. "
   ]
  },
  {
   "cell_type": "markdown",
   "metadata": {
    "slideshow": {
     "slide_type": "notes"
    }
   },
   "source": [
    "## Text Feature Extraction\n",
    "Tokenizer -> Text Vektorisierung mit Bag of Words + TF-IDF (Erklärung und Exkurs mit Skicit learn)\n",
    "* Bag of Words (BoW): BoW ist eine einfache Repräsentation, die in \"Natural Language Processing\" und \"Information Retrieval verwendet werden. In diesem Model wird Text als ein \"Bag\" von Worten repräsentiert, unabhängigt von Grammatik oder sogar Reihenfolge, aber die Anzahl der Erscheinungen (Häufigkeit) eines Wortes wird behalten. z.B: \"How the New 5 Euro Bill is Made, A new 5 euro note will be circulating starting\", \" wird so repräsentiert: \n",
    "    \n",
    "    {\"how\":1, \"the\":1, \"new\": 2, \"5\": 2, \"euro\": 2, \"bill\": 1, \"is\": 1, \"made\": 1, \"a\": 1, \"note\": 1, \"will\": 1, \"be\": 1, \"circulating\": 1, \"starting\": 1}\n",
    "    \n",
    "    \n",
    "* Das BoW Model hat auch einen Nachteil beim Text Klassifikator. Nur die Häufigkeit der Worten ist nicht genug für Klassifikation. Die übliche Worte wie (Deutsch) \"der\", \"die\", \"das\" spielen beim Traning des Klassifikators nah zu keine Rolle und können sogar das Ergebnis des Tranings negativ beeinflussen. Dieser Nachteil lässt sich in der Praxis meist mit Tf-idf Algorithmus ausgleichen, indem Worte anhand deren Häufigkeit in einem Dokument und der Häufigkeit in einem Satz von Dokumenten gewichtet werden. Wenn ein Wort häufig in einem Dokument erscheint, jedoch nicht in anderen Dokumenten, hat das Wort eine größere Wichtung. Wenn ein Wort überall häufig erscheint, ist das möglicherweise unwichtig und wird runter bewerten. Ziel des Algorithmus ist, die häufig vorkommende Worte wie \"der\", \"die\", \"das\" zu normalisieren, weil die nicht wichtig für das Training sind.\n",
    "\n",
    "\n",
    "* Die Kombination von BoW und Tf-idf lässt sich sehr einfach mit Scikit-learn implementieren. Die Klasse \"CountVectorizer\" und \"TfidfTransformer\" vom Paket \"sklearn.feature_extraction.text\" können in der Pipeline verwendet werden. \n",
    "\n",
    "    Nachfolgend ein Beispiel, wie die Pipeline aussehen könnte:\n",
    "\n",
    "```python\n",
    "from sklearn.feature_extraction.text import CountVectorizer\n",
    "from sklearn.feature_extraction.text import TfidfTransformer\n",
    "from sklearn.pipeline import Pipeline\n",
    "\n",
    "text_clf_svm = Pipeline([('vect', CountVectorizer()),\n",
    "                          ('tfidf', TfidfTransformer())\n",
    "                         #weitere Elemente für Pipeline\n",
    "                        ])\n",
    "\n",
    "```\n",
    "\n",
    "### Exkurs: Einsatz eines Stemmer\n",
    "Beispiel: https://www.datacamp.com/community/tutorials/stemming-lemmatization-python"
   ]
  },
  {
   "cell_type": "markdown",
   "metadata": {},
   "source": [
    "## Feature Selection\n",
    "### Feature Selection mittels Mutual Information"
   ]
  },
  {
   "cell_type": "markdown",
   "metadata": {},
   "source": [
    "## Training Klassifikator \n",
    "### Tunning Parameter für jedes Model Grid Search / Random Search\n",
    "\n",
    "Für jedes Model, das man für das Training verwenden würde, sind die Parameter ein unverzichbarer Teil. z.B beim Random Forest sind die Parameter beispielsweise: n_estimators, max_features, max_depth, min_samples_split.  Unterschiedliche Parameter Kombinationen beeinflussen die Genauigkeit des Models und der Vorhersage. Abhängigt von konkreten Problem und Anzahl der vorhandenen Daten sind die passende Parameter unterschiedlich. Es ist notwendig, verschiedene Parameter auszuprobieren, um die optimalen Parameter zu finden.\n",
    "\n",
    "In der Praxis werden hauptsächlich zwei Methode verwendet, um Hyperparameter zu finden. Die sind \"Grid Search\" und \"Random Search\". Nachfolgend werden die Methode beschrieben.\n",
    "\n",
    "* Grid Search: Grid Search probiert alle Kombination von Parametern aus und berechnet die Genauigkeit des Models. Der große Vorteil dieser Methode ist, dass keine Kombination von Parametern verpasst wird, und die optimalste Parameter werden korrekt ermittelt. Demgegenüber muss man allerdings damit rechnen, dass die Versuche so lange dauern könnten, wenn es zahlreiche Parameter geben würde. Es könnte Stunde, Tage und sogar Monaten dauern.\n",
    "* Random Search: Wie der Name der Methode besagt, bei Random Search werden nur zufällige Kombinationen ausprobiert. Das heiß also, dass nicht alle Kombinationen für die Ermittlung der Genauigkeit verwendet werden und die optimalste Hyperparametern könnten verpasst werden. Im Vergleich zu Grid Search ist Random Search schneller, aber wegen dessen könnter die optimalste Kombination der Hyperparametern nicht korrekt ermittelt werden. Random Search wird empfohlen, wenn der Search Raum mehr als drei Dimensionen hat. Random Search wäre zeitlich effizienter, wenn es zu viele Parameter gibt.\n",
    "\n",
    "Beider oben genannte Methode lassen sich mit scikit-learn implementieren. Nachfolgend werden Random Search verwendet, um die besten Hyperparameter für jedes Model zu finden.\n",
    "\n",
    "### Logistic Regression Model\n",
    "### Naive Bayes Model\n",
    "### Linear Support Vector Machine ???\n",
    "### Random Forest"
   ]
  },
  {
   "cell_type": "markdown",
   "metadata": {},
   "source": [
    "## Evaluation"
   ]
  },
  {
   "cell_type": "code",
   "execution_count": 5,
   "metadata": {},
   "outputs": [
    {
     "name": "stdout",
     "output_type": "stream",
     "text": [
      "Lorem ipsum dolor sit amet\n"
     ]
    }
   ],
   "source": [
    "print (\"Lorem ipsum dolor sit amet\")"
   ]
  },
  {
   "cell_type": "markdown",
   "metadata": {},
   "source": [
    "Eventuell auch Formeln zur Erläuterung,\n",
    "\n",
    "$$\n",
    "\\text{BLU} = \\int_0^1 f(x) dx\n",
    "$$"
   ]
  },
  {
   "cell_type": "markdown",
   "metadata": {},
   "source": [
    "#### Unterpunkt 1\n",
    "\n",
    "At vero eos et accusam et justo duo dolores et ea rebum. Stet "
   ]
  },
  {
   "cell_type": "code",
   "execution_count": 6,
   "metadata": {},
   "outputs": [],
   "source": [
    "class NaiveBayesModel(object):\n",
    "    def __init__(self):\n",
    "        self.base_clf = self._init_pipeline()\n",
    "        self.snowballStemmer_clf = self._init_snowballStemmer_pipeline()\n",
    "        self.porterStemmer_clf=self._init_porterStemmer_pipeline()\n",
    "        self.lancastersStemmer_clf=self._init_lancastersStemmer_pipeline()\n",
    "        self.wordNetLemmatizer_clf=self._init_wordNetLemmatizer_pipeline()\n",
    "    @staticmethod\n",
    "    def lancasterstemmed_words(doc):\n",
    "        stemmer=LancasterStemmer()\n",
    "        return (stemmer.stem(w) for w in analyzer(doc))\n",
    "    @staticmethod\n",
    "    def porterstemmed_words(doc):\n",
    "        stemmer=PorterStemmer()\n",
    "        return (stemmer.stem(w) for w in analyzer(doc))\n",
    "    @staticmethod\n",
    "    def snowballstemmed_words(doc):\n",
    "        stemmer=SnowballStemmer(\"english\")\n",
    "        return (stemmer.stem(w) for w in analyzer(doc))\n",
    "    @staticmethod\n",
    "    def wordNetLemmatized_words(doc):\n",
    "        lemmatizer=WordNetLemmatizer()\n",
    "        return (lemmatizer.lemmatize(w) for w in analyzer(doc))\n",
    "    \n",
    "    @staticmethod\n",
    "    def _init_pipeline():\n",
    "        pipe_line = Pipeline([\n",
    "            (\"vect\", CountVectorizer()),#bag-of-words\n",
    "            (\"tfidf\", TfidfTransformer()),#tf-idf\n",
    "            (\"clf\", MultinomialNB())#model naive bayes\n",
    "        ])\n",
    "        return pipe_line\n",
    "    \n",
    "    @staticmethod\n",
    "    def _init_snowballStemmer_pipeline():\n",
    "            pipe_line = Pipeline([\n",
    "               (\"vect\", CountVectorizer(\"english\", analyzer=NaiveBayesModel.snowballstemmed_words)),#bag-of-words\n",
    "               (\"tfidf\", TfidfTransformer()),#tf-idf\n",
    "               (\"clf\", MultinomialNB())#model naive bayes\n",
    "            ])\n",
    "            return pipe_line\n",
    "    @staticmethod\n",
    "    def _init_lancastersStemmer_pipeline():\n",
    "            pipe_line = Pipeline([\n",
    "               (\"vect\", CountVectorizer(\"english\", analyzer=NaiveBayesModel.lancasterstemmed_words)),#bag-of-words\n",
    "               (\"tfidf\", TfidfTransformer()),#tf-idf\n",
    "               (\"clf\", MultinomialNB())#model naive bayes\n",
    "            ])\n",
    "            return pipe_line\n",
    "    @staticmethod\n",
    "    def _init_porterStemmer_pipeline():\n",
    "            pipe_line = Pipeline([\n",
    "               (\"vect\", CountVectorizer(\"english\", analyzer=NaiveBayesModel.porterstemmed_words)),#bag-of-words\n",
    "               (\"tfidf\", TfidfTransformer()),#tf-idf\n",
    "               (\"clf\", MultinomialNB())#model naive bayes\n",
    "            ])\n",
    "            return pipe_line\n",
    "    @staticmethod\n",
    "    def _init_wordNetLemmatizer_pipeline():\n",
    "            pipe_line = Pipeline([\n",
    "               (\"vect\", CountVectorizer(\"english\", analyzer=NaiveBayesModel.wordNetLemmatized_words)),#bag-of-words\n",
    "               (\"tfidf\", TfidfTransformer()),#tf-idf\n",
    "               (\"clf\", MultinomialNB())#model naive bayes\n",
    "            ])\n",
    "            return pipe_line"
   ]
  },
  {
   "cell_type": "code",
   "execution_count": 7,
   "metadata": {},
   "outputs": [
    {
     "name": "stdout",
     "output_type": "stream",
     "text": [
      "Höher sollte Besser sein?\n",
      "Base\n",
      "0.6016977784700087\n",
      "porter\n",
      "0.5558632190951408\n",
      "snowball\n",
      "0.5560454224103998\n",
      "porter\n",
      "0.5617889916571234\n",
      "wordNet\n",
      "0.5184533135806567\n"
     ]
    }
   ],
   "source": [
    "analyzer = CountVectorizer().build_analyzer()\n",
    "nBm=NaiveBayesModel()\n",
    "\n",
    "train, test = train_test_split(df, test_size=0.1)\n",
    "df_test = pd.DataFrame(test)\n",
    "\n",
    "base_clf = nBm.base_clf.fit(train[\"title\"],train.label)\n",
    "porter_clf = nBm.porterStemmer_clf.fit(train[\"title\"],train.label)\n",
    "snowball_clf = nBm.snowballStemmer_clf.fit(train[\"title\"],train.label)\n",
    "lancaster_clf = nBm.lancastersStemmer_clf.fit(train[\"title\"],train.label)\n",
    "wordNetLemmatizer_clf = nBm.wordNetLemmatizer_clf.fit(train[\"title\"],train.label)\n",
    "test_data=[]\n",
    "test_data.append({\"title\": \"Unusual Medical Uses For Duct Tape \t\", \"target\": \"1\"})\n",
    "\n",
    "print(\"Höher sollte Besser sein?\")\n",
    "predict = base_clf.predict(df_test[\"title\"])\n",
    "print(\"Base\")\n",
    "print(base_clf.predict_proba(df_test[\"title\"])[0][1])\n",
    "\n",
    "\n",
    "predict = porter_clf.predict(df_test[\"title\"])\n",
    "print(\"porter\")\n",
    "print(porter_clf.predict_proba(df_test[\"title\"])[0][1])\n",
    "\n",
    "\n",
    "predict = snowball_clf.predict(df_test[\"title\"])\n",
    "print(\"snowball\")\n",
    "print(snowball_clf.predict_proba(df_test[\"title\"])[0][1])\n",
    "\n",
    "predict = lancaster_clf.predict(df_test[\"title\"])\n",
    "print(\"porter\")\n",
    "print(lancaster_clf.predict_proba(df_test[\"title\"])[0][1])\n",
    "\n",
    "predict = wordNetLemmatizer_clf.predict(df_test[\"title\"])\n",
    "print(\"wordNet\")\n",
    "print(wordNetLemmatizer_clf.predict_proba(df_test[\"title\"])[0][1])\n"
   ]
  },
  {
   "cell_type": "code",
   "execution_count": null,
   "metadata": {},
   "outputs": [],
   "source": []
  },
  {
   "cell_type": "code",
   "execution_count": 15,
   "metadata": {},
   "outputs": [
    {
     "data": {
      "image/png": "[encoded data removed]",
      "text/plain": [
       "<Figure size 432x288 with 1 Axes>"
      ]
     },
     "metadata": {
      "needs_background": "light"
     },
     "output_type": "display_data"
    }
   ],
   "source": [
    "svc_disp = metrics.plot_roc_curve(base_clf, df_test[\"title\"], df_test[\"label\"],  name=\"base\")\n",
    "rfc_disp =  metrics.plot_roc_curve(porter_clf,df_test[\"title\"], df_test[\"label\"],name=\"porter\", ax=svc_disp.ax_)\n",
    "rfc_disp =  metrics.plot_roc_curve(snowball_clf,df_test[\"title\"], df_test[\"label\"],name=\"snowball\", ax=svc_disp.ax_)\n",
    "rfc_disp =  metrics.plot_roc_curve(lancaster_clf,df_test[\"title\"], df_test[\"label\"],name=\"lancaster\", ax=svc_disp.ax_)\n",
    "rfc_disp =  metrics.plot_roc_curve(wordNetLemmatizer_clf,df_test[\"title\"], df_test[\"label\"],name=\"lemmatizer\", ax=svc_disp.ax_)\n",
    "\n",
    "rfc_disp.figure_.suptitle(\"ROC curve comparison\")\n",
    "\n",
    "plt.show()"
   ]
  },
  {
   "cell_type": "markdown",
   "metadata": {},
   "source": [
    "### Evaluation auf der Testmenge"
   ]
  },
  {
   "cell_type": "code",
   "execution_count": 17,
   "metadata": {},
   "outputs": [],
   "source": [
    "# Da Sie das Test-Set nicht haben, Führen Sie dies mit den ursprünglichen Daten durch:\n",
    "df_test = pd.read_csv('data_beleg.csv', encoding='utf-8')\n",
    "# Wird von mir ersetzt durch\n",
    "# df_test = pd.read_csv('data_test.csv', encoding='utf-8')\n",
    "# und sollte dann auch durchlaufen!"
   ]
  },
  {
   "cell_type": "code",
   "execution_count": 18,
   "metadata": {},
   "outputs": [],
   "source": [
    "y_test_true = ... # Variable für die Ground Truth des Test-Datensatzes. "
   ]
  },
  {
   "cell_type": "code",
   "execution_count": 19,
   "metadata": {},
   "outputs": [],
   "source": [
    "# Wenden Sie hier ihre Vorverarbeitung/Klassifikation ihres entgültigen Modells \n",
    "# an. \n",
    "\n",
    "# In dieser Variable sollte die Vorhersagewahrscheinlichkeit für die positive Klasse\n",
    "# p(y=1 | x) gespeichte sein.\n",
    "y_test_prob_class_1 = ... "
   ]
  },
  {
   "cell_type": "code",
   "execution_count": 63,
   "metadata": {},
   "outputs": [],
   "source": [
    "# This is the ROC-AUC evaluation metric for the test data set:\n",
    "sklearn.metrics.roc_auc_score(y_test_true, y_test_prob_class_1)"
   ]
  },
  {
   "cell_type": "markdown",
   "metadata": {},
   "source": [
    "### Literaturverzeichnis\n",
    "\n"
   ]
  }
 ],
 "metadata": {
  "celltoolbar": "Slideshow",
  "kernelspec": {
   "display_name": "Python 3",
   "language": "python",
   "name": "python3"
  },
  "language_info": {
   "codemirror_mode": {
    "name": "ipython",
    "version": 3
   },
   "file_extension": ".py",
   "mimetype": "text/x-python",
   "name": "python",
   "nbconvert_exporter": "python",
   "pygments_lexer": "ipython3",
   "version": "3.7.0"
  }
 },
 "nbformat": 4,
 "nbformat_minor": 4
}
